{
  "cells": [
    {
      "cell_type": "code",
      "execution_count": null,
      "id": "d1cf3731-38ce-40c3-ae0b-7698549899be",
      "metadata": {
        "colab": {
          "base_uri": "https://localhost:8080/"
        },
        "collapsed": true,
        "id": "d1cf3731-38ce-40c3-ae0b-7698549899be",
        "outputId": "d28b511c-5c3f-4a2d-89ef-a90e8a5519b6"
      },
      "outputs": [
        {
          "output_type": "stream",
          "name": "stdout",
          "text": [
            "Requirement already satisfied: graphviz in /usr/local/lib/python3.10/dist-packages (0.20.3)\n",
            "Requirement already satisfied: ipywidgets in /usr/local/lib/python3.10/dist-packages (7.7.1)\n",
            "Requirement already satisfied: numpy in /usr/local/lib/python3.10/dist-packages (1.26.4)\n",
            "Requirement already satisfied: pydot in /usr/local/lib/python3.10/dist-packages (1.4.2)\n",
            "Requirement already satisfied: scikit-learn in /usr/local/lib/python3.10/dist-packages (1.3.2)\n",
            "Requirement already satisfied: ipykernel>=4.5.1 in /usr/local/lib/python3.10/dist-packages (from ipywidgets) (5.5.6)\n",
            "Requirement already satisfied: ipython-genutils~=0.2.0 in /usr/local/lib/python3.10/dist-packages (from ipywidgets) (0.2.0)\n",
            "Requirement already satisfied: traitlets>=4.3.1 in /usr/local/lib/python3.10/dist-packages (from ipywidgets) (5.7.1)\n",
            "Requirement already satisfied: widgetsnbextension~=3.6.0 in /usr/local/lib/python3.10/dist-packages (from ipywidgets) (3.6.9)\n",
            "Requirement already satisfied: ipython>=4.0.0 in /usr/local/lib/python3.10/dist-packages (from ipywidgets) (7.34.0)\n",
            "Requirement already satisfied: jupyterlab-widgets>=1.0.0 in /usr/local/lib/python3.10/dist-packages (from ipywidgets) (3.0.13)\n",
            "Requirement already satisfied: pyparsing>=2.1.4 in /usr/local/lib/python3.10/dist-packages (from pydot) (3.1.4)\n",
            "Requirement already satisfied: scipy>=1.5.0 in /usr/local/lib/python3.10/dist-packages (from scikit-learn) (1.13.1)\n",
            "Requirement already satisfied: joblib>=1.1.1 in /usr/local/lib/python3.10/dist-packages (from scikit-learn) (1.4.2)\n",
            "Requirement already satisfied: threadpoolctl>=2.0.0 in /usr/local/lib/python3.10/dist-packages (from scikit-learn) (3.5.0)\n",
            "Requirement already satisfied: jupyter-client in /usr/local/lib/python3.10/dist-packages (from ipykernel>=4.5.1->ipywidgets) (6.1.12)\n",
            "Requirement already satisfied: tornado>=4.2 in /usr/local/lib/python3.10/dist-packages (from ipykernel>=4.5.1->ipywidgets) (6.3.3)\n",
            "Requirement already satisfied: setuptools>=18.5 in /usr/local/lib/python3.10/dist-packages (from ipython>=4.0.0->ipywidgets) (71.0.4)\n",
            "Collecting jedi>=0.16 (from ipython>=4.0.0->ipywidgets)\n",
            "  Using cached jedi-0.19.1-py2.py3-none-any.whl.metadata (22 kB)\n",
            "Requirement already satisfied: decorator in /usr/local/lib/python3.10/dist-packages (from ipython>=4.0.0->ipywidgets) (4.4.2)\n",
            "Requirement already satisfied: pickleshare in /usr/local/lib/python3.10/dist-packages (from ipython>=4.0.0->ipywidgets) (0.7.5)\n",
            "Requirement already satisfied: prompt-toolkit!=3.0.0,!=3.0.1,<3.1.0,>=2.0.0 in /usr/local/lib/python3.10/dist-packages (from ipython>=4.0.0->ipywidgets) (3.0.47)\n",
            "Requirement already satisfied: pygments in /usr/local/lib/python3.10/dist-packages (from ipython>=4.0.0->ipywidgets) (2.16.1)\n",
            "Requirement already satisfied: backcall in /usr/local/lib/python3.10/dist-packages (from ipython>=4.0.0->ipywidgets) (0.2.0)\n",
            "Requirement already satisfied: matplotlib-inline in /usr/local/lib/python3.10/dist-packages (from ipython>=4.0.0->ipywidgets) (0.1.7)\n",
            "Requirement already satisfied: pexpect>4.3 in /usr/local/lib/python3.10/dist-packages (from ipython>=4.0.0->ipywidgets) (4.9.0)\n",
            "Requirement already satisfied: notebook>=4.4.1 in /usr/local/lib/python3.10/dist-packages (from widgetsnbextension~=3.6.0->ipywidgets) (6.5.5)\n",
            "Requirement already satisfied: parso<0.9.0,>=0.8.3 in /usr/local/lib/python3.10/dist-packages (from jedi>=0.16->ipython>=4.0.0->ipywidgets) (0.8.4)\n",
            "Requirement already satisfied: jinja2 in /usr/local/lib/python3.10/dist-packages (from notebook>=4.4.1->widgetsnbextension~=3.6.0->ipywidgets) (3.1.4)\n",
            "Requirement already satisfied: pyzmq<25,>=17 in /usr/local/lib/python3.10/dist-packages (from notebook>=4.4.1->widgetsnbextension~=3.6.0->ipywidgets) (24.0.1)\n",
            "Requirement already satisfied: argon2-cffi in /usr/local/lib/python3.10/dist-packages (from notebook>=4.4.1->widgetsnbextension~=3.6.0->ipywidgets) (23.1.0)\n",
            "Requirement already satisfied: jupyter-core>=4.6.1 in /usr/local/lib/python3.10/dist-packages (from notebook>=4.4.1->widgetsnbextension~=3.6.0->ipywidgets) (5.7.2)\n",
            "Requirement already satisfied: nbformat in /usr/local/lib/python3.10/dist-packages (from notebook>=4.4.1->widgetsnbextension~=3.6.0->ipywidgets) (5.10.4)\n",
            "Requirement already satisfied: nbconvert>=5 in /usr/local/lib/python3.10/dist-packages (from notebook>=4.4.1->widgetsnbextension~=3.6.0->ipywidgets) (6.5.4)\n",
            "Requirement already satisfied: nest-asyncio>=1.5 in /usr/local/lib/python3.10/dist-packages (from notebook>=4.4.1->widgetsnbextension~=3.6.0->ipywidgets) (1.6.0)\n",
            "Requirement already satisfied: Send2Trash>=1.8.0 in /usr/local/lib/python3.10/dist-packages (from notebook>=4.4.1->widgetsnbextension~=3.6.0->ipywidgets) (1.8.3)\n",
            "Requirement already satisfied: terminado>=0.8.3 in /usr/local/lib/python3.10/dist-packages (from notebook>=4.4.1->widgetsnbextension~=3.6.0->ipywidgets) (0.18.1)\n",
            "Requirement already satisfied: prometheus-client in /usr/local/lib/python3.10/dist-packages (from notebook>=4.4.1->widgetsnbextension~=3.6.0->ipywidgets) (0.20.0)\n",
            "Requirement already satisfied: nbclassic>=0.4.7 in /usr/local/lib/python3.10/dist-packages (from notebook>=4.4.1->widgetsnbextension~=3.6.0->ipywidgets) (1.1.0)\n",
            "Requirement already satisfied: python-dateutil>=2.1 in /usr/local/lib/python3.10/dist-packages (from jupyter-client->ipykernel>=4.5.1->ipywidgets) (2.8.2)\n",
            "Requirement already satisfied: ptyprocess>=0.5 in /usr/local/lib/python3.10/dist-packages (from pexpect>4.3->ipython>=4.0.0->ipywidgets) (0.7.0)\n",
            "Requirement already satisfied: wcwidth in /usr/local/lib/python3.10/dist-packages (from prompt-toolkit!=3.0.0,!=3.0.1,<3.1.0,>=2.0.0->ipython>=4.0.0->ipywidgets) (0.2.13)\n",
            "Requirement already satisfied: platformdirs>=2.5 in /usr/local/lib/python3.10/dist-packages (from jupyter-core>=4.6.1->notebook>=4.4.1->widgetsnbextension~=3.6.0->ipywidgets) (4.3.2)\n",
            "Requirement already satisfied: notebook-shim>=0.2.3 in /usr/local/lib/python3.10/dist-packages (from nbclassic>=0.4.7->notebook>=4.4.1->widgetsnbextension~=3.6.0->ipywidgets) (0.2.4)\n",
            "Requirement already satisfied: lxml in /usr/local/lib/python3.10/dist-packages (from nbconvert>=5->notebook>=4.4.1->widgetsnbextension~=3.6.0->ipywidgets) (4.9.4)\n",
            "Requirement already satisfied: beautifulsoup4 in /usr/local/lib/python3.10/dist-packages (from nbconvert>=5->notebook>=4.4.1->widgetsnbextension~=3.6.0->ipywidgets) (4.12.3)\n",
            "Requirement already satisfied: bleach in /usr/local/lib/python3.10/dist-packages (from nbconvert>=5->notebook>=4.4.1->widgetsnbextension~=3.6.0->ipywidgets) (6.1.0)\n",
            "Requirement already satisfied: defusedxml in /usr/local/lib/python3.10/dist-packages (from nbconvert>=5->notebook>=4.4.1->widgetsnbextension~=3.6.0->ipywidgets) (0.7.1)\n",
            "Requirement already satisfied: entrypoints>=0.2.2 in /usr/local/lib/python3.10/dist-packages (from nbconvert>=5->notebook>=4.4.1->widgetsnbextension~=3.6.0->ipywidgets) (0.4)\n",
            "Requirement already satisfied: jupyterlab-pygments in /usr/local/lib/python3.10/dist-packages (from nbconvert>=5->notebook>=4.4.1->widgetsnbextension~=3.6.0->ipywidgets) (0.3.0)\n",
            "Requirement already satisfied: MarkupSafe>=2.0 in /usr/local/lib/python3.10/dist-packages (from nbconvert>=5->notebook>=4.4.1->widgetsnbextension~=3.6.0->ipywidgets) (2.1.5)\n",
            "Requirement already satisfied: mistune<2,>=0.8.1 in /usr/local/lib/python3.10/dist-packages (from nbconvert>=5->notebook>=4.4.1->widgetsnbextension~=3.6.0->ipywidgets) (0.8.4)\n",
            "Requirement already satisfied: nbclient>=0.5.0 in /usr/local/lib/python3.10/dist-packages (from nbconvert>=5->notebook>=4.4.1->widgetsnbextension~=3.6.0->ipywidgets) (0.10.0)\n",
            "Requirement already satisfied: packaging in /usr/local/lib/python3.10/dist-packages (from nbconvert>=5->notebook>=4.4.1->widgetsnbextension~=3.6.0->ipywidgets) (24.1)\n",
            "Requirement already satisfied: pandocfilters>=1.4.1 in /usr/local/lib/python3.10/dist-packages (from nbconvert>=5->notebook>=4.4.1->widgetsnbextension~=3.6.0->ipywidgets) (1.5.1)\n",
            "Requirement already satisfied: tinycss2 in /usr/local/lib/python3.10/dist-packages (from nbconvert>=5->notebook>=4.4.1->widgetsnbextension~=3.6.0->ipywidgets) (1.3.0)\n",
            "Requirement already satisfied: fastjsonschema>=2.15 in /usr/local/lib/python3.10/dist-packages (from nbformat->notebook>=4.4.1->widgetsnbextension~=3.6.0->ipywidgets) (2.20.0)\n",
            "Requirement already satisfied: jsonschema>=2.6 in /usr/local/lib/python3.10/dist-packages (from nbformat->notebook>=4.4.1->widgetsnbextension~=3.6.0->ipywidgets) (4.23.0)\n",
            "Requirement already satisfied: six>=1.5 in /usr/local/lib/python3.10/dist-packages (from python-dateutil>=2.1->jupyter-client->ipykernel>=4.5.1->ipywidgets) (1.16.0)\n",
            "Requirement already satisfied: argon2-cffi-bindings in /usr/local/lib/python3.10/dist-packages (from argon2-cffi->notebook>=4.4.1->widgetsnbextension~=3.6.0->ipywidgets) (21.2.0)\n",
            "Requirement already satisfied: attrs>=22.2.0 in /usr/local/lib/python3.10/dist-packages (from jsonschema>=2.6->nbformat->notebook>=4.4.1->widgetsnbextension~=3.6.0->ipywidgets) (24.2.0)\n",
            "Requirement already satisfied: jsonschema-specifications>=2023.03.6 in /usr/local/lib/python3.10/dist-packages (from jsonschema>=2.6->nbformat->notebook>=4.4.1->widgetsnbextension~=3.6.0->ipywidgets) (2023.12.1)\n",
            "Requirement already satisfied: referencing>=0.28.4 in /usr/local/lib/python3.10/dist-packages (from jsonschema>=2.6->nbformat->notebook>=4.4.1->widgetsnbextension~=3.6.0->ipywidgets) (0.35.1)\n",
            "Requirement already satisfied: rpds-py>=0.7.1 in /usr/local/lib/python3.10/dist-packages (from jsonschema>=2.6->nbformat->notebook>=4.4.1->widgetsnbextension~=3.6.0->ipywidgets) (0.20.0)\n",
            "Requirement already satisfied: jupyter-server<3,>=1.8 in /usr/local/lib/python3.10/dist-packages (from notebook-shim>=0.2.3->nbclassic>=0.4.7->notebook>=4.4.1->widgetsnbextension~=3.6.0->ipywidgets) (1.24.0)\n",
            "Requirement already satisfied: cffi>=1.0.1 in /usr/local/lib/python3.10/dist-packages (from argon2-cffi-bindings->argon2-cffi->notebook>=4.4.1->widgetsnbextension~=3.6.0->ipywidgets) (1.17.1)\n",
            "Requirement already satisfied: soupsieve>1.2 in /usr/local/lib/python3.10/dist-packages (from beautifulsoup4->nbconvert>=5->notebook>=4.4.1->widgetsnbextension~=3.6.0->ipywidgets) (2.6)\n",
            "Requirement already satisfied: webencodings in /usr/local/lib/python3.10/dist-packages (from bleach->nbconvert>=5->notebook>=4.4.1->widgetsnbextension~=3.6.0->ipywidgets) (0.5.1)\n",
            "Requirement already satisfied: pycparser in /usr/local/lib/python3.10/dist-packages (from cffi>=1.0.1->argon2-cffi-bindings->argon2-cffi->notebook>=4.4.1->widgetsnbextension~=3.6.0->ipywidgets) (2.22)\n",
            "Requirement already satisfied: anyio<4,>=3.1.0 in /usr/local/lib/python3.10/dist-packages (from jupyter-server<3,>=1.8->notebook-shim>=0.2.3->nbclassic>=0.4.7->notebook>=4.4.1->widgetsnbextension~=3.6.0->ipywidgets) (3.7.1)\n",
            "Requirement already satisfied: websocket-client in /usr/local/lib/python3.10/dist-packages (from jupyter-server<3,>=1.8->notebook-shim>=0.2.3->nbclassic>=0.4.7->notebook>=4.4.1->widgetsnbextension~=3.6.0->ipywidgets) (1.8.0)\n",
            "Requirement already satisfied: idna>=2.8 in /usr/local/lib/python3.10/dist-packages (from anyio<4,>=3.1.0->jupyter-server<3,>=1.8->notebook-shim>=0.2.3->nbclassic>=0.4.7->notebook>=4.4.1->widgetsnbextension~=3.6.0->ipywidgets) (3.8)\n",
            "Requirement already satisfied: sniffio>=1.1 in /usr/local/lib/python3.10/dist-packages (from anyio<4,>=3.1.0->jupyter-server<3,>=1.8->notebook-shim>=0.2.3->nbclassic>=0.4.7->notebook>=4.4.1->widgetsnbextension~=3.6.0->ipywidgets) (1.3.1)\n",
            "Requirement already satisfied: exceptiongroup in /usr/local/lib/python3.10/dist-packages (from anyio<4,>=3.1.0->jupyter-server<3,>=1.8->notebook-shim>=0.2.3->nbclassic>=0.4.7->notebook>=4.4.1->widgetsnbextension~=3.6.0->ipywidgets) (1.2.2)\n",
            "Using cached jedi-0.19.1-py2.py3-none-any.whl (1.6 MB)\n",
            "Installing collected packages: jedi\n",
            "Successfully installed jedi-0.19.1\n"
          ]
        }
      ],
      "source": [
        "pip install graphviz ipywidgets numpy pydot scikit-learn"
      ]
    },
    {
      "cell_type": "code",
      "execution_count": null,
      "id": "6379a722-1475-4105-800f-01a0600f58bf",
      "metadata": {
        "id": "6379a722-1475-4105-800f-01a0600f58bf"
      },
      "outputs": [],
      "source": [
        "import numpy as np\n",
        "from numpy.random import seed, randint\n",
        "import ipywidgets as widgets\n",
        "from ipywidgets import interact, interactive_output, HBox, VBox, Layout\n",
        "from IPython.display import display, clear_output, SVG, HTML\n",
        "import graphviz as gv # for visualizing a tree using Digraph\n",
        "from graphviz import Digraph\n",
        "import pydot\n",
        "import random"
      ]
    },
    {
      "cell_type": "markdown",
      "source": [],
      "metadata": {
        "id": "wOT26QHTdcmc"
      },
      "id": "wOT26QHTdcmc"
    },
    {
      "cell_type": "code",
      "execution_count": null,
      "id": "6948922a-08b5-4226-8896-8553896ef3d6",
      "metadata": {
        "colab": {
          "base_uri": "https://localhost:8080/"
        },
        "id": "6948922a-08b5-4226-8896-8553896ef3d6",
        "outputId": "cc269c87-f379-4d6c-e551-088ec0a163f1"
      },
      "outputs": [
        {
          "output_type": "stream",
          "name": "stdout",
          "text": [
            "Node: 0\n",
            "  Node: 10\n",
            "  Node: 20\n",
            "  Node: 48\n"
          ]
        }
      ],
      "source": [
        "class TreeChildNode:\n",
        "    def __init__(self, key):\n",
        "        self.key = key\n",
        "        self.parent = None\n",
        "\n",
        "    def graphviz_handle(self):\n",
        "        return \"Leaf\" + str(key)\n",
        "\n",
        "    def graphviz_text(self):\n",
        "        return \"K\" + str(key)\n",
        "\n",
        "    def to_string(self):\n",
        "        return str(self.key)\n",
        "\n",
        "    def print_tree(self, indent):\n",
        "        str(\"%sChildNode: %d\" % (indent, self.key))\n",
        "\n",
        "class TreeInternalNode:\n",
        "    def __init__(self, key, child_refs):\n",
        "        self.key = key\n",
        "        self.child_refs = child_refs\n",
        "        self.parent = None\n",
        "        self.left = None\n",
        "        self.right = None\n",
        "\n",
        "    def to_string(self):\n",
        "        return str(self.key)\n",
        "    def print_tree(self, indent):\n",
        "        print(\"%sNode: %d\" % (indent, self.key))\n",
        "        for i in self.child_refs:\n",
        "            i[0].print_tree(indent + \"  \")\n",
        "\n",
        "n10Child = TreeChildNode(10)\n",
        "n13Child = TreeChildNode(13)\n",
        "n18Child = TreeChildNode(18)\n",
        "n20Child = TreeChildNode(20)\n",
        "n24Child = TreeChildNode(24)\n",
        "n35Child = TreeChildNode(35)\n",
        "n48Child = TreeChildNode(48)\n",
        "n50Child = TreeChildNode(50)\n",
        "n62Child = TreeChildNode(62)\n",
        "n10Int = TreeInternalNode(10, [(n10Child, \"DSK\"), (n13Child, \"MEM\"), (n18Child, \"MEM\")])\n",
        "n20Int = TreeInternalNode(20, [(n20Child, \"MEM\"), (n24Child, \"MEM\"), (n35Child, \"MEM\")])\n",
        "n48Int = TreeInternalNode(48, [(n48Child, \"MEM\"), (n50Child, \"MEM\"), (n62Child, \"MEM\")])\n",
        "\n",
        "nRoot = TreeInternalNode(0, [(n10Int, \"MEM\"), (n20Int, \"MEM\"), (n48Int, \"MEM\")])\n",
        "\n",
        "# Create tree by linking the tree nodes\n",
        "n10Child.parent = n10Int\n",
        "n13Child.parent = n10Int\n",
        "n18Child.parent = n10Int\n",
        "n20Child.parent = n20Int\n",
        "n24Child.parent = n20Int\n",
        "n35Child.parent = n20Int\n",
        "n48Child.parent = n48Int\n",
        "n50Child.parent = n48Int\n",
        "n62Child.parent = n48Int\n",
        "n10Int.parent = nRoot\n",
        "n20Int.parent = nRoot\n",
        "n48Int.parent = nRoot\n",
        "\n",
        "nRoot.print_tree(\"\")"
      ]
    },
    {
      "cell_type": "code",
      "execution_count": null,
      "id": "1df07349-a927-4b11-aa38-cb2bf0d1a883",
      "metadata": {
        "colab": {
          "base_uri": "https://localhost:8080/",
          "height": 441,
          "referenced_widgets": [
            "283939953c3245dbb106c5efc0e2297c",
            "34b40caf943e4351b6a898da7203011e",
            "9735d6d3f62f4987a76ec8172ca51bf9",
            "96f061e95cca482db2605d436ac8931c",
            "d44aa415d8ab40359f49ca126f15bee7",
            "488e17c55f774818976655acc69d3812",
            "472ec465366b4607995835f7e50db6c3",
            "8f03a2036a684c0991c30b8bf83f552f",
            "cccce40640af490ca30593bbaa72341c",
            "b9742a35f74e448ba4059380a706b364",
            "6694dc950762442eae6db77a99187229",
            "d03fe22ba33346159773b5c5c1f5b068",
            "875ccd2410da4241baa6a6ed533e0aa7",
            "a4de5ba510244de5bf4bdf269736614e",
            "0b3da3ecbf0f487baa7313fc40ea3287",
            "293507bd184a478aa6468f43ddd7902f",
            "300f77963ac04b5297597f4ad326ce72",
            "7d266cb96a10422eb64053f56e201ee2",
            "5889e6637a2a406eae41f49819711544"
          ]
        },
        "id": "1df07349-a927-4b11-aa38-cb2bf0d1a883",
        "outputId": "b3378623-61ea-4b63-e6a5-87c5ae1402e3"
      },
      "outputs": [
        {
          "output_type": "display_data",
          "data": {
            "text/plain": [
              "interactive(children=(Dropdown(description='crit', options=('gini', 'entropy'), value='gini'), Dropdown(descri…"
            ],
            "application/vnd.jupyter.widget-view+json": {
              "version_major": 2,
              "version_minor": 0,
              "model_id": "283939953c3245dbb106c5efc0e2297c"
            }
          },
          "metadata": {}
        }
      ],
      "source": [
        "from sklearn.tree import DecisionTreeClassifier, export_graphviz\n",
        "from sklearn import tree\n",
        "from sklearn.datasets import load_wine\n",
        "from IPython.display import SVG\n",
        "from graphviz import Source\n",
        "from IPython.display import display\n",
        "from ipywidgets import interactive\n",
        "# load dataset\n",
        "data = load_wine()\n",
        "# feature matrix\n",
        "X = data.data\n",
        "# target vector\n",
        "y = data.target\n",
        "# class labels\n",
        "labels = data.feature_names\n",
        "def plot_tree(crit, split, depth, min_split, min_leaf=0.2):\n",
        "    estimator = DecisionTreeClassifier(random_state = 0\n",
        "      , criterion = crit\n",
        "      , splitter = split\n",
        "      , max_depth = depth\n",
        "      , min_samples_split=min_split\n",
        "      , min_samples_leaf=min_leaf)\n",
        "    estimator.fit(X, y)\n",
        "    graph = Source(tree.export_graphviz(estimator\n",
        "      , out_file=None\n",
        "      , feature_names=labels\n",
        "      , class_names=['0', '1', '2']\n",
        "      , filled = True))\n",
        "\n",
        "    display(SVG(graph.pipe(format='svg')))\n",
        "    return estimator\n",
        "inter=interactive(plot_tree\n",
        "       , crit = [\"gini\", \"entropy\"]\n",
        "       , split = [\"best\", \"random\"]\n",
        "       , depth=[1,2,3,4]\n",
        "       , min_split=(0.1,1)\n",
        "       , min_leaf=(0.1,0.5))\n",
        "display(inter)"
      ]
    },
    {
      "cell_type": "code",
      "execution_count": null,
      "id": "8d08ee8b-e378-4c7b-9f29-429d59467ab2",
      "metadata": {
        "colab": {
          "base_uri": "https://localhost:8080/",
          "height": 192
        },
        "id": "8d08ee8b-e378-4c7b-9f29-429d59467ab2",
        "outputId": "b186f500-19c4-4036-9e9f-e823f9716ad8"
      },
      "outputs": [
        {
          "output_type": "display_data",
          "data": {
            "text/plain": [
              "<IPython.core.display.SVG object>"
            ],
            "image/svg+xml": "<svg xmlns=\"http://www.w3.org/2000/svg\" xmlns:xlink=\"http://www.w3.org/1999/xlink\" width=\"672pt\" height=\"128pt\" viewBox=\"0.00 0.00 672.00 128.00\">\n<g id=\"graph0\" class=\"graph\" transform=\"scale(1 1) rotate(0) translate(4 124)\">\n<title>structs</title>\n<polygon fill=\"white\" stroke=\"transparent\" points=\"-4,4 -4,-124 668,-124 668,4 -4,4\"/>\n<!-- struct3 -->\n<g id=\"node1\" class=\"node\">\n<title>struct3</title>\n<polygon fill=\"none\" stroke=\"black\" points=\"0,-73.5 0,-119.5 305,-119.5 305,-73.5 0,-73.5\"/>\n<text text-anchor=\"middle\" x=\"152.5\" y=\"-104.3\" font-family=\"Times,serif\" font-size=\"14.00\">Reconciled</text>\n<polyline fill=\"none\" stroke=\"black\" points=\"0,-96.5 305,-96.5 \"/>\n<text text-anchor=\"middle\" x=\"30.5\" y=\"-81.3\" font-family=\"Times,serif\" font-size=\"14.00\">K1/addr</text>\n<polyline fill=\"none\" stroke=\"black\" points=\"61,-73.5 61,-96.5 \"/>\n<text text-anchor=\"middle\" x=\"91.5\" y=\"-81.3\" font-family=\"Times,serif\" font-size=\"14.00\">K2/addr</text>\n<polyline fill=\"none\" stroke=\"black\" points=\"122,-73.5 122,-96.5 \"/>\n<text text-anchor=\"middle\" x=\"152.5\" y=\"-81.3\" font-family=\"Times,serif\" font-size=\"14.00\">K3/addr</text>\n<polyline fill=\"none\" stroke=\"black\" points=\"183,-73.5 183,-96.5 \"/>\n<text text-anchor=\"middle\" x=\"213.5\" y=\"-81.3\" font-family=\"Times,serif\" font-size=\"14.00\">K4/addr</text>\n<polyline fill=\"none\" stroke=\"black\" points=\"244,-73.5 244,-96.5 \"/>\n<text text-anchor=\"middle\" x=\"274.5\" y=\"-81.3\" font-family=\"Times,serif\" font-size=\"14.00\">K5/addr</text>\n</g>\n<!-- Internal1 -->\n<g id=\"node2\" class=\"node\">\n<title>Internal1</title>\n<polygon fill=\"none\" stroke=\"black\" points=\"323,-73.5 323,-119.5 664,-119.5 664,-73.5 323,-73.5\"/>\n<text text-anchor=\"middle\" x=\"493.5\" y=\"-104.3\" font-family=\"Times,serif\" font-size=\"14.00\">internal node</text>\n<polyline fill=\"none\" stroke=\"black\" points=\"323,-96.5 664,-96.5 \"/>\n<text text-anchor=\"middle\" x=\"355\" y=\"-81.3\" font-family=\"Times,serif\" font-size=\"14.00\">K1 DSK</text>\n<polyline fill=\"none\" stroke=\"black\" points=\"387,-73.5 387,-96.5 \"/>\n<text text-anchor=\"middle\" x=\"422.5\" y=\"-81.3\" font-family=\"Times,serif\" font-size=\"14.00\">K2 MEM</text>\n<polyline fill=\"none\" stroke=\"black\" points=\"458,-73.5 458,-96.5 \"/>\n<text text-anchor=\"middle\" x=\"493.5\" y=\"-81.3\" font-family=\"Times,serif\" font-size=\"14.00\">K3 MEM</text>\n<polyline fill=\"none\" stroke=\"black\" points=\"529,-73.5 529,-96.5 \"/>\n<text text-anchor=\"middle\" x=\"561\" y=\"-81.3\" font-family=\"Times,serif\" font-size=\"14.00\">K4 DSK</text>\n<polyline fill=\"none\" stroke=\"black\" points=\"593,-73.5 593,-96.5 \"/>\n<text text-anchor=\"middle\" x=\"628.5\" y=\"-81.3\" font-family=\"Times,serif\" font-size=\"14.00\">K5 MEM</text>\n</g>\n<!-- Leaf2 -->\n<g id=\"node3\" class=\"node\">\n<title>Leaf2</title>\n<polygon fill=\"none\" stroke=\"black\" points=\"394.5,-0.5 394.5,-36.5 448.5,-36.5 448.5,-0.5 394.5,-0.5\"/>\n<text text-anchor=\"middle\" x=\"421.5\" y=\"-14.8\" font-family=\"Times,serif\" font-size=\"14.00\">K2</text>\n</g>\n<!-- Internal1&#45;&gt;Leaf2 -->\n<g id=\"edge1\" class=\"edge\">\n<title>Internal1:f2-&gt;Leaf2</title>\n<path fill=\"none\" stroke=\"black\" d=\"M422.5,-73C422.5,-64.51 422.37,-55.26 422.21,-46.88\"/>\n<polygon fill=\"black\" stroke=\"black\" points=\"425.71,-46.77 421.99,-36.85 418.71,-46.92 425.71,-46.77\"/>\n</g>\n<!-- Leaf3 -->\n<g id=\"node4\" class=\"node\">\n<title>Leaf3</title>\n<polygon fill=\"none\" stroke=\"black\" points=\"466.5,-0.5 466.5,-36.5 520.5,-36.5 520.5,-0.5 466.5,-0.5\"/>\n<text text-anchor=\"middle\" x=\"493.5\" y=\"-14.8\" font-family=\"Times,serif\" font-size=\"14.00\">K3</text>\n</g>\n<!-- Internal1&#45;&gt;Leaf3 -->\n<g id=\"edge2\" class=\"edge\">\n<title>Internal1:f3-&gt;Leaf3</title>\n<path fill=\"none\" stroke=\"black\" d=\"M493.5,-73C493.5,-64.51 493.5,-55.26 493.5,-46.88\"/>\n<polygon fill=\"black\" stroke=\"black\" points=\"497,-46.85 493.5,-36.85 490,-46.85 497,-46.85\"/>\n</g>\n<!-- Leaf5 -->\n<g id=\"node5\" class=\"node\">\n<title>Leaf5</title>\n<polygon fill=\"none\" stroke=\"black\" points=\"601.5,-0.5 601.5,-36.5 655.5,-36.5 655.5,-0.5 601.5,-0.5\"/>\n<text text-anchor=\"middle\" x=\"628.5\" y=\"-14.8\" font-family=\"Times,serif\" font-size=\"14.00\">K5</text>\n</g>\n<!-- Internal1&#45;&gt;Leaf5 -->\n<g id=\"edge3\" class=\"edge\">\n<title>Internal1:f5-&gt;Leaf5</title>\n<path fill=\"none\" stroke=\"black\" d=\"M628.5,-73C628.5,-64.51 628.5,-55.26 628.5,-46.88\"/>\n<polygon fill=\"black\" stroke=\"black\" points=\"632,-46.85 628.5,-36.85 625,-46.85 632,-46.85\"/>\n</g>\n</g>\n</svg>"
          },
          "metadata": {}
        }
      ],
      "source": [
        "import graphviz\n",
        "from IPython.display import display\n",
        "\n",
        "s = graphviz.Digraph('structs', filename='structs_revisited.gv',\n",
        "                     node_attr={'shape': 'record'})\n",
        "\n",
        "s.node('struct3', r'{Reconciled |{ K1/addr | K2/addr | K3/addr | K4/addr | K5/addr}}')\n",
        "s.node('Internal1', '{internal node |{<f1> K1 DSK|<f2> K2 MEM|<f3> K3 MEM|<f4> K4 DSK|<f5> K5 MEM}}')\n",
        "s.node('Leaf2', '{K2}')\n",
        "s.node('Leaf3', '{K3}')\n",
        "s.node('Leaf5', '{K5}')\n",
        "\n",
        "s.edges([('Internal1:f2', 'Leaf2'), ('Internal1:f3', 'Leaf3'), ('Internal1:f5', 'Leaf5')])\n",
        "\n",
        "display(SVG(s.pipe(format='svg')))"
      ]
    },
    {
      "cell_type": "code",
      "execution_count": null,
      "id": "85aff7b8-cf09-4230-b1dd-97aa034ba0e2",
      "metadata": {
        "colab": {
          "base_uri": "https://localhost:8080/",
          "height": 205
        },
        "id": "85aff7b8-cf09-4230-b1dd-97aa034ba0e2",
        "outputId": "0bc97bdc-b92c-4910-e747-2f60453d58f9"
      },
      "outputs": [
        {
          "output_type": "display_data",
          "data": {
            "text/plain": [
              "<IPython.core.display.SVG object>"
            ],
            "image/svg+xml": "<svg xmlns=\"http://www.w3.org/2000/svg\" xmlns:xlink=\"http://www.w3.org/1999/xlink\" width=\"246pt\" height=\"138pt\" viewBox=\"0.00 0.00 245.50 138.00\">\n<g id=\"graph0\" class=\"graph\" transform=\"scale(1 1) rotate(0) translate(4 134)\">\n<title>structs</title>\n<polygon fill=\"white\" stroke=\"transparent\" points=\"-4,4 -4,-134 241.5,-134 241.5,4 -4,4\"/>\n<!-- Leaf2 -->\n<g id=\"node1\" class=\"node\">\n<title>Leaf2</title>\n<polygon fill=\"none\" stroke=\"black\" points=\"39.5,-0.5 39.5,-46.5 93.5,-46.5 93.5,-0.5 39.5,-0.5\"/>\n<text text-anchor=\"middle\" x=\"66.5\" y=\"-31.3\" font-family=\"Times,serif\" font-size=\"14.00\">K2</text>\n<polyline fill=\"none\" stroke=\"black\" points=\"39.5,-23.5 93.5,-23.5 \"/>\n<text text-anchor=\"middle\" x=\"66.5\" y=\"-8.3\" font-family=\"Times,serif\" font-size=\"14.00\"> </text>\n</g>\n<!-- Leaf3 -->\n<g id=\"node2\" class=\"node\">\n<title>Leaf3</title>\n<polygon fill=\"none\" stroke=\"black\" points=\"111.5,-0.5 111.5,-46.5 165.5,-46.5 165.5,-0.5 111.5,-0.5\"/>\n<text text-anchor=\"middle\" x=\"138.5\" y=\"-31.3\" font-family=\"Times,serif\" font-size=\"14.00\">K3</text>\n<polyline fill=\"none\" stroke=\"black\" points=\"111.5,-23.5 165.5,-23.5 \"/>\n<text text-anchor=\"middle\" x=\"138.5\" y=\"-8.3\" font-family=\"Times,serif\" font-size=\"14.00\"> </text>\n</g>\n<!-- Leaf5 -->\n<g id=\"node3\" class=\"node\">\n<title>Leaf5</title>\n<polygon fill=\"none\" stroke=\"black\" points=\"183.5,-0.5 183.5,-46.5 237.5,-46.5 237.5,-0.5 183.5,-0.5\"/>\n<text text-anchor=\"middle\" x=\"210.5\" y=\"-31.3\" font-family=\"Times,serif\" font-size=\"14.00\">K5</text>\n<polyline fill=\"none\" stroke=\"black\" points=\"183.5,-23.5 237.5,-23.5 \"/>\n<text text-anchor=\"middle\" x=\"210.5\" y=\"-8.3\" font-family=\"Times,serif\" font-size=\"14.00\"> </text>\n</g>\n<!-- Internal0 -->\n<g id=\"node4\" class=\"node\">\n<title>Internal0</title>\n<polygon fill=\"none\" stroke=\"black\" points=\"0,-83.5 0,-129.5 89,-129.5 89,-83.5 0,-83.5\"/>\n<text text-anchor=\"middle\" x=\"44.5\" y=\"-114.3\" font-family=\"Times,serif\" font-size=\"14.00\">Internal node</text>\n<polyline fill=\"none\" stroke=\"black\" points=\"0,-106.5 89,-106.5 \"/>\n<text text-anchor=\"middle\" x=\"22\" y=\"-91.3\" font-family=\"Times,serif\" font-size=\"14.00\">K1</text>\n<polyline fill=\"none\" stroke=\"black\" points=\"44,-83.5 44,-106.5 \"/>\n<text text-anchor=\"middle\" x=\"66.5\" y=\"-91.3\" font-family=\"Times,serif\" font-size=\"14.00\">K2</text>\n</g>\n<!-- Internal0&#45;&gt;Leaf2 -->\n<g id=\"edge1\" class=\"edge\">\n<title>Internal0:f2-&gt;Leaf2</title>\n<path fill=\"none\" stroke=\"black\" d=\"M66.5,-83C66.5,-74.57 66.5,-65.46 66.5,-57\"/>\n<polygon fill=\"black\" stroke=\"black\" points=\"70,-56.72 66.5,-46.72 63,-56.72 70,-56.72\"/>\n</g>\n<!-- Internal3 -->\n<g id=\"node5\" class=\"node\">\n<title>Internal3</title>\n<polygon fill=\"none\" stroke=\"black\" points=\"125,-83.5 125,-129.5 224,-129.5 224,-83.5 125,-83.5\"/>\n<text text-anchor=\"middle\" x=\"174.5\" y=\"-114.3\" font-family=\"Times,serif\" font-size=\"14.00\">Internal node</text>\n<polyline fill=\"none\" stroke=\"black\" points=\"125,-106.5 224,-106.5 \"/>\n<text text-anchor=\"middle\" x=\"141.5\" y=\"-91.3\" font-family=\"Times,serif\" font-size=\"14.00\">K3</text>\n<polyline fill=\"none\" stroke=\"black\" points=\"158,-83.5 158,-106.5 \"/>\n<text text-anchor=\"middle\" x=\"174.5\" y=\"-91.3\" font-family=\"Times,serif\" font-size=\"14.00\">K4</text>\n<polyline fill=\"none\" stroke=\"black\" points=\"191,-83.5 191,-106.5 \"/>\n<text text-anchor=\"middle\" x=\"207.5\" y=\"-91.3\" font-family=\"Times,serif\" font-size=\"14.00\">K5</text>\n</g>\n<!-- Internal3&#45;&gt;Leaf3 -->\n<g id=\"edge2\" class=\"edge\">\n<title>Internal3:f3-&gt;Leaf3</title>\n<path fill=\"none\" stroke=\"black\" d=\"M141.5,-83C141.5,-74.47 141.18,-65.25 140.74,-56.7\"/>\n<polygon fill=\"black\" stroke=\"black\" points=\"144.24,-56.49 140.18,-46.71 137.25,-56.89 144.24,-56.49\"/>\n</g>\n<!-- Internal3&#45;&gt;Leaf5 -->\n<g id=\"edge3\" class=\"edge\">\n<title>Internal3:f5-&gt;Leaf5</title>\n<path fill=\"none\" stroke=\"black\" d=\"M207.5,-83C207.5,-74.47 207.82,-65.25 208.26,-56.7\"/>\n<polygon fill=\"black\" stroke=\"black\" points=\"211.75,-56.89 208.82,-46.71 204.76,-56.49 211.75,-56.89\"/>\n</g>\n</g>\n</svg>"
          },
          "metadata": {}
        }
      ],
      "source": [
        "import graphviz\n",
        "from IPython.display import display\n",
        "\n",
        "class TreeNode:\n",
        "    def __init__(self, key, ref_state, child_refs=None):\n",
        "        self.key = key\n",
        "        self.child_refs = child_refs\n",
        "        self.clean = True\n",
        "        self.ref_state = ref_state\n",
        "        self.mod_since_last_reconcile = False\n",
        "        self.delta_recs = []\n",
        "\n",
        "    def to_string(self):\n",
        "        return str(self.key)\n",
        "\n",
        "    # Review any child pages and mark the ref as modified if they were dirty.\n",
        "    def reconcile(self, evict=False):\n",
        "        if self.child_refs is None:\n",
        "          if not self.clean:\n",
        "            self.clean = True\n",
        "            if evict:\n",
        "              self.ref_state = \"DSK\"\n",
        "            else:\n",
        "              self.ref_state = \"MEM\"\n",
        "            self.mod_since_last_reconcile = True\n",
        "          return # Finished with a leaf page reconciliation\n",
        "\n",
        "        delta_rec = []\n",
        "        delta_rec_string = None\n",
        "        for i in self.child_refs:\n",
        "            if i.mod_since_last_reconcile:\n",
        "              delta_rec.append(\"K\" + i.to_string() + \"/addr\")\n",
        "              i.mod_since_last_reconcile = False\n",
        "        if delta_rec:\n",
        "          delta_rec_string = \"{Reconciled \" + str(self.key) + \" |{ \" + \"| \".join(delta_rec) + \"}}\"\n",
        "          self.delta_recs.append(delta_rec_string)\n",
        "          # Mark this internal page as having been reconciled, to flag reconciliation\n",
        "          # of it's parent\n",
        "          self.mode_since_last_reconcile = True\n",
        "\n",
        "    def graphviz_handle(self):\n",
        "        if self.child_refs is None:\n",
        "            return \"Leaf\" + str(self.key)\n",
        "        else:\n",
        "            return \"Internal\" + str(self.key)\n",
        "\n",
        "    def graphviz_opts(self):\n",
        "        if self.clean:\n",
        "            return 'color=red'\n",
        "        return None\n",
        "\n",
        "    def graphviz_edges(self):\n",
        "        if self.child_refs is None:\n",
        "            return None\n",
        "        edges = []\n",
        "        for i in self.child_refs:\n",
        "            if i.ref_state != \"DSK\":\n",
        "                start = \"Internal\" + str(self.key) + \":f\" + str(i.key)\n",
        "                if i.child_refs is None:\n",
        "                    end = \"Leaf\" + str(i.key)\n",
        "                else:\n",
        "                    end = \"Internal\" + str(i.key)\n",
        "                edges.append((start, end))\n",
        "        return edges\n",
        "\n",
        "    # TODO: Figure out how to most efficiently represent this information. There is a lot here\n",
        "    # and it can easily blow out how graphs look\n",
        "    def get_ref_string(self):\n",
        "      ref_str = \"\"\n",
        "      if not self.clean:\n",
        "        ref_str = \"MOD \"\n",
        "\n",
        "      if self.mod_since_last_reconcile:\n",
        "        ref_str += \"REC \"\n",
        "\n",
        "      return ref_str\n",
        "\n",
        "    def graphviz_desc(self):\n",
        "        desc_str = \"\"\n",
        "        if self.child_refs is None:\n",
        "            desc_str = \"{ K\" + str(self.key) + \"| \" + self.get_ref_string() + \"}\"\n",
        "        else:\n",
        "            desc_str = \"{ Internal node | { \"\n",
        "            descriptors = []\n",
        "            for i in self.child_refs:\n",
        "                descriptors.append(\"<f\" + str(i.key) + \"> K\" + str(i.key) + \" \" + i.get_ref_string())\n",
        "            desc_str += '| '.join(descriptors)\n",
        "            desc_str += \"} }\"\n",
        "        return desc_str\n",
        "\n",
        "    def graphviz_delta_recs(self):\n",
        "      if self.delta_recs == []:\n",
        "        return None\n",
        "      return self.delta_recs\n",
        "\n",
        "\n",
        "tn1 = TreeNode(1, \"DSK\")\n",
        "tn2 = TreeNode(2, \"MEM\")\n",
        "tn3 = TreeNode(3, \"MEM\")\n",
        "tn4 = TreeNode(4, \"DSK\")\n",
        "tn5 = TreeNode(5, \"MEM\")\n",
        "\n",
        "Nodes = [tn2, tn3, tn5, TreeNode(0, \"MEM\", [tn1, tn2]), TreeNode(3, \"MEM\", [tn3, tn4, tn5])]\n",
        "\n",
        "def GetSVG(MyNodes):\n",
        "    s = graphviz.Digraph('structs', filename='structs_revisited.gv',\n",
        "                         node_attr={'shape': 'record'})\n",
        "\n",
        "    for node in MyNodes:\n",
        "        fc = None\n",
        "        if not node.clean:\n",
        "            fc = \"red\"\n",
        "        s.node(node.graphviz_handle(), node.graphviz_desc())\n",
        "        edges = node.graphviz_edges()\n",
        "        if edges is not None:\n",
        "            s.edges(edges)\n",
        "\n",
        "        reconciliations = node.graphviz_delta_recs()\n",
        "        with s.subgraph(name='reconciliations') as r:\n",
        "          r.node_attr['color'] = 'blue'\n",
        "          r.node_attr['fillcolor'] = 'lightblue'\n",
        "          r.node_attr['style'] = 'filled'\n",
        "          if reconciliations is not None:\n",
        "            for counter, reconciliation in enumerate(reconciliations):\n",
        "              r.node('Rec' + str(node.key) + \"_\" + str(counter), reconciliation)\n",
        "\n",
        "    return s.pipe(format='svg')\n",
        "\n",
        "def DisplayGraph(MyNodes):\n",
        "    display(SVG(GetSVG(MyNodes)))\n",
        "\n",
        "DisplayGraph(Nodes)"
      ]
    },
    {
      "cell_type": "code",
      "execution_count": null,
      "id": "7b3089ed-cd13-4e0e-8b6b-4a5e63413ca5",
      "metadata": {
        "colab": {
          "base_uri": "https://localhost:8080/",
          "height": 411
        },
        "id": "7b3089ed-cd13-4e0e-8b6b-4a5e63413ca5",
        "outputId": "059d715e-6759-43d8-d5fb-4b29551f113c"
      },
      "outputs": [
        {
          "output_type": "display_data",
          "data": {
            "text/plain": [
              "<IPython.core.display.SVG object>"
            ],
            "image/svg+xml": "<svg xmlns=\"http://www.w3.org/2000/svg\" xmlns:xlink=\"http://www.w3.org/1999/xlink\" width=\"278pt\" height=\"138pt\" viewBox=\"0.00 0.00 278.00 138.00\">\n<g id=\"graph0\" class=\"graph\" transform=\"scale(1 1) rotate(0) translate(4 134)\">\n<title>structs</title>\n<polygon fill=\"white\" stroke=\"transparent\" points=\"-4,4 -4,-134 274,-134 274,4 -4,4\"/>\n<!-- Leaf1 -->\n<g id=\"node1\" class=\"node\">\n<title>Leaf1</title>\n<polygon fill=\"none\" stroke=\"black\" points=\"0,-0.5 0,-46.5 54,-46.5 54,-0.5 0,-0.5\"/>\n<text text-anchor=\"middle\" x=\"27\" y=\"-31.3\" font-family=\"Times,serif\" font-size=\"14.00\">K1</text>\n<polyline fill=\"none\" stroke=\"black\" points=\"0,-23.5 54,-23.5 \"/>\n<text text-anchor=\"middle\" x=\"27\" y=\"-8.3\" font-family=\"Times,serif\" font-size=\"14.00\"> </text>\n</g>\n<!-- Leaf2 -->\n<g id=\"node2\" class=\"node\">\n<title>Leaf2</title>\n<polygon fill=\"none\" stroke=\"black\" points=\"72,-0.5 72,-46.5 126,-46.5 126,-0.5 72,-0.5\"/>\n<text text-anchor=\"middle\" x=\"99\" y=\"-31.3\" font-family=\"Times,serif\" font-size=\"14.00\">K2</text>\n<polyline fill=\"none\" stroke=\"black\" points=\"72,-23.5 126,-23.5 \"/>\n<text text-anchor=\"middle\" x=\"99\" y=\"-8.3\" font-family=\"Times,serif\" font-size=\"14.00\"> </text>\n</g>\n<!-- Leaf3 -->\n<g id=\"node3\" class=\"node\">\n<title>Leaf3</title>\n<polygon fill=\"none\" stroke=\"black\" points=\"144,-0.5 144,-46.5 198,-46.5 198,-0.5 144,-0.5\"/>\n<text text-anchor=\"middle\" x=\"171\" y=\"-31.3\" font-family=\"Times,serif\" font-size=\"14.00\">K3</text>\n<polyline fill=\"none\" stroke=\"black\" points=\"144,-23.5 198,-23.5 \"/>\n<text text-anchor=\"middle\" x=\"171\" y=\"-8.3\" font-family=\"Times,serif\" font-size=\"14.00\"> </text>\n</g>\n<!-- Leaf5 -->\n<g id=\"node4\" class=\"node\">\n<title>Leaf5</title>\n<polygon fill=\"none\" stroke=\"black\" points=\"216,-0.5 216,-46.5 270,-46.5 270,-0.5 216,-0.5\"/>\n<text text-anchor=\"middle\" x=\"243\" y=\"-31.3\" font-family=\"Times,serif\" font-size=\"14.00\">K5</text>\n<polyline fill=\"none\" stroke=\"black\" points=\"216,-23.5 270,-23.5 \"/>\n<text text-anchor=\"middle\" x=\"243\" y=\"-8.3\" font-family=\"Times,serif\" font-size=\"14.00\"> </text>\n</g>\n<!-- Internal0 -->\n<g id=\"node5\" class=\"node\">\n<title>Internal0</title>\n<polygon fill=\"none\" stroke=\"black\" points=\"18.5,-83.5 18.5,-129.5 107.5,-129.5 107.5,-83.5 18.5,-83.5\"/>\n<text text-anchor=\"middle\" x=\"63\" y=\"-114.3\" font-family=\"Times,serif\" font-size=\"14.00\">Internal node</text>\n<polyline fill=\"none\" stroke=\"black\" points=\"18.5,-106.5 107.5,-106.5 \"/>\n<text text-anchor=\"middle\" x=\"40.5\" y=\"-91.3\" font-family=\"Times,serif\" font-size=\"14.00\">K1</text>\n<polyline fill=\"none\" stroke=\"black\" points=\"62.5,-83.5 62.5,-106.5 \"/>\n<text text-anchor=\"middle\" x=\"85\" y=\"-91.3\" font-family=\"Times,serif\" font-size=\"14.00\">K2</text>\n</g>\n<!-- Internal0&#45;&gt;Leaf1 -->\n<g id=\"edge1\" class=\"edge\">\n<title>Internal0:f1-&gt;Leaf1</title>\n<path fill=\"none\" stroke=\"black\" d=\"M40,-83C40,-74.35 38.63,-65.14 36.77,-56.65\"/>\n<polygon fill=\"black\" stroke=\"black\" points=\"40.12,-55.62 34.34,-46.75 33.33,-57.29 40.12,-55.62\"/>\n</g>\n<!-- Internal0&#45;&gt;Leaf2 -->\n<g id=\"edge2\" class=\"edge\">\n<title>Internal0:f2-&gt;Leaf2</title>\n<path fill=\"none\" stroke=\"black\" d=\"M85,-83C85,-74.31 86.48,-65.1 88.47,-56.61\"/>\n<polygon fill=\"black\" stroke=\"black\" points=\"91.92,-57.27 91.1,-46.7 85.15,-55.47 91.92,-57.27\"/>\n</g>\n<!-- Internal3 -->\n<g id=\"node6\" class=\"node\">\n<title>Internal3</title>\n<polygon fill=\"none\" stroke=\"black\" points=\"157.5,-83.5 157.5,-129.5 256.5,-129.5 256.5,-83.5 157.5,-83.5\"/>\n<text text-anchor=\"middle\" x=\"207\" y=\"-114.3\" font-family=\"Times,serif\" font-size=\"14.00\">Internal node</text>\n<polyline fill=\"none\" stroke=\"black\" points=\"157.5,-106.5 256.5,-106.5 \"/>\n<text text-anchor=\"middle\" x=\"174\" y=\"-91.3\" font-family=\"Times,serif\" font-size=\"14.00\">K3</text>\n<polyline fill=\"none\" stroke=\"black\" points=\"190.5,-83.5 190.5,-106.5 \"/>\n<text text-anchor=\"middle\" x=\"207\" y=\"-91.3\" font-family=\"Times,serif\" font-size=\"14.00\">K4</text>\n<polyline fill=\"none\" stroke=\"black\" points=\"223.5,-83.5 223.5,-106.5 \"/>\n<text text-anchor=\"middle\" x=\"240\" y=\"-91.3\" font-family=\"Times,serif\" font-size=\"14.00\">K5</text>\n</g>\n<!-- Internal3&#45;&gt;Leaf3 -->\n<g id=\"edge3\" class=\"edge\">\n<title>Internal3:f3-&gt;Leaf3</title>\n<path fill=\"none\" stroke=\"black\" d=\"M174,-83C174,-74.47 173.68,-65.25 173.24,-56.7\"/>\n<polygon fill=\"black\" stroke=\"black\" points=\"176.74,-56.49 172.68,-46.71 169.75,-56.89 176.74,-56.49\"/>\n</g>\n<!-- Internal3&#45;&gt;Leaf5 -->\n<g id=\"edge4\" class=\"edge\">\n<title>Internal3:f5-&gt;Leaf5</title>\n<path fill=\"none\" stroke=\"black\" d=\"M240,-83C240,-74.47 240.32,-65.25 240.76,-56.7\"/>\n<polygon fill=\"black\" stroke=\"black\" points=\"244.25,-56.89 241.32,-46.71 237.26,-56.49 244.25,-56.89\"/>\n</g>\n</g>\n</svg>"
          },
          "metadata": {}
        },
        {
          "output_type": "stream",
          "name": "stdout",
          "text": [
            "Adding in another internal node that points to a single leaf to the right of the tree\n"
          ]
        },
        {
          "output_type": "display_data",
          "data": {
            "text/plain": [
              "<IPython.core.display.SVG object>"
            ],
            "image/svg+xml": "<svg xmlns=\"http://www.w3.org/2000/svg\" xmlns:xlink=\"http://www.w3.org/1999/xlink\" width=\"372pt\" height=\"138pt\" viewBox=\"0.00 0.00 371.50 138.00\">\n<g id=\"graph0\" class=\"graph\" transform=\"scale(1 1) rotate(0) translate(4 134)\">\n<title>structs</title>\n<polygon fill=\"white\" stroke=\"transparent\" points=\"-4,4 -4,-134 367.5,-134 367.5,4 -4,4\"/>\n<!-- Leaf1 -->\n<g id=\"node1\" class=\"node\">\n<title>Leaf1</title>\n<polygon fill=\"none\" stroke=\"black\" points=\"0,-0.5 0,-46.5 54,-46.5 54,-0.5 0,-0.5\"/>\n<text text-anchor=\"middle\" x=\"27\" y=\"-31.3\" font-family=\"Times,serif\" font-size=\"14.00\">K1</text>\n<polyline fill=\"none\" stroke=\"black\" points=\"0,-23.5 54,-23.5 \"/>\n<text text-anchor=\"middle\" x=\"27\" y=\"-8.3\" font-family=\"Times,serif\" font-size=\"14.00\"> </text>\n</g>\n<!-- Leaf2 -->\n<g id=\"node2\" class=\"node\">\n<title>Leaf2</title>\n<polygon fill=\"none\" stroke=\"black\" points=\"72,-0.5 72,-46.5 126,-46.5 126,-0.5 72,-0.5\"/>\n<text text-anchor=\"middle\" x=\"99\" y=\"-31.3\" font-family=\"Times,serif\" font-size=\"14.00\">K2</text>\n<polyline fill=\"none\" stroke=\"black\" points=\"72,-23.5 126,-23.5 \"/>\n<text text-anchor=\"middle\" x=\"99\" y=\"-8.3\" font-family=\"Times,serif\" font-size=\"14.00\"> </text>\n</g>\n<!-- Leaf3 -->\n<g id=\"node3\" class=\"node\">\n<title>Leaf3</title>\n<polygon fill=\"none\" stroke=\"black\" points=\"144,-0.5 144,-46.5 198,-46.5 198,-0.5 144,-0.5\"/>\n<text text-anchor=\"middle\" x=\"171\" y=\"-31.3\" font-family=\"Times,serif\" font-size=\"14.00\">K3</text>\n<polyline fill=\"none\" stroke=\"black\" points=\"144,-23.5 198,-23.5 \"/>\n<text text-anchor=\"middle\" x=\"171\" y=\"-8.3\" font-family=\"Times,serif\" font-size=\"14.00\"> </text>\n</g>\n<!-- Leaf5 -->\n<g id=\"node4\" class=\"node\">\n<title>Leaf5</title>\n<polygon fill=\"none\" stroke=\"black\" points=\"216,-0.5 216,-46.5 270,-46.5 270,-0.5 216,-0.5\"/>\n<text text-anchor=\"middle\" x=\"243\" y=\"-31.3\" font-family=\"Times,serif\" font-size=\"14.00\">K5</text>\n<polyline fill=\"none\" stroke=\"black\" points=\"216,-23.5 270,-23.5 \"/>\n<text text-anchor=\"middle\" x=\"243\" y=\"-8.3\" font-family=\"Times,serif\" font-size=\"14.00\"> </text>\n</g>\n<!-- Internal0 -->\n<g id=\"node5\" class=\"node\">\n<title>Internal0</title>\n<polygon fill=\"none\" stroke=\"black\" points=\"18.5,-83.5 18.5,-129.5 107.5,-129.5 107.5,-83.5 18.5,-83.5\"/>\n<text text-anchor=\"middle\" x=\"63\" y=\"-114.3\" font-family=\"Times,serif\" font-size=\"14.00\">Internal node</text>\n<polyline fill=\"none\" stroke=\"black\" points=\"18.5,-106.5 107.5,-106.5 \"/>\n<text text-anchor=\"middle\" x=\"40.5\" y=\"-91.3\" font-family=\"Times,serif\" font-size=\"14.00\">K1</text>\n<polyline fill=\"none\" stroke=\"black\" points=\"62.5,-83.5 62.5,-106.5 \"/>\n<text text-anchor=\"middle\" x=\"85\" y=\"-91.3\" font-family=\"Times,serif\" font-size=\"14.00\">K2</text>\n</g>\n<!-- Internal0&#45;&gt;Leaf1 -->\n<g id=\"edge1\" class=\"edge\">\n<title>Internal0:f1-&gt;Leaf1</title>\n<path fill=\"none\" stroke=\"black\" d=\"M40,-83C40,-74.35 38.63,-65.14 36.77,-56.65\"/>\n<polygon fill=\"black\" stroke=\"black\" points=\"40.12,-55.62 34.34,-46.75 33.33,-57.29 40.12,-55.62\"/>\n</g>\n<!-- Internal0&#45;&gt;Leaf2 -->\n<g id=\"edge2\" class=\"edge\">\n<title>Internal0:f2-&gt;Leaf2</title>\n<path fill=\"none\" stroke=\"black\" d=\"M85,-83C85,-74.31 86.48,-65.1 88.47,-56.61\"/>\n<polygon fill=\"black\" stroke=\"black\" points=\"91.92,-57.27 91.1,-46.7 85.15,-55.47 91.92,-57.27\"/>\n</g>\n<!-- Internal3 -->\n<g id=\"node6\" class=\"node\">\n<title>Internal3</title>\n<polygon fill=\"none\" stroke=\"black\" points=\"157.5,-83.5 157.5,-129.5 256.5,-129.5 256.5,-83.5 157.5,-83.5\"/>\n<text text-anchor=\"middle\" x=\"207\" y=\"-114.3\" font-family=\"Times,serif\" font-size=\"14.00\">Internal node</text>\n<polyline fill=\"none\" stroke=\"black\" points=\"157.5,-106.5 256.5,-106.5 \"/>\n<text text-anchor=\"middle\" x=\"174\" y=\"-91.3\" font-family=\"Times,serif\" font-size=\"14.00\">K3</text>\n<polyline fill=\"none\" stroke=\"black\" points=\"190.5,-83.5 190.5,-106.5 \"/>\n<text text-anchor=\"middle\" x=\"207\" y=\"-91.3\" font-family=\"Times,serif\" font-size=\"14.00\">K4</text>\n<polyline fill=\"none\" stroke=\"black\" points=\"223.5,-83.5 223.5,-106.5 \"/>\n<text text-anchor=\"middle\" x=\"240\" y=\"-91.3\" font-family=\"Times,serif\" font-size=\"14.00\">K5</text>\n</g>\n<!-- Internal3&#45;&gt;Leaf3 -->\n<g id=\"edge3\" class=\"edge\">\n<title>Internal3:f3-&gt;Leaf3</title>\n<path fill=\"none\" stroke=\"black\" d=\"M174,-83C174,-74.47 173.68,-65.25 173.24,-56.7\"/>\n<polygon fill=\"black\" stroke=\"black\" points=\"176.74,-56.49 172.68,-46.71 169.75,-56.89 176.74,-56.49\"/>\n</g>\n<!-- Internal3&#45;&gt;Leaf5 -->\n<g id=\"edge4\" class=\"edge\">\n<title>Internal3:f5-&gt;Leaf5</title>\n<path fill=\"none\" stroke=\"black\" d=\"M240,-83C240,-74.47 240.32,-65.25 240.76,-56.7\"/>\n<polygon fill=\"black\" stroke=\"black\" points=\"244.25,-56.89 241.32,-46.71 237.26,-56.49 244.25,-56.89\"/>\n</g>\n<!-- Leaf6 -->\n<g id=\"node7\" class=\"node\">\n<title>Leaf6</title>\n<polygon fill=\"none\" stroke=\"black\" points=\"292,-0.5 292,-46.5 346,-46.5 346,-0.5 292,-0.5\"/>\n<text text-anchor=\"middle\" x=\"319\" y=\"-31.3\" font-family=\"Times,serif\" font-size=\"14.00\">K6</text>\n<polyline fill=\"none\" stroke=\"black\" points=\"292,-23.5 346,-23.5 \"/>\n<text text-anchor=\"middle\" x=\"319\" y=\"-8.3\" font-family=\"Times,serif\" font-size=\"14.00\"> </text>\n</g>\n<!-- Internal6 -->\n<g id=\"node8\" class=\"node\">\n<title>Internal6</title>\n<polygon fill=\"none\" stroke=\"black\" points=\"274.5,-83.5 274.5,-129.5 363.5,-129.5 363.5,-83.5 274.5,-83.5\"/>\n<text text-anchor=\"middle\" x=\"319\" y=\"-114.3\" font-family=\"Times,serif\" font-size=\"14.00\">Internal node</text>\n<polyline fill=\"none\" stroke=\"black\" points=\"274.5,-106.5 363.5,-106.5 \"/>\n<text text-anchor=\"middle\" x=\"319\" y=\"-91.3\" font-family=\"Times,serif\" font-size=\"14.00\">K6</text>\n</g>\n<!-- Internal6&#45;&gt;Leaf6 -->\n<g id=\"edge5\" class=\"edge\">\n<title>Internal6:f6-&gt;Leaf6</title>\n<path fill=\"none\" stroke=\"black\" d=\"M319,-83C319,-74.57 319,-65.46 319,-57\"/>\n<polygon fill=\"black\" stroke=\"black\" points=\"322.5,-56.72 319,-46.72 315.5,-56.72 322.5,-56.72\"/>\n</g>\n</g>\n</svg>"
          },
          "metadata": {}
        }
      ],
      "source": [
        "\n",
        "tn1 = TreeNode(1, \"MEM\")\n",
        "tn2 = TreeNode(2, \"MEM\")\n",
        "tn3 = TreeNode(3, \"MEM\")\n",
        "tn4 = TreeNode(4, \"DSK\")\n",
        "tn5 = TreeNode(5, \"MEM\")\n",
        "in0 = TreeNode(0, \"MEM\", [tn1, tn2])\n",
        "in3 = TreeNode(3, \"MEM\", [tn3, tn4, tn5])\n",
        "\n",
        "Nodes = [tn1, tn2, tn3, tn5, in0, in3]\n",
        "\n",
        "\n",
        "DisplayGraph(Nodes)\n",
        "\n",
        "print(\"Adding in another internal node that points to a single leaf to the right of the tree\")\n",
        "tn6 = TreeNode(6, \"MEM\")\n",
        "in6 = TreeNode(6, \"MEM\", [tn6])\n",
        "\n",
        "Nodes.append(tn6)\n",
        "Nodes.append(in6)\n",
        "\n",
        "DisplayGraph(Nodes)\n",
        "\n"
      ]
    },
    {
      "cell_type": "code",
      "execution_count": null,
      "id": "8fa1b869-0027-4643-8889-2f53c7c9d170",
      "metadata": {
        "colab": {
          "base_uri": "https://localhost:8080/",
          "height": 333
        },
        "id": "8fa1b869-0027-4643-8889-2f53c7c9d170",
        "outputId": "b73f91e7-b433-4f77-bb4a-e2c3c4e695a5"
      },
      "outputs": [
        {
          "output_type": "stream",
          "name": "stdout",
          "text": [
            "Adding in a root page for the internal nodes\n"
          ]
        },
        {
          "output_type": "display_data",
          "data": {
            "text/plain": [
              "<IPython.core.display.SVG object>"
            ],
            "image/svg+xml": "<svg xmlns=\"http://www.w3.org/2000/svg\" xmlns:xlink=\"http://www.w3.org/1999/xlink\" width=\"369pt\" height=\"221pt\" viewBox=\"0.00 0.00 368.50 221.00\">\n<g id=\"graph0\" class=\"graph\" transform=\"scale(1 1) rotate(0) translate(4 217)\">\n<title>structs</title>\n<polygon fill=\"white\" stroke=\"transparent\" points=\"-4,4 -4,-217 364.5,-217 364.5,4 -4,4\"/>\n<!-- Leaf1 -->\n<g id=\"node1\" class=\"node\">\n<title>Leaf1</title>\n<polygon fill=\"none\" stroke=\"black\" points=\"0,-0.5 0,-46.5 54,-46.5 54,-0.5 0,-0.5\"/>\n<text text-anchor=\"middle\" x=\"27\" y=\"-31.3\" font-family=\"Times,serif\" font-size=\"14.00\">K1</text>\n<polyline fill=\"none\" stroke=\"black\" points=\"0,-23.5 54,-23.5 \"/>\n<text text-anchor=\"middle\" x=\"27\" y=\"-8.3\" font-family=\"Times,serif\" font-size=\"14.00\"> </text>\n</g>\n<!-- Leaf2 -->\n<g id=\"node2\" class=\"node\">\n<title>Leaf2</title>\n<polygon fill=\"none\" stroke=\"black\" points=\"72,-0.5 72,-46.5 126,-46.5 126,-0.5 72,-0.5\"/>\n<text text-anchor=\"middle\" x=\"99\" y=\"-31.3\" font-family=\"Times,serif\" font-size=\"14.00\">K2</text>\n<polyline fill=\"none\" stroke=\"black\" points=\"72,-23.5 126,-23.5 \"/>\n<text text-anchor=\"middle\" x=\"99\" y=\"-8.3\" font-family=\"Times,serif\" font-size=\"14.00\"> </text>\n</g>\n<!-- Leaf3 -->\n<g id=\"node3\" class=\"node\">\n<title>Leaf3</title>\n<polygon fill=\"none\" stroke=\"black\" points=\"144,-0.5 144,-46.5 198,-46.5 198,-0.5 144,-0.5\"/>\n<text text-anchor=\"middle\" x=\"171\" y=\"-31.3\" font-family=\"Times,serif\" font-size=\"14.00\">K3</text>\n<polyline fill=\"none\" stroke=\"black\" points=\"144,-23.5 198,-23.5 \"/>\n<text text-anchor=\"middle\" x=\"171\" y=\"-8.3\" font-family=\"Times,serif\" font-size=\"14.00\"> </text>\n</g>\n<!-- Leaf5 -->\n<g id=\"node4\" class=\"node\">\n<title>Leaf5</title>\n<polygon fill=\"none\" stroke=\"black\" points=\"216,-0.5 216,-46.5 270,-46.5 270,-0.5 216,-0.5\"/>\n<text text-anchor=\"middle\" x=\"243\" y=\"-31.3\" font-family=\"Times,serif\" font-size=\"14.00\">K5</text>\n<polyline fill=\"none\" stroke=\"black\" points=\"216,-23.5 270,-23.5 \"/>\n<text text-anchor=\"middle\" x=\"243\" y=\"-8.3\" font-family=\"Times,serif\" font-size=\"14.00\"> </text>\n</g>\n<!-- Internal0 -->\n<g id=\"node5\" class=\"node\">\n<title>Internal0</title>\n<polygon fill=\"none\" stroke=\"black\" points=\"32.5,-83.5 32.5,-129.5 121.5,-129.5 121.5,-83.5 32.5,-83.5\"/>\n<text text-anchor=\"middle\" x=\"77\" y=\"-114.3\" font-family=\"Times,serif\" font-size=\"14.00\">Internal node</text>\n<polyline fill=\"none\" stroke=\"black\" points=\"32.5,-106.5 121.5,-106.5 \"/>\n<text text-anchor=\"middle\" x=\"54.5\" y=\"-91.3\" font-family=\"Times,serif\" font-size=\"14.00\">K1</text>\n<polyline fill=\"none\" stroke=\"black\" points=\"76.5,-83.5 76.5,-106.5 \"/>\n<text text-anchor=\"middle\" x=\"99\" y=\"-91.3\" font-family=\"Times,serif\" font-size=\"14.00\">K2</text>\n</g>\n<!-- Internal0&#45;&gt;Leaf1 -->\n<g id=\"edge1\" class=\"edge\">\n<title>Internal0:f1-&gt;Leaf1</title>\n<path fill=\"none\" stroke=\"black\" d=\"M54,-83C54,-73.74 51.17,-64.34 47.35,-55.87\"/>\n<polygon fill=\"black\" stroke=\"black\" points=\"50.36,-54.08 42.71,-46.76 44.13,-57.26 50.36,-54.08\"/>\n</g>\n<!-- Internal0&#45;&gt;Leaf2 -->\n<g id=\"edge2\" class=\"edge\">\n<title>Internal0:f2-&gt;Leaf2</title>\n<path fill=\"none\" stroke=\"black\" d=\"M99,-83C99,-74.57 99,-65.46 99,-57\"/>\n<polygon fill=\"black\" stroke=\"black\" points=\"102.5,-56.72 99,-46.72 95.5,-56.72 102.5,-56.72\"/>\n</g>\n<!-- Internal3 -->\n<g id=\"node6\" class=\"node\">\n<title>Internal3</title>\n<polygon fill=\"none\" stroke=\"black\" points=\"154.5,-83.5 154.5,-129.5 253.5,-129.5 253.5,-83.5 154.5,-83.5\"/>\n<text text-anchor=\"middle\" x=\"204\" y=\"-114.3\" font-family=\"Times,serif\" font-size=\"14.00\">Internal node</text>\n<polyline fill=\"none\" stroke=\"black\" points=\"154.5,-106.5 253.5,-106.5 \"/>\n<text text-anchor=\"middle\" x=\"171\" y=\"-91.3\" font-family=\"Times,serif\" font-size=\"14.00\">K3</text>\n<polyline fill=\"none\" stroke=\"black\" points=\"187.5,-83.5 187.5,-106.5 \"/>\n<text text-anchor=\"middle\" x=\"204\" y=\"-91.3\" font-family=\"Times,serif\" font-size=\"14.00\">K4</text>\n<polyline fill=\"none\" stroke=\"black\" points=\"220.5,-83.5 220.5,-106.5 \"/>\n<text text-anchor=\"middle\" x=\"237\" y=\"-91.3\" font-family=\"Times,serif\" font-size=\"14.00\">K5</text>\n</g>\n<!-- Internal3&#45;&gt;Leaf3 -->\n<g id=\"edge3\" class=\"edge\">\n<title>Internal3:f3-&gt;Leaf3</title>\n<path fill=\"none\" stroke=\"black\" d=\"M171,-83C171,-74.57 171,-65.46 171,-57\"/>\n<polygon fill=\"black\" stroke=\"black\" points=\"174.5,-56.72 171,-46.72 167.5,-56.72 174.5,-56.72\"/>\n</g>\n<!-- Internal3&#45;&gt;Leaf5 -->\n<g id=\"edge4\" class=\"edge\">\n<title>Internal3:f5-&gt;Leaf5</title>\n<path fill=\"none\" stroke=\"black\" d=\"M237,-83C237,-74.44 237.64,-65.2 238.51,-56.66\"/>\n<polygon fill=\"black\" stroke=\"black\" points=\"241.99,-57 239.65,-46.67 235.04,-56.21 241.99,-57\"/>\n</g>\n<!-- Leaf6 -->\n<g id=\"node7\" class=\"node\">\n<title>Leaf6</title>\n<polygon fill=\"none\" stroke=\"black\" points=\"289,-0.5 289,-46.5 343,-46.5 343,-0.5 289,-0.5\"/>\n<text text-anchor=\"middle\" x=\"316\" y=\"-31.3\" font-family=\"Times,serif\" font-size=\"14.00\">K6</text>\n<polyline fill=\"none\" stroke=\"black\" points=\"289,-23.5 343,-23.5 \"/>\n<text text-anchor=\"middle\" x=\"316\" y=\"-8.3\" font-family=\"Times,serif\" font-size=\"14.00\"> </text>\n</g>\n<!-- Internal6 -->\n<g id=\"node8\" class=\"node\">\n<title>Internal6</title>\n<polygon fill=\"none\" stroke=\"black\" points=\"271.5,-83.5 271.5,-129.5 360.5,-129.5 360.5,-83.5 271.5,-83.5\"/>\n<text text-anchor=\"middle\" x=\"316\" y=\"-114.3\" font-family=\"Times,serif\" font-size=\"14.00\">Internal node</text>\n<polyline fill=\"none\" stroke=\"black\" points=\"271.5,-106.5 360.5,-106.5 \"/>\n<text text-anchor=\"middle\" x=\"316\" y=\"-91.3\" font-family=\"Times,serif\" font-size=\"14.00\">K6</text>\n</g>\n<!-- Internal6&#45;&gt;Leaf6 -->\n<g id=\"edge5\" class=\"edge\">\n<title>Internal6:f6-&gt;Leaf6</title>\n<path fill=\"none\" stroke=\"black\" d=\"M316,-83C316,-74.57 316,-65.46 316,-57\"/>\n<polygon fill=\"black\" stroke=\"black\" points=\"319.5,-56.72 316,-46.72 312.5,-56.72 319.5,-56.72\"/>\n</g>\n<!-- InternalRoot -->\n<g id=\"node9\" class=\"node\">\n<title>InternalRoot</title>\n<polygon fill=\"none\" stroke=\"black\" points=\"154.5,-166.5 154.5,-212.5 253.5,-212.5 253.5,-166.5 154.5,-166.5\"/>\n<text text-anchor=\"middle\" x=\"204\" y=\"-197.3\" font-family=\"Times,serif\" font-size=\"14.00\">Internal node</text>\n<polyline fill=\"none\" stroke=\"black\" points=\"154.5,-189.5 253.5,-189.5 \"/>\n<text text-anchor=\"middle\" x=\"171\" y=\"-174.3\" font-family=\"Times,serif\" font-size=\"14.00\">K0</text>\n<polyline fill=\"none\" stroke=\"black\" points=\"187.5,-166.5 187.5,-189.5 \"/>\n<text text-anchor=\"middle\" x=\"204\" y=\"-174.3\" font-family=\"Times,serif\" font-size=\"14.00\">K3</text>\n<polyline fill=\"none\" stroke=\"black\" points=\"220.5,-166.5 220.5,-189.5 \"/>\n<text text-anchor=\"middle\" x=\"237\" y=\"-174.3\" font-family=\"Times,serif\" font-size=\"14.00\">K6</text>\n</g>\n<!-- InternalRoot&#45;&gt;Internal0 -->\n<g id=\"edge6\" class=\"edge\">\n<title>InternalRoot:f0-&gt;Internal0</title>\n<path fill=\"none\" stroke=\"black\" d=\"M153,-177.5C128.11,-177.5 107.88,-156.94 94.56,-138.1\"/>\n<polygon fill=\"black\" stroke=\"black\" points=\"97.39,-136.04 88.94,-129.65 91.56,-139.91 97.39,-136.04\"/>\n</g>\n<!-- InternalRoot&#45;&gt;Internal3 -->\n<g id=\"edge7\" class=\"edge\">\n<title>InternalRoot:f3-&gt;Internal3</title>\n<path fill=\"none\" stroke=\"black\" d=\"M204,-166C204,-157.57 204,-148.46 204,-140\"/>\n<polygon fill=\"black\" stroke=\"black\" points=\"207.5,-139.72 204,-129.72 200.5,-139.72 207.5,-139.72\"/>\n</g>\n<!-- InternalRoot&#45;&gt;Internal6 -->\n<g id=\"edge8\" class=\"edge\">\n<title>InternalRoot:f6-&gt;Internal6</title>\n<path fill=\"none\" stroke=\"black\" d=\"M255,-177.5C277.16,-177.5 293.12,-157.31 303.14,-138.61\"/>\n<polygon fill=\"black\" stroke=\"black\" points=\"306.27,-140.16 307.58,-129.65 300,-137.05 306.27,-140.16\"/>\n</g>\n</g>\n</svg>"
          },
          "metadata": {}
        }
      ],
      "source": [
        "print(\"Adding in a root page for the internal nodes\")\n",
        "\n",
        "root = TreeNode(\"Root\", \"MEM\", [in0, in3, in6])\n",
        "Nodes.append(root)\n",
        "\n",
        "DisplayGraph(Nodes)"
      ]
    },
    {
      "cell_type": "code",
      "execution_count": null,
      "id": "072f18b6-01cb-4629-bfa6-678141146fbf",
      "metadata": {
        "colab": {
          "base_uri": "https://localhost:8080/",
          "height": 966
        },
        "id": "072f18b6-01cb-4629-bfa6-678141146fbf",
        "outputId": "5bf4983b-736e-47d0-b25a-e6eec2564c8e"
      },
      "outputs": [
        {
          "output_type": "stream",
          "name": "stdout",
          "text": [
            "Mark page 5 as dirty\n"
          ]
        },
        {
          "output_type": "display_data",
          "data": {
            "text/plain": [
              "<IPython.core.display.SVG object>"
            ],
            "image/svg+xml": "<svg xmlns=\"http://www.w3.org/2000/svg\" xmlns:xlink=\"http://www.w3.org/1999/xlink\" width=\"424pt\" height=\"221pt\" viewBox=\"0.00 0.00 423.50 221.00\">\n<g id=\"graph0\" class=\"graph\" transform=\"scale(1 1) rotate(0) translate(4 217)\">\n<title>structs</title>\n<polygon fill=\"white\" stroke=\"transparent\" points=\"-4,4 -4,-217 419.5,-217 419.5,4 -4,4\"/>\n<!-- Leaf1 -->\n<g id=\"node1\" class=\"node\">\n<title>Leaf1</title>\n<polygon fill=\"none\" stroke=\"black\" points=\"0,-0.5 0,-46.5 54,-46.5 54,-0.5 0,-0.5\"/>\n<text text-anchor=\"middle\" x=\"27\" y=\"-31.3\" font-family=\"Times,serif\" font-size=\"14.00\">K1</text>\n<polyline fill=\"none\" stroke=\"black\" points=\"0,-23.5 54,-23.5 \"/>\n<text text-anchor=\"middle\" x=\"27\" y=\"-8.3\" font-family=\"Times,serif\" font-size=\"14.00\"> </text>\n</g>\n<!-- Leaf2 -->\n<g id=\"node2\" class=\"node\">\n<title>Leaf2</title>\n<polygon fill=\"none\" stroke=\"black\" points=\"72,-0.5 72,-46.5 126,-46.5 126,-0.5 72,-0.5\"/>\n<text text-anchor=\"middle\" x=\"99\" y=\"-31.3\" font-family=\"Times,serif\" font-size=\"14.00\">K2</text>\n<polyline fill=\"none\" stroke=\"black\" points=\"72,-23.5 126,-23.5 \"/>\n<text text-anchor=\"middle\" x=\"99\" y=\"-8.3\" font-family=\"Times,serif\" font-size=\"14.00\"> </text>\n</g>\n<!-- Leaf3 -->\n<g id=\"node3\" class=\"node\">\n<title>Leaf3</title>\n<polygon fill=\"none\" stroke=\"black\" points=\"145,-0.5 145,-46.5 199,-46.5 199,-0.5 145,-0.5\"/>\n<text text-anchor=\"middle\" x=\"172\" y=\"-31.3\" font-family=\"Times,serif\" font-size=\"14.00\">K3</text>\n<polyline fill=\"none\" stroke=\"black\" points=\"145,-23.5 199,-23.5 \"/>\n<text text-anchor=\"middle\" x=\"172\" y=\"-8.3\" font-family=\"Times,serif\" font-size=\"14.00\">MOD</text>\n</g>\n<!-- Leaf5 -->\n<g id=\"node4\" class=\"node\">\n<title>Leaf5</title>\n<polygon fill=\"none\" stroke=\"black\" points=\"247,-0.5 247,-46.5 301,-46.5 301,-0.5 247,-0.5\"/>\n<text text-anchor=\"middle\" x=\"274\" y=\"-31.3\" font-family=\"Times,serif\" font-size=\"14.00\">K5</text>\n<polyline fill=\"none\" stroke=\"black\" points=\"247,-23.5 301,-23.5 \"/>\n<text text-anchor=\"middle\" x=\"274\" y=\"-8.3\" font-family=\"Times,serif\" font-size=\"14.00\">MOD</text>\n</g>\n<!-- Internal0 -->\n<g id=\"node5\" class=\"node\">\n<title>Internal0</title>\n<polygon fill=\"none\" stroke=\"black\" points=\"30.5,-83.5 30.5,-129.5 119.5,-129.5 119.5,-83.5 30.5,-83.5\"/>\n<text text-anchor=\"middle\" x=\"75\" y=\"-114.3\" font-family=\"Times,serif\" font-size=\"14.00\">Internal node</text>\n<polyline fill=\"none\" stroke=\"black\" points=\"30.5,-106.5 119.5,-106.5 \"/>\n<text text-anchor=\"middle\" x=\"52.5\" y=\"-91.3\" font-family=\"Times,serif\" font-size=\"14.00\">K1</text>\n<polyline fill=\"none\" stroke=\"black\" points=\"74.5,-83.5 74.5,-106.5 \"/>\n<text text-anchor=\"middle\" x=\"97\" y=\"-91.3\" font-family=\"Times,serif\" font-size=\"14.00\">K2</text>\n</g>\n<!-- Internal0&#45;&gt;Leaf1 -->\n<g id=\"edge1\" class=\"edge\">\n<title>Internal0:f1-&gt;Leaf1</title>\n<path fill=\"none\" stroke=\"black\" d=\"M52,-83C52,-73.77 49.34,-64.34 45.75,-55.81\"/>\n<polygon fill=\"black\" stroke=\"black\" points=\"48.84,-54.17 41.4,-46.63 42.52,-57.17 48.84,-54.17\"/>\n</g>\n<!-- Internal0&#45;&gt;Leaf2 -->\n<g id=\"edge2\" class=\"edge\">\n<title>Internal0:f2-&gt;Leaf2</title>\n<path fill=\"none\" stroke=\"black\" d=\"M97,-83C97,-74.47 97.21,-65.26 97.5,-56.71\"/>\n<polygon fill=\"black\" stroke=\"black\" points=\"101,-56.84 97.88,-46.72 94.01,-56.58 101,-56.84\"/>\n</g>\n<!-- Internal3 -->\n<g id=\"node6\" class=\"node\">\n<title>Internal3</title>\n<polygon fill=\"none\" stroke=\"black\" points=\"137.5,-83.5 137.5,-129.5 308.5,-129.5 308.5,-83.5 137.5,-83.5\"/>\n<text text-anchor=\"middle\" x=\"223\" y=\"-114.3\" font-family=\"Times,serif\" font-size=\"14.00\">Internal node</text>\n<polyline fill=\"none\" stroke=\"black\" points=\"137.5,-106.5 308.5,-106.5 \"/>\n<text text-anchor=\"middle\" x=\"172\" y=\"-91.3\" font-family=\"Times,serif\" font-size=\"14.00\">K3 MOD</text>\n<polyline fill=\"none\" stroke=\"black\" points=\"206.5,-83.5 206.5,-106.5 \"/>\n<text text-anchor=\"middle\" x=\"223\" y=\"-91.3\" font-family=\"Times,serif\" font-size=\"14.00\">K4</text>\n<polyline fill=\"none\" stroke=\"black\" points=\"239.5,-83.5 239.5,-106.5 \"/>\n<text text-anchor=\"middle\" x=\"274\" y=\"-91.3\" font-family=\"Times,serif\" font-size=\"14.00\">K5 MOD</text>\n</g>\n<!-- Internal3&#45;&gt;Leaf3 -->\n<g id=\"edge3\" class=\"edge\">\n<title>Internal3:f3-&gt;Leaf3</title>\n<path fill=\"none\" stroke=\"black\" d=\"M172,-83C172,-74.57 172,-65.46 172,-57\"/>\n<polygon fill=\"black\" stroke=\"black\" points=\"175.5,-56.72 172,-46.72 168.5,-56.72 175.5,-56.72\"/>\n</g>\n<!-- Internal3&#45;&gt;Leaf5 -->\n<g id=\"edge4\" class=\"edge\">\n<title>Internal3:f5-&gt;Leaf5</title>\n<path fill=\"none\" stroke=\"black\" d=\"M274,-83C274,-74.57 274,-65.46 274,-57\"/>\n<polygon fill=\"black\" stroke=\"black\" points=\"277.5,-56.72 274,-46.72 270.5,-56.72 277.5,-56.72\"/>\n</g>\n<!-- Leaf6 -->\n<g id=\"node7\" class=\"node\">\n<title>Leaf6</title>\n<polygon fill=\"none\" stroke=\"black\" points=\"344,-0.5 344,-46.5 398,-46.5 398,-0.5 344,-0.5\"/>\n<text text-anchor=\"middle\" x=\"371\" y=\"-31.3\" font-family=\"Times,serif\" font-size=\"14.00\">K6</text>\n<polyline fill=\"none\" stroke=\"black\" points=\"344,-23.5 398,-23.5 \"/>\n<text text-anchor=\"middle\" x=\"371\" y=\"-8.3\" font-family=\"Times,serif\" font-size=\"14.00\"> </text>\n</g>\n<!-- Internal6 -->\n<g id=\"node8\" class=\"node\">\n<title>Internal6</title>\n<polygon fill=\"none\" stroke=\"black\" points=\"326.5,-83.5 326.5,-129.5 415.5,-129.5 415.5,-83.5 326.5,-83.5\"/>\n<text text-anchor=\"middle\" x=\"371\" y=\"-114.3\" font-family=\"Times,serif\" font-size=\"14.00\">Internal node</text>\n<polyline fill=\"none\" stroke=\"black\" points=\"326.5,-106.5 415.5,-106.5 \"/>\n<text text-anchor=\"middle\" x=\"371\" y=\"-91.3\" font-family=\"Times,serif\" font-size=\"14.00\">K6</text>\n</g>\n<!-- Internal6&#45;&gt;Leaf6 -->\n<g id=\"edge5\" class=\"edge\">\n<title>Internal6:f6-&gt;Leaf6</title>\n<path fill=\"none\" stroke=\"black\" d=\"M371,-83C371,-74.57 371,-65.46 371,-57\"/>\n<polygon fill=\"black\" stroke=\"black\" points=\"374.5,-56.72 371,-46.72 367.5,-56.72 374.5,-56.72\"/>\n</g>\n<!-- InternalRoot -->\n<g id=\"node9\" class=\"node\">\n<title>InternalRoot</title>\n<polygon fill=\"none\" stroke=\"black\" points=\"173.5,-166.5 173.5,-212.5 272.5,-212.5 272.5,-166.5 173.5,-166.5\"/>\n<text text-anchor=\"middle\" x=\"223\" y=\"-197.3\" font-family=\"Times,serif\" font-size=\"14.00\">Internal node</text>\n<polyline fill=\"none\" stroke=\"black\" points=\"173.5,-189.5 272.5,-189.5 \"/>\n<text text-anchor=\"middle\" x=\"190\" y=\"-174.3\" font-family=\"Times,serif\" font-size=\"14.00\">K0</text>\n<polyline fill=\"none\" stroke=\"black\" points=\"206.5,-166.5 206.5,-189.5 \"/>\n<text text-anchor=\"middle\" x=\"223\" y=\"-174.3\" font-family=\"Times,serif\" font-size=\"14.00\">K3</text>\n<polyline fill=\"none\" stroke=\"black\" points=\"239.5,-166.5 239.5,-189.5 \"/>\n<text text-anchor=\"middle\" x=\"256\" y=\"-174.3\" font-family=\"Times,serif\" font-size=\"14.00\">K6</text>\n</g>\n<!-- InternalRoot&#45;&gt;Internal0 -->\n<g id=\"edge6\" class=\"edge\">\n<title>InternalRoot:f0-&gt;Internal0</title>\n<path fill=\"none\" stroke=\"black\" d=\"M172,-177.5C142.8,-177.5 116.41,-156.38 98.55,-137.34\"/>\n<polygon fill=\"black\" stroke=\"black\" points=\"100.95,-134.77 91.67,-129.65 95.73,-139.44 100.95,-134.77\"/>\n</g>\n<!-- InternalRoot&#45;&gt;Internal3 -->\n<g id=\"edge7\" class=\"edge\">\n<title>InternalRoot:f3-&gt;Internal3</title>\n<path fill=\"none\" stroke=\"black\" d=\"M223,-166C223,-157.57 223,-148.46 223,-140\"/>\n<polygon fill=\"black\" stroke=\"black\" points=\"226.5,-139.72 223,-129.72 219.5,-139.72 226.5,-139.72\"/>\n</g>\n<!-- InternalRoot&#45;&gt;Internal6 -->\n<g id=\"edge8\" class=\"edge\">\n<title>InternalRoot:f6-&gt;Internal6</title>\n<path fill=\"none\" stroke=\"black\" d=\"M274,-177.5C303.2,-177.5 329.59,-156.38 347.45,-137.34\"/>\n<polygon fill=\"black\" stroke=\"black\" points=\"350.27,-139.44 354.33,-129.65 345.05,-134.77 350.27,-139.44\"/>\n</g>\n</g>\n</svg>"
          },
          "metadata": {}
        },
        {
          "output_type": "stream",
          "name": "stdout",
          "text": [
            "Trigger reconciliation of page 5, updating ref to mark it as modified\n"
          ]
        },
        {
          "output_type": "display_data",
          "data": {
            "text/plain": [
              "<IPython.core.display.SVG object>"
            ],
            "image/svg+xml": "<svg xmlns=\"http://www.w3.org/2000/svg\" xmlns:xlink=\"http://www.w3.org/1999/xlink\" width=\"414pt\" height=\"221pt\" viewBox=\"0.00 0.00 413.50 221.00\">\n<g id=\"graph0\" class=\"graph\" transform=\"scale(1 1) rotate(0) translate(4 217)\">\n<title>structs</title>\n<polygon fill=\"white\" stroke=\"transparent\" points=\"-4,4 -4,-217 409.5,-217 409.5,4 -4,4\"/>\n<!-- Leaf1 -->\n<g id=\"node1\" class=\"node\">\n<title>Leaf1</title>\n<polygon fill=\"none\" stroke=\"black\" points=\"0,-0.5 0,-46.5 54,-46.5 54,-0.5 0,-0.5\"/>\n<text text-anchor=\"middle\" x=\"27\" y=\"-31.3\" font-family=\"Times,serif\" font-size=\"14.00\">K1</text>\n<polyline fill=\"none\" stroke=\"black\" points=\"0,-23.5 54,-23.5 \"/>\n<text text-anchor=\"middle\" x=\"27\" y=\"-8.3\" font-family=\"Times,serif\" font-size=\"14.00\"> </text>\n</g>\n<!-- Leaf2 -->\n<g id=\"node2\" class=\"node\">\n<title>Leaf2</title>\n<polygon fill=\"none\" stroke=\"black\" points=\"72,-0.5 72,-46.5 126,-46.5 126,-0.5 72,-0.5\"/>\n<text text-anchor=\"middle\" x=\"99\" y=\"-31.3\" font-family=\"Times,serif\" font-size=\"14.00\">K2</text>\n<polyline fill=\"none\" stroke=\"black\" points=\"72,-23.5 126,-23.5 \"/>\n<text text-anchor=\"middle\" x=\"99\" y=\"-8.3\" font-family=\"Times,serif\" font-size=\"14.00\"> </text>\n</g>\n<!-- Leaf3 -->\n<g id=\"node3\" class=\"node\">\n<title>Leaf3</title>\n<polygon fill=\"none\" stroke=\"black\" points=\"144,-0.5 144,-46.5 198,-46.5 198,-0.5 144,-0.5\"/>\n<text text-anchor=\"middle\" x=\"171\" y=\"-31.3\" font-family=\"Times,serif\" font-size=\"14.00\">K3</text>\n<polyline fill=\"none\" stroke=\"black\" points=\"144,-23.5 198,-23.5 \"/>\n<text text-anchor=\"middle\" x=\"171\" y=\"-8.3\" font-family=\"Times,serif\" font-size=\"14.00\">REC</text>\n</g>\n<!-- Leaf5 -->\n<g id=\"node4\" class=\"node\">\n<title>Leaf5</title>\n<polygon fill=\"none\" stroke=\"black\" points=\"287,-166.5 287,-212.5 341,-212.5 341,-166.5 287,-166.5\"/>\n<text text-anchor=\"middle\" x=\"314\" y=\"-197.3\" font-family=\"Times,serif\" font-size=\"14.00\">K5</text>\n<polyline fill=\"none\" stroke=\"black\" points=\"287,-189.5 341,-189.5 \"/>\n<text text-anchor=\"middle\" x=\"314\" y=\"-174.3\" font-family=\"Times,serif\" font-size=\"14.00\">REC</text>\n</g>\n<!-- Internal0 -->\n<g id=\"node5\" class=\"node\">\n<title>Internal0</title>\n<polygon fill=\"none\" stroke=\"black\" points=\"32.5,-83.5 32.5,-129.5 121.5,-129.5 121.5,-83.5 32.5,-83.5\"/>\n<text text-anchor=\"middle\" x=\"77\" y=\"-114.3\" font-family=\"Times,serif\" font-size=\"14.00\">Internal node</text>\n<polyline fill=\"none\" stroke=\"black\" points=\"32.5,-106.5 121.5,-106.5 \"/>\n<text text-anchor=\"middle\" x=\"54.5\" y=\"-91.3\" font-family=\"Times,serif\" font-size=\"14.00\">K1</text>\n<polyline fill=\"none\" stroke=\"black\" points=\"76.5,-83.5 76.5,-106.5 \"/>\n<text text-anchor=\"middle\" x=\"99\" y=\"-91.3\" font-family=\"Times,serif\" font-size=\"14.00\">K2</text>\n</g>\n<!-- Internal0&#45;&gt;Leaf1 -->\n<g id=\"edge1\" class=\"edge\">\n<title>Internal0:f1-&gt;Leaf1</title>\n<path fill=\"none\" stroke=\"black\" d=\"M54,-83C54,-73.74 51.17,-64.34 47.35,-55.87\"/>\n<polygon fill=\"black\" stroke=\"black\" points=\"50.36,-54.08 42.71,-46.76 44.13,-57.26 50.36,-54.08\"/>\n</g>\n<!-- Internal0&#45;&gt;Leaf2 -->\n<g id=\"edge2\" class=\"edge\">\n<title>Internal0:f2-&gt;Leaf2</title>\n<path fill=\"none\" stroke=\"black\" d=\"M99,-83C99,-74.57 99,-65.46 99,-57\"/>\n<polygon fill=\"black\" stroke=\"black\" points=\"102.5,-56.72 99,-46.72 95.5,-56.72 102.5,-56.72\"/>\n</g>\n<!-- Internal3 -->\n<g id=\"node6\" class=\"node\">\n<title>Internal3</title>\n<polygon fill=\"none\" stroke=\"black\" points=\"139.5,-83.5 139.5,-129.5 298.5,-129.5 298.5,-83.5 139.5,-83.5\"/>\n<text text-anchor=\"middle\" x=\"219\" y=\"-114.3\" font-family=\"Times,serif\" font-size=\"14.00\">Internal node</text>\n<polyline fill=\"none\" stroke=\"black\" points=\"139.5,-106.5 298.5,-106.5 \"/>\n<text text-anchor=\"middle\" x=\"171\" y=\"-91.3\" font-family=\"Times,serif\" font-size=\"14.00\">K3 REC</text>\n<polyline fill=\"none\" stroke=\"black\" points=\"202.5,-83.5 202.5,-106.5 \"/>\n<text text-anchor=\"middle\" x=\"219\" y=\"-91.3\" font-family=\"Times,serif\" font-size=\"14.00\">K4</text>\n<polyline fill=\"none\" stroke=\"black\" points=\"235.5,-83.5 235.5,-106.5 \"/>\n<text text-anchor=\"middle\" x=\"267\" y=\"-91.3\" font-family=\"Times,serif\" font-size=\"14.00\">K5 REC</text>\n</g>\n<!-- Internal3&#45;&gt;Leaf3 -->\n<g id=\"edge3\" class=\"edge\">\n<title>Internal3:f3-&gt;Leaf3</title>\n<path fill=\"none\" stroke=\"black\" d=\"M171,-83C171,-74.57 171,-65.46 171,-57\"/>\n<polygon fill=\"black\" stroke=\"black\" points=\"174.5,-56.72 171,-46.72 167.5,-56.72 174.5,-56.72\"/>\n</g>\n<!-- Leaf6 -->\n<g id=\"node7\" class=\"node\">\n<title>Leaf6</title>\n<polygon fill=\"none\" stroke=\"black\" points=\"334,-0.5 334,-46.5 388,-46.5 388,-0.5 334,-0.5\"/>\n<text text-anchor=\"middle\" x=\"361\" y=\"-31.3\" font-family=\"Times,serif\" font-size=\"14.00\">K6</text>\n<polyline fill=\"none\" stroke=\"black\" points=\"334,-23.5 388,-23.5 \"/>\n<text text-anchor=\"middle\" x=\"361\" y=\"-8.3\" font-family=\"Times,serif\" font-size=\"14.00\"> </text>\n</g>\n<!-- Internal6 -->\n<g id=\"node8\" class=\"node\">\n<title>Internal6</title>\n<polygon fill=\"none\" stroke=\"black\" points=\"316.5,-83.5 316.5,-129.5 405.5,-129.5 405.5,-83.5 316.5,-83.5\"/>\n<text text-anchor=\"middle\" x=\"361\" y=\"-114.3\" font-family=\"Times,serif\" font-size=\"14.00\">Internal node</text>\n<polyline fill=\"none\" stroke=\"black\" points=\"316.5,-106.5 405.5,-106.5 \"/>\n<text text-anchor=\"middle\" x=\"361\" y=\"-91.3\" font-family=\"Times,serif\" font-size=\"14.00\">K6</text>\n</g>\n<!-- Internal6&#45;&gt;Leaf6 -->\n<g id=\"edge4\" class=\"edge\">\n<title>Internal6:f6-&gt;Leaf6</title>\n<path fill=\"none\" stroke=\"black\" d=\"M361,-83C361,-74.57 361,-65.46 361,-57\"/>\n<polygon fill=\"black\" stroke=\"black\" points=\"364.5,-56.72 361,-46.72 357.5,-56.72 364.5,-56.72\"/>\n</g>\n<!-- InternalRoot -->\n<g id=\"node9\" class=\"node\">\n<title>InternalRoot</title>\n<polygon fill=\"none\" stroke=\"black\" points=\"169.5,-166.5 169.5,-212.5 268.5,-212.5 268.5,-166.5 169.5,-166.5\"/>\n<text text-anchor=\"middle\" x=\"219\" y=\"-197.3\" font-family=\"Times,serif\" font-size=\"14.00\">Internal node</text>\n<polyline fill=\"none\" stroke=\"black\" points=\"169.5,-189.5 268.5,-189.5 \"/>\n<text text-anchor=\"middle\" x=\"186\" y=\"-174.3\" font-family=\"Times,serif\" font-size=\"14.00\">K0</text>\n<polyline fill=\"none\" stroke=\"black\" points=\"202.5,-166.5 202.5,-189.5 \"/>\n<text text-anchor=\"middle\" x=\"219\" y=\"-174.3\" font-family=\"Times,serif\" font-size=\"14.00\">K3</text>\n<polyline fill=\"none\" stroke=\"black\" points=\"235.5,-166.5 235.5,-189.5 \"/>\n<text text-anchor=\"middle\" x=\"252\" y=\"-174.3\" font-family=\"Times,serif\" font-size=\"14.00\">K6</text>\n</g>\n<!-- InternalRoot&#45;&gt;Internal0 -->\n<g id=\"edge5\" class=\"edge\">\n<title>InternalRoot:f0-&gt;Internal0</title>\n<path fill=\"none\" stroke=\"black\" d=\"M168,-177.5C140.1,-177.5 115.5,-156.56 98.93,-137.59\"/>\n<polygon fill=\"black\" stroke=\"black\" points=\"101.42,-135.11 92.34,-129.65 96.03,-139.58 101.42,-135.11\"/>\n</g>\n<!-- InternalRoot&#45;&gt;Internal3 -->\n<g id=\"edge6\" class=\"edge\">\n<title>InternalRoot:f3-&gt;Internal3</title>\n<path fill=\"none\" stroke=\"black\" d=\"M219,-166C219,-157.57 219,-148.46 219,-140\"/>\n<polygon fill=\"black\" stroke=\"black\" points=\"222.5,-139.72 219,-129.72 215.5,-139.72 222.5,-139.72\"/>\n</g>\n<!-- InternalRoot&#45;&gt;Internal6 -->\n<g id=\"edge7\" class=\"edge\">\n<title>InternalRoot:f6-&gt;Internal6</title>\n<path fill=\"none\" stroke=\"black\" d=\"M270,-177.5C276.23,-177.5 273.61,-170.42 278,-166 289.11,-154.82 302.59,-144.31 315.42,-135.37\"/>\n<polygon fill=\"black\" stroke=\"black\" points=\"317.42,-138.25 323.73,-129.73 313.49,-132.45 317.42,-138.25\"/>\n</g>\n</g>\n</svg>"
          },
          "metadata": {}
        },
        {
          "output_type": "stream",
          "name": "stdout",
          "text": [
            "Trigger reconciliation of internal page 3, generating delta ref\n"
          ]
        },
        {
          "output_type": "display_data",
          "data": {
            "text/plain": [
              "<IPython.core.display.SVG object>"
            ],
            "image/svg+xml": "<svg xmlns=\"http://www.w3.org/2000/svg\" xmlns:xlink=\"http://www.w3.org/1999/xlink\" width=\"466pt\" height=\"221pt\" viewBox=\"0.00 0.00 466.00 221.00\">\n<g id=\"graph0\" class=\"graph\" transform=\"scale(1 1) rotate(0) translate(4 217)\">\n<title>structs</title>\n<polygon fill=\"white\" stroke=\"transparent\" points=\"-4,4 -4,-217 462,-217 462,4 -4,4\"/>\n<!-- Leaf1 -->\n<g id=\"node1\" class=\"node\">\n<title>Leaf1</title>\n<polygon fill=\"none\" stroke=\"black\" points=\"0,-0.5 0,-46.5 54,-46.5 54,-0.5 0,-0.5\"/>\n<text text-anchor=\"middle\" x=\"27\" y=\"-31.3\" font-family=\"Times,serif\" font-size=\"14.00\">K1</text>\n<polyline fill=\"none\" stroke=\"black\" points=\"0,-23.5 54,-23.5 \"/>\n<text text-anchor=\"middle\" x=\"27\" y=\"-8.3\" font-family=\"Times,serif\" font-size=\"14.00\"> </text>\n</g>\n<!-- Leaf2 -->\n<g id=\"node2\" class=\"node\">\n<title>Leaf2</title>\n<polygon fill=\"none\" stroke=\"black\" points=\"72,-0.5 72,-46.5 126,-46.5 126,-0.5 72,-0.5\"/>\n<text text-anchor=\"middle\" x=\"99\" y=\"-31.3\" font-family=\"Times,serif\" font-size=\"14.00\">K2</text>\n<polyline fill=\"none\" stroke=\"black\" points=\"72,-23.5 126,-23.5 \"/>\n<text text-anchor=\"middle\" x=\"99\" y=\"-8.3\" font-family=\"Times,serif\" font-size=\"14.00\"> </text>\n</g>\n<!-- Leaf3 -->\n<g id=\"node3\" class=\"node\">\n<title>Leaf3</title>\n<polygon fill=\"none\" stroke=\"black\" points=\"144,-0.5 144,-46.5 198,-46.5 198,-0.5 144,-0.5\"/>\n<text text-anchor=\"middle\" x=\"171\" y=\"-31.3\" font-family=\"Times,serif\" font-size=\"14.00\">K3</text>\n<polyline fill=\"none\" stroke=\"black\" points=\"144,-23.5 198,-23.5 \"/>\n<text text-anchor=\"middle\" x=\"171\" y=\"-8.3\" font-family=\"Times,serif\" font-size=\"14.00\"> </text>\n</g>\n<!-- Leaf5 -->\n<g id=\"node4\" class=\"node\">\n<title>Leaf5</title>\n<polygon fill=\"none\" stroke=\"black\" points=\"264,-166.5 264,-212.5 318,-212.5 318,-166.5 264,-166.5\"/>\n<text text-anchor=\"middle\" x=\"291\" y=\"-197.3\" font-family=\"Times,serif\" font-size=\"14.00\">K5</text>\n<polyline fill=\"none\" stroke=\"black\" points=\"264,-189.5 318,-189.5 \"/>\n<text text-anchor=\"middle\" x=\"291\" y=\"-174.3\" font-family=\"Times,serif\" font-size=\"14.00\"> </text>\n</g>\n<!-- Internal0 -->\n<g id=\"node5\" class=\"node\">\n<title>Internal0</title>\n<polygon fill=\"none\" stroke=\"black\" points=\"32.5,-83.5 32.5,-129.5 121.5,-129.5 121.5,-83.5 32.5,-83.5\"/>\n<text text-anchor=\"middle\" x=\"77\" y=\"-114.3\" font-family=\"Times,serif\" font-size=\"14.00\">Internal node</text>\n<polyline fill=\"none\" stroke=\"black\" points=\"32.5,-106.5 121.5,-106.5 \"/>\n<text text-anchor=\"middle\" x=\"54.5\" y=\"-91.3\" font-family=\"Times,serif\" font-size=\"14.00\">K1</text>\n<polyline fill=\"none\" stroke=\"black\" points=\"76.5,-83.5 76.5,-106.5 \"/>\n<text text-anchor=\"middle\" x=\"99\" y=\"-91.3\" font-family=\"Times,serif\" font-size=\"14.00\">K2</text>\n</g>\n<!-- Internal0&#45;&gt;Leaf1 -->\n<g id=\"edge1\" class=\"edge\">\n<title>Internal0:f1-&gt;Leaf1</title>\n<path fill=\"none\" stroke=\"black\" d=\"M54,-83C54,-73.74 51.17,-64.34 47.35,-55.87\"/>\n<polygon fill=\"black\" stroke=\"black\" points=\"50.36,-54.08 42.71,-46.76 44.13,-57.26 50.36,-54.08\"/>\n</g>\n<!-- Internal0&#45;&gt;Leaf2 -->\n<g id=\"edge2\" class=\"edge\">\n<title>Internal0:f2-&gt;Leaf2</title>\n<path fill=\"none\" stroke=\"black\" d=\"M99,-83C99,-74.57 99,-65.46 99,-57\"/>\n<polygon fill=\"black\" stroke=\"black\" points=\"102.5,-56.72 99,-46.72 95.5,-56.72 102.5,-56.72\"/>\n</g>\n<!-- Internal3 -->\n<g id=\"node6\" class=\"node\">\n<title>Internal3</title>\n<polygon fill=\"none\" stroke=\"black\" points=\"146.5,-83.5 146.5,-129.5 245.5,-129.5 245.5,-83.5 146.5,-83.5\"/>\n<text text-anchor=\"middle\" x=\"196\" y=\"-114.3\" font-family=\"Times,serif\" font-size=\"14.00\">Internal node</text>\n<polyline fill=\"none\" stroke=\"black\" points=\"146.5,-106.5 245.5,-106.5 \"/>\n<text text-anchor=\"middle\" x=\"163\" y=\"-91.3\" font-family=\"Times,serif\" font-size=\"14.00\">K3</text>\n<polyline fill=\"none\" stroke=\"black\" points=\"179.5,-83.5 179.5,-106.5 \"/>\n<text text-anchor=\"middle\" x=\"196\" y=\"-91.3\" font-family=\"Times,serif\" font-size=\"14.00\">K4</text>\n<polyline fill=\"none\" stroke=\"black\" points=\"212.5,-83.5 212.5,-106.5 \"/>\n<text text-anchor=\"middle\" x=\"229\" y=\"-91.3\" font-family=\"Times,serif\" font-size=\"14.00\">K5</text>\n</g>\n<!-- Internal3&#45;&gt;Leaf3 -->\n<g id=\"edge3\" class=\"edge\">\n<title>Internal3:f3-&gt;Leaf3</title>\n<path fill=\"none\" stroke=\"black\" d=\"M163,-83C163,-74.4 163.86,-65.16 165.01,-56.61\"/>\n<polygon fill=\"black\" stroke=\"black\" points=\"168.49,-57.04 166.53,-46.63 161.57,-55.99 168.49,-57.04\"/>\n</g>\n<!-- Rec3_0 -->\n<g id=\"node7\" class=\"node\">\n<title>Rec3_0</title>\n<polygon fill=\"lightblue\" stroke=\"blue\" points=\"336,-166.5 336,-212.5 458,-212.5 458,-166.5 336,-166.5\"/>\n<text text-anchor=\"middle\" x=\"397\" y=\"-197.3\" font-family=\"Times,serif\" font-size=\"14.00\">Reconciled 3</text>\n<polyline fill=\"none\" stroke=\"blue\" points=\"336,-189.5 458,-189.5 \"/>\n<text text-anchor=\"middle\" x=\"366.5\" y=\"-174.3\" font-family=\"Times,serif\" font-size=\"14.00\">K3/addr</text>\n<polyline fill=\"none\" stroke=\"blue\" points=\"397,-166.5 397,-189.5 \"/>\n<text text-anchor=\"middle\" x=\"427.5\" y=\"-174.3\" font-family=\"Times,serif\" font-size=\"14.00\">K5/addr</text>\n</g>\n<!-- Leaf6 -->\n<g id=\"node8\" class=\"node\">\n<title>Leaf6</title>\n<polygon fill=\"none\" stroke=\"black\" points=\"281,-0.5 281,-46.5 335,-46.5 335,-0.5 281,-0.5\"/>\n<text text-anchor=\"middle\" x=\"308\" y=\"-31.3\" font-family=\"Times,serif\" font-size=\"14.00\">K6</text>\n<polyline fill=\"none\" stroke=\"black\" points=\"281,-23.5 335,-23.5 \"/>\n<text text-anchor=\"middle\" x=\"308\" y=\"-8.3\" font-family=\"Times,serif\" font-size=\"14.00\"> </text>\n</g>\n<!-- Internal6 -->\n<g id=\"node9\" class=\"node\">\n<title>Internal6</title>\n<polygon fill=\"none\" stroke=\"black\" points=\"263.5,-83.5 263.5,-129.5 352.5,-129.5 352.5,-83.5 263.5,-83.5\"/>\n<text text-anchor=\"middle\" x=\"308\" y=\"-114.3\" font-family=\"Times,serif\" font-size=\"14.00\">Internal node</text>\n<polyline fill=\"none\" stroke=\"black\" points=\"263.5,-106.5 352.5,-106.5 \"/>\n<text text-anchor=\"middle\" x=\"308\" y=\"-91.3\" font-family=\"Times,serif\" font-size=\"14.00\">K6</text>\n</g>\n<!-- Internal6&#45;&gt;Leaf6 -->\n<g id=\"edge4\" class=\"edge\">\n<title>Internal6:f6-&gt;Leaf6</title>\n<path fill=\"none\" stroke=\"black\" d=\"M308,-83C308,-74.57 308,-65.46 308,-57\"/>\n<polygon fill=\"black\" stroke=\"black\" points=\"311.5,-56.72 308,-46.72 304.5,-56.72 311.5,-56.72\"/>\n</g>\n<!-- InternalRoot -->\n<g id=\"node10\" class=\"node\">\n<title>InternalRoot</title>\n<polygon fill=\"none\" stroke=\"black\" points=\"146.5,-166.5 146.5,-212.5 245.5,-212.5 245.5,-166.5 146.5,-166.5\"/>\n<text text-anchor=\"middle\" x=\"196\" y=\"-197.3\" font-family=\"Times,serif\" font-size=\"14.00\">Internal node</text>\n<polyline fill=\"none\" stroke=\"black\" points=\"146.5,-189.5 245.5,-189.5 \"/>\n<text text-anchor=\"middle\" x=\"163\" y=\"-174.3\" font-family=\"Times,serif\" font-size=\"14.00\">K0</text>\n<polyline fill=\"none\" stroke=\"black\" points=\"179.5,-166.5 179.5,-189.5 \"/>\n<text text-anchor=\"middle\" x=\"196\" y=\"-174.3\" font-family=\"Times,serif\" font-size=\"14.00\">K3</text>\n<polyline fill=\"none\" stroke=\"black\" points=\"212.5,-166.5 212.5,-189.5 \"/>\n<text text-anchor=\"middle\" x=\"229\" y=\"-174.3\" font-family=\"Times,serif\" font-size=\"14.00\">K6</text>\n</g>\n<!-- InternalRoot&#45;&gt;Internal0 -->\n<g id=\"edge5\" class=\"edge\">\n<title>InternalRoot:f0-&gt;Internal0</title>\n<path fill=\"none\" stroke=\"black\" d=\"M145,-177.5C121.6,-177.5 103.65,-157.12 92.09,-138.36\"/>\n<polygon fill=\"black\" stroke=\"black\" points=\"95.1,-136.57 87.08,-129.65 89.03,-140.06 95.1,-136.57\"/>\n</g>\n<!-- InternalRoot&#45;&gt;Internal3 -->\n<g id=\"edge6\" class=\"edge\">\n<title>InternalRoot:f3-&gt;Internal3</title>\n<path fill=\"none\" stroke=\"black\" d=\"M196,-166C196,-157.57 196,-148.46 196,-140\"/>\n<polygon fill=\"black\" stroke=\"black\" points=\"199.5,-139.72 196,-129.72 192.5,-139.72 199.5,-139.72\"/>\n</g>\n<!-- InternalRoot&#45;&gt;Internal6 -->\n<g id=\"edge7\" class=\"edge\">\n<title>InternalRoot:f6-&gt;Internal6</title>\n<path fill=\"none\" stroke=\"black\" d=\"M247,-177.5C253.23,-177.5 251.12,-170.87 255,-166 262.65,-156.38 271.45,-146.31 279.65,-137.3\"/>\n<polygon fill=\"black\" stroke=\"black\" points=\"282.46,-139.42 286.66,-129.69 277.32,-134.67 282.46,-139.42\"/>\n</g>\n</g>\n</svg>"
          },
          "metadata": {}
        }
      ],
      "source": [
        "print(\"Mark page 5 as dirty\")\n",
        "tn5.clean = False\n",
        "tn3.clean = False\n",
        "DisplayGraph(Nodes)\n",
        "\n",
        "print(\"Trigger reconciliation of page 5, updating ref to mark it as modified\")\n",
        "# Ideally, this would probably reconcile the leaf page and propagate into internal, but that link isn't there at the moment.\n",
        "tn3.reconcile()\n",
        "tn5.reconcile(evict=True)\n",
        "\n",
        "DisplayGraph(Nodes)\n",
        "\n",
        "print(\"Trigger reconciliation of internal page 3, generating delta ref\")\n",
        "in3.reconcile()\n",
        "DisplayGraph(Nodes)"
      ]
    },
    {
      "cell_type": "code",
      "execution_count": null,
      "id": "e0e866bb-1d9e-46a7-b6db-0b998e10b446",
      "metadata": {
        "colab": {
          "base_uri": "https://localhost:8080/"
        },
        "id": "e0e866bb-1d9e-46a7-b6db-0b998e10b446",
        "outputId": "994dde78-d915-4831-a2ab-422dc462d93c"
      },
      "outputs": [
        {
          "output_type": "stream",
          "name": "stdout",
          "text": [
            "Creating and evolving a new tree\n"
          ]
        }
      ],
      "source": [
        "print(\"Creating and evolving a new tree\")\n",
        "\n",
        "def nodeSortFunc(e):\n",
        "  return e[0]\n",
        "\n",
        "class Tree:\n",
        "  def __init__(self, mem_leaf_nodes, dsk_leaf_nodes, internal_nodes):\n",
        "    self.mem_leaf_nodes = mem_leaf_nodes\n",
        "    self.dsk_leaf_nodes = dsk_leaf_nodes\n",
        "    self.internal_nodes = internal_nodes\n",
        "    self.display_nodes = []\n",
        "\n",
        "\n",
        "  def ConstructTree(self):\n",
        "    leaf_node_tuples = []\n",
        "    for nd in self.mem_leaf_nodes:\n",
        "      leaf_node_tuples.append((nd, \"MEM\"))\n",
        "    for nd in self.dsk_leaf_nodes:\n",
        "      leaf_node_tuples.append((nd, \"DSK\"))\n",
        "\n",
        "    leaf_node_tuples.sort(key=nodeSortFunc)\n",
        "\n",
        "    leaf_nodes = []\n",
        "    for nd in leaf_node_tuples:\n",
        "      leaf_nodes.append(TreeNode(nd[0], nd[1]))\n",
        "\n",
        "    inodes = []\n",
        "    for count, nd in enumerate(self.internal_nodes):\n",
        "      if count + 1 < len(self.internal_nodes):\n",
        "        first_next_key = self.internal_nodes[count + 1]\n",
        "      else:\n",
        "        first_next_key = leaf_node_tuples[len(leaf_nodes) - 1][0] + 1 # Make it bigger than the biggest key.\n",
        "\n",
        "      children = []\n",
        "      for index, child_node in enumerate(leaf_node_tuples):\n",
        "        if child_node[0] < nd:\n",
        "          continue\n",
        "        if child_node[0] >= first_next_key:\n",
        "          break\n",
        "        children.append(leaf_nodes[index])\n",
        "      inodes.append(TreeNode(nd, \"MEM\", children))\n",
        "\n",
        "    root = TreeNode(\"root\", \"MEM\", inodes)\n",
        "\n",
        "    display_nodes = []\n",
        "    for leaf in leaf_nodes:\n",
        "      if leaf.ref_state != \"DSK\":\n",
        "        display_nodes.append(leaf)\n",
        "    for internal in inodes:\n",
        "      display_nodes.append(internal)\n",
        "    display_nodes.append(root)\n",
        "    self.display_nodes = display_nodes\n",
        "\n",
        "  def DirtyLeafPage(self, pageid):\n",
        "    for node in self.display_nodes:\n",
        "      if node.child_refs is None and node.key == pageid:\n",
        "        node.clean = False\n",
        "\n",
        "  def Reconcile(self, pageid):\n",
        "    for node in self.display_nodes:\n",
        "      if node.child_refs is None and node.key == pageid:\n",
        "        node.reconcile(evict=True)\n",
        "        # This should probably be optional depending on whether it's an eviction\n",
        "        self.display_nodes.remove(node)\n",
        "        break\n",
        "\n",
        "  def Checkpoint(self):\n",
        "    # First reconcile any dirty children\n",
        "    for node in self.display_nodes:\n",
        "      if node.child_refs is None and not node.clean:\n",
        "        node.reconcile(evict=False)\n",
        "    # Reconcile all internal nodes\n",
        "    for node in self.display_nodes:\n",
        "      if node.child_refs is not None:\n",
        "        node.reconcile(evict=False)\n",
        "\n",
        "\n"
      ]
    },
    {
      "cell_type": "code",
      "execution_count": null,
      "id": "9e5d7510-aab6-42ab-a722-3ec0694fbdd1",
      "metadata": {
        "colab": {
          "base_uri": "https://localhost:8080/",
          "height": 353
        },
        "id": "9e5d7510-aab6-42ab-a722-3ec0694fbdd1",
        "outputId": "cfba544e-7459-407c-c2e6-e017c1a8bfcb"
      },
      "outputs": [
        {
          "output_type": "stream",
          "name": "stdout",
          "text": [
            "Construct a moderately complex tree, note that internal node contents are auto-generated\n"
          ]
        },
        {
          "output_type": "display_data",
          "data": {
            "text/plain": [
              "<IPython.core.display.SVG object>"
            ],
            "image/svg+xml": "<svg xmlns=\"http://www.w3.org/2000/svg\" xmlns:xlink=\"http://www.w3.org/1999/xlink\" width=\"1234pt\" height=\"221pt\" viewBox=\"0.00 0.00 1234.00 221.00\">\n<g id=\"graph0\" class=\"graph\" transform=\"scale(1 1) rotate(0) translate(4 217)\">\n<title>structs</title>\n<polygon fill=\"white\" stroke=\"transparent\" points=\"-4,4 -4,-217 1230,-217 1230,4 -4,4\"/>\n<!-- Leaf10 -->\n<g id=\"node1\" class=\"node\">\n<title>Leaf10</title>\n<polygon fill=\"none\" stroke=\"black\" points=\"0,-0.5 0,-46.5 54,-46.5 54,-0.5 0,-0.5\"/>\n<text text-anchor=\"middle\" x=\"27\" y=\"-31.3\" font-family=\"Times,serif\" font-size=\"14.00\">K10</text>\n<polyline fill=\"none\" stroke=\"black\" points=\"0,-23.5 54,-23.5 \"/>\n<text text-anchor=\"middle\" x=\"27\" y=\"-8.3\" font-family=\"Times,serif\" font-size=\"14.00\"> </text>\n</g>\n<!-- Leaf15 -->\n<g id=\"node2\" class=\"node\">\n<title>Leaf15</title>\n<polygon fill=\"none\" stroke=\"black\" points=\"168,-0.5 168,-46.5 222,-46.5 222,-0.5 168,-0.5\"/>\n<text text-anchor=\"middle\" x=\"195\" y=\"-31.3\" font-family=\"Times,serif\" font-size=\"14.00\">K15</text>\n<polyline fill=\"none\" stroke=\"black\" points=\"168,-23.5 222,-23.5 \"/>\n<text text-anchor=\"middle\" x=\"195\" y=\"-8.3\" font-family=\"Times,serif\" font-size=\"14.00\"> </text>\n</g>\n<!-- Leaf16 -->\n<g id=\"node3\" class=\"node\">\n<title>Leaf16</title>\n<polygon fill=\"none\" stroke=\"black\" points=\"240,-0.5 240,-46.5 294,-46.5 294,-0.5 240,-0.5\"/>\n<text text-anchor=\"middle\" x=\"267\" y=\"-31.3\" font-family=\"Times,serif\" font-size=\"14.00\">K16</text>\n<polyline fill=\"none\" stroke=\"black\" points=\"240,-23.5 294,-23.5 \"/>\n<text text-anchor=\"middle\" x=\"267\" y=\"-8.3\" font-family=\"Times,serif\" font-size=\"14.00\"> </text>\n</g>\n<!-- Leaf20 -->\n<g id=\"node4\" class=\"node\">\n<title>Leaf20</title>\n<polygon fill=\"none\" stroke=\"black\" points=\"312,-0.5 312,-46.5 366,-46.5 366,-0.5 312,-0.5\"/>\n<text text-anchor=\"middle\" x=\"339\" y=\"-31.3\" font-family=\"Times,serif\" font-size=\"14.00\">K20</text>\n<polyline fill=\"none\" stroke=\"black\" points=\"312,-23.5 366,-23.5 \"/>\n<text text-anchor=\"middle\" x=\"339\" y=\"-8.3\" font-family=\"Times,serif\" font-size=\"14.00\"> </text>\n</g>\n<!-- Leaf23 -->\n<g id=\"node5\" class=\"node\">\n<title>Leaf23</title>\n<polygon fill=\"none\" stroke=\"black\" points=\"388,-0.5 388,-46.5 442,-46.5 442,-0.5 388,-0.5\"/>\n<text text-anchor=\"middle\" x=\"415\" y=\"-31.3\" font-family=\"Times,serif\" font-size=\"14.00\">K23</text>\n<polyline fill=\"none\" stroke=\"black\" points=\"388,-23.5 442,-23.5 \"/>\n<text text-anchor=\"middle\" x=\"415\" y=\"-8.3\" font-family=\"Times,serif\" font-size=\"14.00\"> </text>\n</g>\n<!-- Leaf30 -->\n<g id=\"node6\" class=\"node\">\n<title>Leaf30</title>\n<polygon fill=\"none\" stroke=\"black\" points=\"591,-0.5 591,-46.5 645,-46.5 645,-0.5 591,-0.5\"/>\n<text text-anchor=\"middle\" x=\"618\" y=\"-31.3\" font-family=\"Times,serif\" font-size=\"14.00\">K30</text>\n<polyline fill=\"none\" stroke=\"black\" points=\"591,-23.5 645,-23.5 \"/>\n<text text-anchor=\"middle\" x=\"618\" y=\"-8.3\" font-family=\"Times,serif\" font-size=\"14.00\"> </text>\n</g>\n<!-- Leaf40 -->\n<g id=\"node7\" class=\"node\">\n<title>Leaf40</title>\n<polygon fill=\"none\" stroke=\"black\" points=\"674,-0.5 674,-46.5 728,-46.5 728,-0.5 674,-0.5\"/>\n<text text-anchor=\"middle\" x=\"701\" y=\"-31.3\" font-family=\"Times,serif\" font-size=\"14.00\">K40</text>\n<polyline fill=\"none\" stroke=\"black\" points=\"674,-23.5 728,-23.5 \"/>\n<text text-anchor=\"middle\" x=\"701\" y=\"-8.3\" font-family=\"Times,serif\" font-size=\"14.00\"> </text>\n</g>\n<!-- Leaf48 -->\n<g id=\"node8\" class=\"node\">\n<title>Leaf48</title>\n<polygon fill=\"none\" stroke=\"black\" points=\"842,-0.5 842,-46.5 896,-46.5 896,-0.5 842,-0.5\"/>\n<text text-anchor=\"middle\" x=\"869\" y=\"-31.3\" font-family=\"Times,serif\" font-size=\"14.00\">K48</text>\n<polyline fill=\"none\" stroke=\"black\" points=\"842,-23.5 896,-23.5 \"/>\n<text text-anchor=\"middle\" x=\"869\" y=\"-8.3\" font-family=\"Times,serif\" font-size=\"14.00\"> </text>\n</g>\n<!-- Leaf49 -->\n<g id=\"node9\" class=\"node\">\n<title>Leaf49</title>\n<polygon fill=\"none\" stroke=\"black\" points=\"914,-0.5 914,-46.5 968,-46.5 968,-0.5 914,-0.5\"/>\n<text text-anchor=\"middle\" x=\"941\" y=\"-31.3\" font-family=\"Times,serif\" font-size=\"14.00\">K49</text>\n<polyline fill=\"none\" stroke=\"black\" points=\"914,-23.5 968,-23.5 \"/>\n<text text-anchor=\"middle\" x=\"941\" y=\"-8.3\" font-family=\"Times,serif\" font-size=\"14.00\"> </text>\n</g>\n<!-- Leaf50 -->\n<g id=\"node10\" class=\"node\">\n<title>Leaf50</title>\n<polygon fill=\"none\" stroke=\"black\" points=\"986,-0.5 986,-46.5 1040,-46.5 1040,-0.5 986,-0.5\"/>\n<text text-anchor=\"middle\" x=\"1013\" y=\"-31.3\" font-family=\"Times,serif\" font-size=\"14.00\">K50</text>\n<polyline fill=\"none\" stroke=\"black\" points=\"986,-23.5 1040,-23.5 \"/>\n<text text-anchor=\"middle\" x=\"1013\" y=\"-8.3\" font-family=\"Times,serif\" font-size=\"14.00\"> </text>\n</g>\n<!-- Internal10 -->\n<g id=\"node11\" class=\"node\">\n<title>Internal10</title>\n<polygon fill=\"none\" stroke=\"black\" points=\"7,-83.5 7,-129.5 287,-129.5 287,-83.5 7,-83.5\"/>\n<text text-anchor=\"middle\" x=\"147\" y=\"-114.3\" font-family=\"Times,serif\" font-size=\"14.00\">Internal node</text>\n<polyline fill=\"none\" stroke=\"black\" points=\"7,-106.5 287,-106.5 \"/>\n<text text-anchor=\"middle\" x=\"27\" y=\"-91.3\" font-family=\"Times,serif\" font-size=\"14.00\">K10</text>\n<polyline fill=\"none\" stroke=\"black\" points=\"47,-83.5 47,-106.5 \"/>\n<text text-anchor=\"middle\" x=\"67\" y=\"-91.3\" font-family=\"Times,serif\" font-size=\"14.00\">K11</text>\n<polyline fill=\"none\" stroke=\"black\" points=\"87,-83.5 87,-106.5 \"/>\n<text text-anchor=\"middle\" x=\"107\" y=\"-91.3\" font-family=\"Times,serif\" font-size=\"14.00\">K12</text>\n<polyline fill=\"none\" stroke=\"black\" points=\"127,-83.5 127,-106.5 \"/>\n<text text-anchor=\"middle\" x=\"147\" y=\"-91.3\" font-family=\"Times,serif\" font-size=\"14.00\">K13</text>\n<polyline fill=\"none\" stroke=\"black\" points=\"167,-83.5 167,-106.5 \"/>\n<text text-anchor=\"middle\" x=\"187\" y=\"-91.3\" font-family=\"Times,serif\" font-size=\"14.00\">K14</text>\n<polyline fill=\"none\" stroke=\"black\" points=\"207,-83.5 207,-106.5 \"/>\n<text text-anchor=\"middle\" x=\"227\" y=\"-91.3\" font-family=\"Times,serif\" font-size=\"14.00\">K15</text>\n<polyline fill=\"none\" stroke=\"black\" points=\"247,-83.5 247,-106.5 \"/>\n<text text-anchor=\"middle\" x=\"267\" y=\"-91.3\" font-family=\"Times,serif\" font-size=\"14.00\">K16</text>\n</g>\n<!-- Internal10&#45;&gt;Leaf10 -->\n<g id=\"edge1\" class=\"edge\">\n<title>Internal10:f10-&gt;Leaf10</title>\n<path fill=\"none\" stroke=\"black\" d=\"M27,-83C27,-74.57 27,-65.46 27,-57\"/>\n<polygon fill=\"black\" stroke=\"black\" points=\"30.5,-56.72 27,-46.72 23.5,-56.72 30.5,-56.72\"/>\n</g>\n<!-- Internal10&#45;&gt;Leaf15 -->\n<g id=\"edge2\" class=\"edge\">\n<title>Internal10:f15-&gt;Leaf15</title>\n<path fill=\"none\" stroke=\"black\" d=\"M227,-83C227,-73.39 223.64,-63.87 219.09,-55.38\"/>\n<polygon fill=\"black\" stroke=\"black\" points=\"221.97,-53.37 213.8,-46.62 215.98,-56.99 221.97,-53.37\"/>\n</g>\n<!-- Internal10&#45;&gt;Leaf16 -->\n<g id=\"edge3\" class=\"edge\">\n<title>Internal10:f16-&gt;Leaf16</title>\n<path fill=\"none\" stroke=\"black\" d=\"M267,-83C267,-74.57 267,-65.46 267,-57\"/>\n<polygon fill=\"black\" stroke=\"black\" points=\"270.5,-56.72 267,-46.72 263.5,-56.72 270.5,-56.72\"/>\n</g>\n<!-- Internal20 -->\n<g id=\"node12\" class=\"node\">\n<title>Internal20</title>\n<polygon fill=\"none\" stroke=\"black\" points=\"315,-83.5 315,-129.5 555,-129.5 555,-83.5 315,-83.5\"/>\n<text text-anchor=\"middle\" x=\"435\" y=\"-114.3\" font-family=\"Times,serif\" font-size=\"14.00\">Internal node</text>\n<polyline fill=\"none\" stroke=\"black\" points=\"315,-106.5 555,-106.5 \"/>\n<text text-anchor=\"middle\" x=\"335\" y=\"-91.3\" font-family=\"Times,serif\" font-size=\"14.00\">K20</text>\n<polyline fill=\"none\" stroke=\"black\" points=\"355,-83.5 355,-106.5 \"/>\n<text text-anchor=\"middle\" x=\"375\" y=\"-91.3\" font-family=\"Times,serif\" font-size=\"14.00\">K22</text>\n<polyline fill=\"none\" stroke=\"black\" points=\"395,-83.5 395,-106.5 \"/>\n<text text-anchor=\"middle\" x=\"415\" y=\"-91.3\" font-family=\"Times,serif\" font-size=\"14.00\">K23</text>\n<polyline fill=\"none\" stroke=\"black\" points=\"435,-83.5 435,-106.5 \"/>\n<text text-anchor=\"middle\" x=\"455\" y=\"-91.3\" font-family=\"Times,serif\" font-size=\"14.00\">K25</text>\n<polyline fill=\"none\" stroke=\"black\" points=\"475,-83.5 475,-106.5 \"/>\n<text text-anchor=\"middle\" x=\"495\" y=\"-91.3\" font-family=\"Times,serif\" font-size=\"14.00\">K27</text>\n<polyline fill=\"none\" stroke=\"black\" points=\"515,-83.5 515,-106.5 \"/>\n<text text-anchor=\"middle\" x=\"535\" y=\"-91.3\" font-family=\"Times,serif\" font-size=\"14.00\">K28</text>\n</g>\n<!-- Internal20&#45;&gt;Leaf20 -->\n<g id=\"edge4\" class=\"edge\">\n<title>Internal20:f20-&gt;Leaf20</title>\n<path fill=\"none\" stroke=\"black\" d=\"M335,-83C335,-74.46 335.43,-65.23 336.01,-56.69\"/>\n<polygon fill=\"black\" stroke=\"black\" points=\"339.5,-56.94 336.77,-46.7 332.52,-56.4 339.5,-56.94\"/>\n</g>\n<!-- Internal20&#45;&gt;Leaf23 -->\n<g id=\"edge5\" class=\"edge\">\n<title>Internal20:f23-&gt;Leaf23</title>\n<path fill=\"none\" stroke=\"black\" d=\"M415,-83C415,-74.57 415,-65.46 415,-57\"/>\n<polygon fill=\"black\" stroke=\"black\" points=\"418.5,-56.72 415,-46.72 411.5,-56.72 418.5,-56.72\"/>\n</g>\n<!-- Internal30 -->\n<g id=\"node13\" class=\"node\">\n<title>Internal30</title>\n<polygon fill=\"none\" stroke=\"black\" points=\"573.5,-83.5 573.5,-129.5 662.5,-129.5 662.5,-83.5 573.5,-83.5\"/>\n<text text-anchor=\"middle\" x=\"618\" y=\"-114.3\" font-family=\"Times,serif\" font-size=\"14.00\">Internal node</text>\n<polyline fill=\"none\" stroke=\"black\" points=\"573.5,-106.5 662.5,-106.5 \"/>\n<text text-anchor=\"middle\" x=\"618\" y=\"-91.3\" font-family=\"Times,serif\" font-size=\"14.00\">K30</text>\n</g>\n<!-- Internal30&#45;&gt;Leaf30 -->\n<g id=\"edge6\" class=\"edge\">\n<title>Internal30:f30-&gt;Leaf30</title>\n<path fill=\"none\" stroke=\"black\" d=\"M618,-83C618,-74.57 618,-65.46 618,-57\"/>\n<polygon fill=\"black\" stroke=\"black\" points=\"621.5,-56.72 618,-46.72 614.5,-56.72 621.5,-56.72\"/>\n</g>\n<!-- Internal40 -->\n<g id=\"node14\" class=\"node\">\n<title>Internal40</title>\n<polygon fill=\"none\" stroke=\"black\" points=\"681,-83.5 681,-129.5 961,-129.5 961,-83.5 681,-83.5\"/>\n<text text-anchor=\"middle\" x=\"821\" y=\"-114.3\" font-family=\"Times,serif\" font-size=\"14.00\">Internal node</text>\n<polyline fill=\"none\" stroke=\"black\" points=\"681,-106.5 961,-106.5 \"/>\n<text text-anchor=\"middle\" x=\"701\" y=\"-91.3\" font-family=\"Times,serif\" font-size=\"14.00\">K40</text>\n<polyline fill=\"none\" stroke=\"black\" points=\"721,-83.5 721,-106.5 \"/>\n<text text-anchor=\"middle\" x=\"741\" y=\"-91.3\" font-family=\"Times,serif\" font-size=\"14.00\">K41</text>\n<polyline fill=\"none\" stroke=\"black\" points=\"761,-83.5 761,-106.5 \"/>\n<text text-anchor=\"middle\" x=\"781\" y=\"-91.3\" font-family=\"Times,serif\" font-size=\"14.00\">K43</text>\n<polyline fill=\"none\" stroke=\"black\" points=\"801,-83.5 801,-106.5 \"/>\n<text text-anchor=\"middle\" x=\"821\" y=\"-91.3\" font-family=\"Times,serif\" font-size=\"14.00\">K46</text>\n<polyline fill=\"none\" stroke=\"black\" points=\"841,-83.5 841,-106.5 \"/>\n<text text-anchor=\"middle\" x=\"861\" y=\"-91.3\" font-family=\"Times,serif\" font-size=\"14.00\">K47</text>\n<polyline fill=\"none\" stroke=\"black\" points=\"881,-83.5 881,-106.5 \"/>\n<text text-anchor=\"middle\" x=\"901\" y=\"-91.3\" font-family=\"Times,serif\" font-size=\"14.00\">K48</text>\n<polyline fill=\"none\" stroke=\"black\" points=\"921,-83.5 921,-106.5 \"/>\n<text text-anchor=\"middle\" x=\"941\" y=\"-91.3\" font-family=\"Times,serif\" font-size=\"14.00\">K49</text>\n</g>\n<!-- Internal40&#45;&gt;Leaf40 -->\n<g id=\"edge7\" class=\"edge\">\n<title>Internal40:f40-&gt;Leaf40</title>\n<path fill=\"none\" stroke=\"black\" d=\"M701,-83C701,-74.57 701,-65.46 701,-57\"/>\n<polygon fill=\"black\" stroke=\"black\" points=\"704.5,-56.72 701,-46.72 697.5,-56.72 704.5,-56.72\"/>\n</g>\n<!-- Internal40&#45;&gt;Leaf48 -->\n<g id=\"edge8\" class=\"edge\">\n<title>Internal40:f48-&gt;Leaf48</title>\n<path fill=\"none\" stroke=\"black\" d=\"M901,-83C901,-73.39 897.64,-63.87 893.09,-55.38\"/>\n<polygon fill=\"black\" stroke=\"black\" points=\"895.97,-53.37 887.8,-46.62 889.98,-56.99 895.97,-53.37\"/>\n</g>\n<!-- Internal40&#45;&gt;Leaf49 -->\n<g id=\"edge9\" class=\"edge\">\n<title>Internal40:f49-&gt;Leaf49</title>\n<path fill=\"none\" stroke=\"black\" d=\"M941,-83C941,-74.57 941,-65.46 941,-57\"/>\n<polygon fill=\"black\" stroke=\"black\" points=\"944.5,-56.72 941,-46.72 937.5,-56.72 944.5,-56.72\"/>\n</g>\n<!-- Internal50 -->\n<g id=\"node15\" class=\"node\">\n<title>Internal50</title>\n<polygon fill=\"none\" stroke=\"black\" points=\"986,-83.5 986,-129.5 1226,-129.5 1226,-83.5 986,-83.5\"/>\n<text text-anchor=\"middle\" x=\"1106\" y=\"-114.3\" font-family=\"Times,serif\" font-size=\"14.00\">Internal node</text>\n<polyline fill=\"none\" stroke=\"black\" points=\"986,-106.5 1226,-106.5 \"/>\n<text text-anchor=\"middle\" x=\"1006\" y=\"-91.3\" font-family=\"Times,serif\" font-size=\"14.00\">K50</text>\n<polyline fill=\"none\" stroke=\"black\" points=\"1026,-83.5 1026,-106.5 \"/>\n<text text-anchor=\"middle\" x=\"1046\" y=\"-91.3\" font-family=\"Times,serif\" font-size=\"14.00\">K54</text>\n<polyline fill=\"none\" stroke=\"black\" points=\"1066,-83.5 1066,-106.5 \"/>\n<text text-anchor=\"middle\" x=\"1086\" y=\"-91.3\" font-family=\"Times,serif\" font-size=\"14.00\">K55</text>\n<polyline fill=\"none\" stroke=\"black\" points=\"1106,-83.5 1106,-106.5 \"/>\n<text text-anchor=\"middle\" x=\"1126\" y=\"-91.3\" font-family=\"Times,serif\" font-size=\"14.00\">K56</text>\n<polyline fill=\"none\" stroke=\"black\" points=\"1146,-83.5 1146,-106.5 \"/>\n<text text-anchor=\"middle\" x=\"1166\" y=\"-91.3\" font-family=\"Times,serif\" font-size=\"14.00\">K58</text>\n<polyline fill=\"none\" stroke=\"black\" points=\"1186,-83.5 1186,-106.5 \"/>\n<text text-anchor=\"middle\" x=\"1206\" y=\"-91.3\" font-family=\"Times,serif\" font-size=\"14.00\">K59</text>\n</g>\n<!-- Internal50&#45;&gt;Leaf50 -->\n<g id=\"edge10\" class=\"edge\">\n<title>Internal50:f50-&gt;Leaf50</title>\n<path fill=\"none\" stroke=\"black\" d=\"M1006,-83C1006,-74.42 1006.75,-65.18 1007.76,-56.64\"/>\n<polygon fill=\"black\" stroke=\"black\" points=\"1011.24,-57.02 1009.09,-46.65 1004.3,-56.1 1011.24,-57.02\"/>\n</g>\n<!-- Internalroot -->\n<g id=\"node16\" class=\"node\">\n<title>Internalroot</title>\n<polygon fill=\"none\" stroke=\"black\" points=\"518,-166.5 518,-212.5 718,-212.5 718,-166.5 518,-166.5\"/>\n<text text-anchor=\"middle\" x=\"618\" y=\"-197.3\" font-family=\"Times,serif\" font-size=\"14.00\">Internal node</text>\n<polyline fill=\"none\" stroke=\"black\" points=\"518,-189.5 718,-189.5 \"/>\n<text text-anchor=\"middle\" x=\"538\" y=\"-174.3\" font-family=\"Times,serif\" font-size=\"14.00\">K10</text>\n<polyline fill=\"none\" stroke=\"black\" points=\"558,-166.5 558,-189.5 \"/>\n<text text-anchor=\"middle\" x=\"578\" y=\"-174.3\" font-family=\"Times,serif\" font-size=\"14.00\">K20</text>\n<polyline fill=\"none\" stroke=\"black\" points=\"598,-166.5 598,-189.5 \"/>\n<text text-anchor=\"middle\" x=\"618\" y=\"-174.3\" font-family=\"Times,serif\" font-size=\"14.00\">K30</text>\n<polyline fill=\"none\" stroke=\"black\" points=\"638,-166.5 638,-189.5 \"/>\n<text text-anchor=\"middle\" x=\"658\" y=\"-174.3\" font-family=\"Times,serif\" font-size=\"14.00\">K40</text>\n<polyline fill=\"none\" stroke=\"black\" points=\"678,-166.5 678,-189.5 \"/>\n<text text-anchor=\"middle\" x=\"698\" y=\"-174.3\" font-family=\"Times,serif\" font-size=\"14.00\">K50</text>\n</g>\n<!-- Internalroot&#45;&gt;Internal10 -->\n<g id=\"edge11\" class=\"edge\">\n<title>Internalroot:f10-&gt;Internal10</title>\n<path fill=\"none\" stroke=\"black\" d=\"M517,-177.5C416.74,-177.5 303.81,-152.38 229.38,-132.23\"/>\n<polygon fill=\"black\" stroke=\"black\" points=\"230.16,-128.82 219.59,-129.55 228.32,-135.57 230.16,-128.82\"/>\n</g>\n<!-- Internalroot&#45;&gt;Internal20 -->\n<g id=\"edge12\" class=\"edge\">\n<title>Internalroot:f20-&gt;Internal20</title>\n<path fill=\"none\" stroke=\"black\" d=\"M578,-166C578,-152.24 572.26,-141.65 563.08,-133.5\"/>\n<polygon fill=\"black\" stroke=\"black\" points=\"565.13,-130.67 555.02,-127.48 560.94,-136.27 565.13,-130.67\"/>\n</g>\n<!-- Internalroot&#45;&gt;Internal30 -->\n<g id=\"edge13\" class=\"edge\">\n<title>Internalroot:f30-&gt;Internal30</title>\n<path fill=\"none\" stroke=\"black\" d=\"M618,-166C618,-157.57 618,-148.46 618,-140\"/>\n<polygon fill=\"black\" stroke=\"black\" points=\"621.5,-139.72 618,-129.72 614.5,-139.72 621.5,-139.72\"/>\n</g>\n<!-- Internalroot&#45;&gt;Internal40 -->\n<g id=\"edge14\" class=\"edge\">\n<title>Internalroot:f40-&gt;Internal40</title>\n<path fill=\"none\" stroke=\"black\" d=\"M658,-166C658,-152.68 677.53,-141.57 703.07,-132.74\"/>\n<polygon fill=\"black\" stroke=\"black\" points=\"704.31,-136.02 712.73,-129.59 702.14,-129.36 704.31,-136.02\"/>\n</g>\n<!-- Internalroot&#45;&gt;Internal50 -->\n<g id=\"edge15\" class=\"edge\">\n<title>Internalroot:f50-&gt;Internal50</title>\n<path fill=\"none\" stroke=\"black\" d=\"M719,-177.5C823.93,-177.5 942.34,-152.27 1020.23,-132.11\"/>\n<polygon fill=\"black\" stroke=\"black\" points=\"1021.21,-135.47 1030,-129.55 1019.44,-128.7 1021.21,-135.47\"/>\n</g>\n</g>\n</svg>"
          },
          "metadata": {}
        }
      ],
      "source": [
        "mem_leaf_nodes = [10, 15, 16, 20, 23, 30, 40, 48, 49, 50]\n",
        "dsk_leaf_nodes = [11, 12, 13, 14, 22, 25, 27, 28, 41, 43, 46, 47, 54, 55, 56, 58, 59]\n",
        "internal_nodes = [10, 20, 30, 40, 50]\n",
        "\n",
        "tree = Tree(mem_leaf_nodes, dsk_leaf_nodes, internal_nodes)\n",
        "tree.ConstructTree()\n",
        "\n",
        "print(\"Construct a moderately complex tree, note that internal node contents are auto-generated\")\n",
        "DisplayGraph(tree.display_nodes)\n",
        "\n"
      ]
    },
    {
      "cell_type": "markdown",
      "source": [],
      "metadata": {
        "id": "6h_58l-q199n"
      },
      "id": "6h_58l-q199n"
    },
    {
      "cell_type": "code",
      "execution_count": null,
      "id": "c6bee7f8-b1f1-4273-82fb-2947a817a279",
      "metadata": {
        "id": "c6bee7f8-b1f1-4273-82fb-2947a817a279",
        "colab": {
          "base_uri": "https://localhost:8080/",
          "height": 228
        },
        "outputId": "27457592-d4d9-4d87-f7b6-9dcf41719051"
      },
      "outputs": [
        {
          "output_type": "stream",
          "name": "stdout",
          "text": [
            "Mark a selection of pages dirty, and trigger eviction on some of those dirty pages\n"
          ]
        },
        {
          "output_type": "error",
          "ename": "AttributeError",
          "evalue": "module 'sklearn.tree' has no attribute 'DirtyLeafPage'",
          "traceback": [
            "\u001b[0;31m---------------------------------------------------------------------------\u001b[0m",
            "\u001b[0;31mAttributeError\u001b[0m                            Traceback (most recent call last)",
            "\u001b[0;32m<ipython-input-11-97503af879c0>\u001b[0m in \u001b[0;36m<cell line: 2>\u001b[0;34m()\u001b[0m\n\u001b[1;32m      1\u001b[0m \u001b[0mprint\u001b[0m\u001b[0;34m(\u001b[0m\u001b[0;34m\"Mark a selection of pages dirty, and trigger eviction on some of those dirty pages\"\u001b[0m\u001b[0;34m)\u001b[0m\u001b[0;34m\u001b[0m\u001b[0;34m\u001b[0m\u001b[0m\n\u001b[0;32m----> 2\u001b[0;31m \u001b[0mtree\u001b[0m\u001b[0;34m.\u001b[0m\u001b[0mDirtyLeafPage\u001b[0m\u001b[0;34m(\u001b[0m\u001b[0;36m15\u001b[0m\u001b[0;34m)\u001b[0m\u001b[0;34m\u001b[0m\u001b[0;34m\u001b[0m\u001b[0m\n\u001b[0m\u001b[1;32m      3\u001b[0m \u001b[0mtree\u001b[0m\u001b[0;34m.\u001b[0m\u001b[0mDirtyLeafPage\u001b[0m\u001b[0;34m(\u001b[0m\u001b[0;36m48\u001b[0m\u001b[0;34m)\u001b[0m\u001b[0;34m\u001b[0m\u001b[0;34m\u001b[0m\u001b[0m\n\u001b[1;32m      4\u001b[0m \u001b[0mtree\u001b[0m\u001b[0;34m.\u001b[0m\u001b[0mDirtyLeafPage\u001b[0m\u001b[0;34m(\u001b[0m\u001b[0;36m49\u001b[0m\u001b[0;34m)\u001b[0m\u001b[0;34m\u001b[0m\u001b[0;34m\u001b[0m\u001b[0m\n\u001b[1;32m      5\u001b[0m \u001b[0;34m\u001b[0m\u001b[0m\n",
            "\u001b[0;31mAttributeError\u001b[0m: module 'sklearn.tree' has no attribute 'DirtyLeafPage'"
          ]
        }
      ],
      "source": [
        "\n",
        "print(\"Mark a selection of pages dirty, and trigger eviction on some of those dirty pages\")\n",
        "tree.DirtyLeafPage(15)\n",
        "tree.DirtyLeafPage(48)\n",
        "tree.DirtyLeafPage(49)\n",
        "\n",
        "tree.Reconcile(15)\n",
        "tree.Reconcile(48)\n",
        "\n",
        "DisplayGraph(tree.display_nodes)"
      ]
    },
    {
      "cell_type": "code",
      "source": [
        "from google.colab import drive\n",
        "drive.mount('/content/drive')"
      ],
      "metadata": {
        "id": "vMUqCzmhp6lG"
      },
      "id": "vMUqCzmhp6lG",
      "execution_count": null,
      "outputs": []
    },
    {
      "cell_type": "code",
      "execution_count": null,
      "id": "4a3c748a-e8a4-4bfd-8d09-e1699ec7462e",
      "metadata": {
        "id": "4a3c748a-e8a4-4bfd-8d09-e1699ec7462e",
        "colab": {
          "base_uri": "https://localhost:8080/",
          "height": 353
        },
        "outputId": "168a6921-d939-4e6e-a020-5734527802f6"
      },
      "outputs": [
        {
          "output_type": "stream",
          "name": "stdout",
          "text": [
            "Dirty another page and then trigger a checkpoint\n"
          ]
        },
        {
          "output_type": "display_data",
          "data": {
            "text/plain": [
              "<IPython.core.display.SVG object>"
            ],
            "image/svg+xml": "<svg xmlns=\"http://www.w3.org/2000/svg\" xmlns:xlink=\"http://www.w3.org/1999/xlink\" width=\"1231pt\" height=\"221pt\" viewBox=\"0.00 0.00 1231.00 221.00\">\n<g id=\"graph0\" class=\"graph\" transform=\"scale(1 1) rotate(0) translate(4 217)\">\n<title>structs</title>\n<polygon fill=\"white\" stroke=\"transparent\" points=\"-4,4 -4,-217 1227,-217 1227,4 -4,4\"/>\n<!-- Leaf10 -->\n<g id=\"node1\" class=\"node\">\n<title>Leaf10</title>\n<polygon fill=\"none\" stroke=\"black\" points=\"0,-0.5 0,-46.5 54,-46.5 54,-0.5 0,-0.5\"/>\n<text text-anchor=\"middle\" x=\"27\" y=\"-31.3\" font-family=\"Times,serif\" font-size=\"14.00\">K10</text>\n<polyline fill=\"none\" stroke=\"black\" points=\"0,-23.5 54,-23.5 \"/>\n<text text-anchor=\"middle\" x=\"27\" y=\"-8.3\" font-family=\"Times,serif\" font-size=\"14.00\"> </text>\n</g>\n<!-- Leaf16 -->\n<g id=\"node2\" class=\"node\">\n<title>Leaf16</title>\n<polygon fill=\"none\" stroke=\"black\" points=\"236,-0.5 236,-46.5 290,-46.5 290,-0.5 236,-0.5\"/>\n<text text-anchor=\"middle\" x=\"263\" y=\"-31.3\" font-family=\"Times,serif\" font-size=\"14.00\">K16</text>\n<polyline fill=\"none\" stroke=\"black\" points=\"236,-23.5 290,-23.5 \"/>\n<text text-anchor=\"middle\" x=\"263\" y=\"-8.3\" font-family=\"Times,serif\" font-size=\"14.00\"> </text>\n</g>\n<!-- Leaf20 -->\n<g id=\"node3\" class=\"node\">\n<title>Leaf20</title>\n<polygon fill=\"none\" stroke=\"black\" points=\"308,-0.5 308,-46.5 362,-46.5 362,-0.5 308,-0.5\"/>\n<text text-anchor=\"middle\" x=\"335\" y=\"-31.3\" font-family=\"Times,serif\" font-size=\"14.00\">K20</text>\n<polyline fill=\"none\" stroke=\"black\" points=\"308,-23.5 362,-23.5 \"/>\n<text text-anchor=\"middle\" x=\"335\" y=\"-8.3\" font-family=\"Times,serif\" font-size=\"14.00\"> </text>\n</g>\n<!-- Leaf23 -->\n<g id=\"node4\" class=\"node\">\n<title>Leaf23</title>\n<polygon fill=\"none\" stroke=\"black\" points=\"385,-0.5 385,-46.5 439,-46.5 439,-0.5 385,-0.5\"/>\n<text text-anchor=\"middle\" x=\"412\" y=\"-31.3\" font-family=\"Times,serif\" font-size=\"14.00\">K23</text>\n<polyline fill=\"none\" stroke=\"black\" points=\"385,-23.5 439,-23.5 \"/>\n<text text-anchor=\"middle\" x=\"412\" y=\"-8.3\" font-family=\"Times,serif\" font-size=\"14.00\"> </text>\n</g>\n<!-- Leaf30 -->\n<g id=\"node5\" class=\"node\">\n<title>Leaf30</title>\n<polygon fill=\"none\" stroke=\"black\" points=\"588,-0.5 588,-46.5 642,-46.5 642,-0.5 588,-0.5\"/>\n<text text-anchor=\"middle\" x=\"615\" y=\"-31.3\" font-family=\"Times,serif\" font-size=\"14.00\">K30</text>\n<polyline fill=\"none\" stroke=\"black\" points=\"588,-23.5 642,-23.5 \"/>\n<text text-anchor=\"middle\" x=\"615\" y=\"-8.3\" font-family=\"Times,serif\" font-size=\"14.00\"> </text>\n</g>\n<!-- Leaf40 -->\n<g id=\"node6\" class=\"node\">\n<title>Leaf40</title>\n<polygon fill=\"none\" stroke=\"black\" points=\"671,-0.5 671,-46.5 725,-46.5 725,-0.5 671,-0.5\"/>\n<text text-anchor=\"middle\" x=\"698\" y=\"-31.3\" font-family=\"Times,serif\" font-size=\"14.00\">K40</text>\n<polyline fill=\"none\" stroke=\"black\" points=\"671,-23.5 725,-23.5 \"/>\n<text text-anchor=\"middle\" x=\"698\" y=\"-8.3\" font-family=\"Times,serif\" font-size=\"14.00\"> </text>\n</g>\n<!-- Leaf49 -->\n<g id=\"node7\" class=\"node\">\n<title>Leaf49</title>\n<polygon fill=\"none\" stroke=\"black\" points=\"907,-0.5 907,-46.5 961,-46.5 961,-0.5 907,-0.5\"/>\n<text text-anchor=\"middle\" x=\"934\" y=\"-31.3\" font-family=\"Times,serif\" font-size=\"14.00\">K49</text>\n<polyline fill=\"none\" stroke=\"black\" points=\"907,-23.5 961,-23.5 \"/>\n<text text-anchor=\"middle\" x=\"934\" y=\"-8.3\" font-family=\"Times,serif\" font-size=\"14.00\"> </text>\n</g>\n<!-- Leaf50 -->\n<g id=\"node8\" class=\"node\">\n<title>Leaf50</title>\n<polygon fill=\"none\" stroke=\"black\" points=\"979,-0.5 979,-46.5 1033,-46.5 1033,-0.5 979,-0.5\"/>\n<text text-anchor=\"middle\" x=\"1006\" y=\"-31.3\" font-family=\"Times,serif\" font-size=\"14.00\">K50</text>\n<polyline fill=\"none\" stroke=\"black\" points=\"979,-23.5 1033,-23.5 \"/>\n<text text-anchor=\"middle\" x=\"1006\" y=\"-8.3\" font-family=\"Times,serif\" font-size=\"14.00\"> </text>\n</g>\n<!-- Internal10 -->\n<g id=\"node9\" class=\"node\">\n<title>Internal10</title>\n<polygon fill=\"none\" stroke=\"black\" points=\"7,-83.5 7,-129.5 287,-129.5 287,-83.5 7,-83.5\"/>\n<text text-anchor=\"middle\" x=\"147\" y=\"-114.3\" font-family=\"Times,serif\" font-size=\"14.00\">Internal node</text>\n<polyline fill=\"none\" stroke=\"black\" points=\"7,-106.5 287,-106.5 \"/>\n<text text-anchor=\"middle\" x=\"27\" y=\"-91.3\" font-family=\"Times,serif\" font-size=\"14.00\">K10</text>\n<polyline fill=\"none\" stroke=\"black\" points=\"47,-83.5 47,-106.5 \"/>\n<text text-anchor=\"middle\" x=\"67\" y=\"-91.3\" font-family=\"Times,serif\" font-size=\"14.00\">K11</text>\n<polyline fill=\"none\" stroke=\"black\" points=\"87,-83.5 87,-106.5 \"/>\n<text text-anchor=\"middle\" x=\"107\" y=\"-91.3\" font-family=\"Times,serif\" font-size=\"14.00\">K12</text>\n<polyline fill=\"none\" stroke=\"black\" points=\"127,-83.5 127,-106.5 \"/>\n<text text-anchor=\"middle\" x=\"147\" y=\"-91.3\" font-family=\"Times,serif\" font-size=\"14.00\">K13</text>\n<polyline fill=\"none\" stroke=\"black\" points=\"167,-83.5 167,-106.5 \"/>\n<text text-anchor=\"middle\" x=\"187\" y=\"-91.3\" font-family=\"Times,serif\" font-size=\"14.00\">K14</text>\n<polyline fill=\"none\" stroke=\"black\" points=\"207,-83.5 207,-106.5 \"/>\n<text text-anchor=\"middle\" x=\"227\" y=\"-91.3\" font-family=\"Times,serif\" font-size=\"14.00\">K15</text>\n<polyline fill=\"none\" stroke=\"black\" points=\"247,-83.5 247,-106.5 \"/>\n<text text-anchor=\"middle\" x=\"267\" y=\"-91.3\" font-family=\"Times,serif\" font-size=\"14.00\">K16</text>\n</g>\n<!-- Internal10&#45;&gt;Leaf10 -->\n<g id=\"edge1\" class=\"edge\">\n<title>Internal10:f10-&gt;Leaf10</title>\n<path fill=\"none\" stroke=\"black\" d=\"M27,-83C27,-74.57 27,-65.46 27,-57\"/>\n<polygon fill=\"black\" stroke=\"black\" points=\"30.5,-56.72 27,-46.72 23.5,-56.72 30.5,-56.72\"/>\n</g>\n<!-- Internal10&#45;&gt;Leaf16 -->\n<g id=\"edge2\" class=\"edge\">\n<title>Internal10:f16-&gt;Leaf16</title>\n<path fill=\"none\" stroke=\"black\" d=\"M267,-83C267,-74.46 266.57,-65.23 265.99,-56.69\"/>\n<polygon fill=\"black\" stroke=\"black\" points=\"269.48,-56.4 265.23,-46.7 262.5,-56.94 269.48,-56.4\"/>\n</g>\n<!-- Rec10_0 -->\n<g id=\"node10\" class=\"node\">\n<title>Rec10_0</title>\n<polygon fill=\"lightblue\" stroke=\"blue\" points=\"733.5,-166.5 733.5,-212.5 828.5,-212.5 828.5,-166.5 733.5,-166.5\"/>\n<text text-anchor=\"middle\" x=\"781\" y=\"-197.3\" font-family=\"Times,serif\" font-size=\"14.00\">Reconciled 10</text>\n<polyline fill=\"none\" stroke=\"blue\" points=\"733.5,-189.5 828.5,-189.5 \"/>\n<text text-anchor=\"middle\" x=\"781\" y=\"-174.3\" font-family=\"Times,serif\" font-size=\"14.00\">K15/addr</text>\n</g>\n<!-- Internal20 -->\n<g id=\"node11\" class=\"node\">\n<title>Internal20</title>\n<polygon fill=\"none\" stroke=\"black\" points=\"312,-83.5 312,-129.5 552,-129.5 552,-83.5 312,-83.5\"/>\n<text text-anchor=\"middle\" x=\"432\" y=\"-114.3\" font-family=\"Times,serif\" font-size=\"14.00\">Internal node</text>\n<polyline fill=\"none\" stroke=\"black\" points=\"312,-106.5 552,-106.5 \"/>\n<text text-anchor=\"middle\" x=\"332\" y=\"-91.3\" font-family=\"Times,serif\" font-size=\"14.00\">K20</text>\n<polyline fill=\"none\" stroke=\"black\" points=\"352,-83.5 352,-106.5 \"/>\n<text text-anchor=\"middle\" x=\"372\" y=\"-91.3\" font-family=\"Times,serif\" font-size=\"14.00\">K22</text>\n<polyline fill=\"none\" stroke=\"black\" points=\"392,-83.5 392,-106.5 \"/>\n<text text-anchor=\"middle\" x=\"412\" y=\"-91.3\" font-family=\"Times,serif\" font-size=\"14.00\">K23</text>\n<polyline fill=\"none\" stroke=\"black\" points=\"432,-83.5 432,-106.5 \"/>\n<text text-anchor=\"middle\" x=\"452\" y=\"-91.3\" font-family=\"Times,serif\" font-size=\"14.00\">K25</text>\n<polyline fill=\"none\" stroke=\"black\" points=\"472,-83.5 472,-106.5 \"/>\n<text text-anchor=\"middle\" x=\"492\" y=\"-91.3\" font-family=\"Times,serif\" font-size=\"14.00\">K27</text>\n<polyline fill=\"none\" stroke=\"black\" points=\"512,-83.5 512,-106.5 \"/>\n<text text-anchor=\"middle\" x=\"532\" y=\"-91.3\" font-family=\"Times,serif\" font-size=\"14.00\">K28</text>\n</g>\n<!-- Internal20&#45;&gt;Leaf20 -->\n<g id=\"edge3\" class=\"edge\">\n<title>Internal20:f20-&gt;Leaf20</title>\n<path fill=\"none\" stroke=\"black\" d=\"M332,-83C332,-74.47 332.32,-65.25 332.76,-56.7\"/>\n<polygon fill=\"black\" stroke=\"black\" points=\"336.25,-56.89 333.32,-46.71 329.26,-56.49 336.25,-56.89\"/>\n</g>\n<!-- Internal20&#45;&gt;Leaf23 -->\n<g id=\"edge4\" class=\"edge\">\n<title>Internal20:f23-&gt;Leaf23</title>\n<path fill=\"none\" stroke=\"black\" d=\"M412,-83C412,-74.57 412,-65.46 412,-57\"/>\n<polygon fill=\"black\" stroke=\"black\" points=\"415.5,-56.72 412,-46.72 408.5,-56.72 415.5,-56.72\"/>\n</g>\n<!-- Internal30 -->\n<g id=\"node12\" class=\"node\">\n<title>Internal30</title>\n<polygon fill=\"none\" stroke=\"black\" points=\"570.5,-83.5 570.5,-129.5 659.5,-129.5 659.5,-83.5 570.5,-83.5\"/>\n<text text-anchor=\"middle\" x=\"615\" y=\"-114.3\" font-family=\"Times,serif\" font-size=\"14.00\">Internal node</text>\n<polyline fill=\"none\" stroke=\"black\" points=\"570.5,-106.5 659.5,-106.5 \"/>\n<text text-anchor=\"middle\" x=\"615\" y=\"-91.3\" font-family=\"Times,serif\" font-size=\"14.00\">K30</text>\n</g>\n<!-- Internal30&#45;&gt;Leaf30 -->\n<g id=\"edge5\" class=\"edge\">\n<title>Internal30:f30-&gt;Leaf30</title>\n<path fill=\"none\" stroke=\"black\" d=\"M615,-83C615,-74.57 615,-65.46 615,-57\"/>\n<polygon fill=\"black\" stroke=\"black\" points=\"618.5,-56.72 615,-46.72 611.5,-56.72 618.5,-56.72\"/>\n</g>\n<!-- Internal40 -->\n<g id=\"node13\" class=\"node\">\n<title>Internal40</title>\n<polygon fill=\"none\" stroke=\"black\" points=\"678,-83.5 678,-129.5 958,-129.5 958,-83.5 678,-83.5\"/>\n<text text-anchor=\"middle\" x=\"818\" y=\"-114.3\" font-family=\"Times,serif\" font-size=\"14.00\">Internal node</text>\n<polyline fill=\"none\" stroke=\"black\" points=\"678,-106.5 958,-106.5 \"/>\n<text text-anchor=\"middle\" x=\"698\" y=\"-91.3\" font-family=\"Times,serif\" font-size=\"14.00\">K40</text>\n<polyline fill=\"none\" stroke=\"black\" points=\"718,-83.5 718,-106.5 \"/>\n<text text-anchor=\"middle\" x=\"738\" y=\"-91.3\" font-family=\"Times,serif\" font-size=\"14.00\">K41</text>\n<polyline fill=\"none\" stroke=\"black\" points=\"758,-83.5 758,-106.5 \"/>\n<text text-anchor=\"middle\" x=\"778\" y=\"-91.3\" font-family=\"Times,serif\" font-size=\"14.00\">K43</text>\n<polyline fill=\"none\" stroke=\"black\" points=\"798,-83.5 798,-106.5 \"/>\n<text text-anchor=\"middle\" x=\"818\" y=\"-91.3\" font-family=\"Times,serif\" font-size=\"14.00\">K46</text>\n<polyline fill=\"none\" stroke=\"black\" points=\"838,-83.5 838,-106.5 \"/>\n<text text-anchor=\"middle\" x=\"858\" y=\"-91.3\" font-family=\"Times,serif\" font-size=\"14.00\">K47</text>\n<polyline fill=\"none\" stroke=\"black\" points=\"878,-83.5 878,-106.5 \"/>\n<text text-anchor=\"middle\" x=\"898\" y=\"-91.3\" font-family=\"Times,serif\" font-size=\"14.00\">K48</text>\n<polyline fill=\"none\" stroke=\"black\" points=\"918,-83.5 918,-106.5 \"/>\n<text text-anchor=\"middle\" x=\"938\" y=\"-91.3\" font-family=\"Times,serif\" font-size=\"14.00\">K49</text>\n</g>\n<!-- Internal40&#45;&gt;Leaf40 -->\n<g id=\"edge6\" class=\"edge\">\n<title>Internal40:f40-&gt;Leaf40</title>\n<path fill=\"none\" stroke=\"black\" d=\"M698,-83C698,-74.57 698,-65.46 698,-57\"/>\n<polygon fill=\"black\" stroke=\"black\" points=\"701.5,-56.72 698,-46.72 694.5,-56.72 701.5,-56.72\"/>\n</g>\n<!-- Internal40&#45;&gt;Leaf49 -->\n<g id=\"edge7\" class=\"edge\">\n<title>Internal40:f49-&gt;Leaf49</title>\n<path fill=\"none\" stroke=\"black\" d=\"M938,-83C938,-74.46 937.57,-65.23 936.99,-56.69\"/>\n<polygon fill=\"black\" stroke=\"black\" points=\"940.48,-56.4 936.23,-46.7 933.5,-56.94 940.48,-56.4\"/>\n</g>\n<!-- Rec40_0 -->\n<g id=\"node14\" class=\"node\">\n<title>Rec40_0</title>\n<polygon fill=\"lightblue\" stroke=\"blue\" points=\"847,-166.5 847,-212.5 983,-212.5 983,-166.5 847,-166.5\"/>\n<text text-anchor=\"middle\" x=\"915\" y=\"-197.3\" font-family=\"Times,serif\" font-size=\"14.00\">Reconciled 40</text>\n<polyline fill=\"none\" stroke=\"blue\" points=\"847,-189.5 983,-189.5 \"/>\n<text text-anchor=\"middle\" x=\"881\" y=\"-174.3\" font-family=\"Times,serif\" font-size=\"14.00\">K48/addr</text>\n<polyline fill=\"none\" stroke=\"blue\" points=\"915,-166.5 915,-189.5 \"/>\n<text text-anchor=\"middle\" x=\"949\" y=\"-174.3\" font-family=\"Times,serif\" font-size=\"14.00\">K49/addr</text>\n</g>\n<!-- Internal50 -->\n<g id=\"node15\" class=\"node\">\n<title>Internal50</title>\n<polygon fill=\"none\" stroke=\"black\" points=\"983,-83.5 983,-129.5 1223,-129.5 1223,-83.5 983,-83.5\"/>\n<text text-anchor=\"middle\" x=\"1103\" y=\"-114.3\" font-family=\"Times,serif\" font-size=\"14.00\">Internal node</text>\n<polyline fill=\"none\" stroke=\"black\" points=\"983,-106.5 1223,-106.5 \"/>\n<text text-anchor=\"middle\" x=\"1003\" y=\"-91.3\" font-family=\"Times,serif\" font-size=\"14.00\">K50</text>\n<polyline fill=\"none\" stroke=\"black\" points=\"1023,-83.5 1023,-106.5 \"/>\n<text text-anchor=\"middle\" x=\"1043\" y=\"-91.3\" font-family=\"Times,serif\" font-size=\"14.00\">K54</text>\n<polyline fill=\"none\" stroke=\"black\" points=\"1063,-83.5 1063,-106.5 \"/>\n<text text-anchor=\"middle\" x=\"1083\" y=\"-91.3\" font-family=\"Times,serif\" font-size=\"14.00\">K55</text>\n<polyline fill=\"none\" stroke=\"black\" points=\"1103,-83.5 1103,-106.5 \"/>\n<text text-anchor=\"middle\" x=\"1123\" y=\"-91.3\" font-family=\"Times,serif\" font-size=\"14.00\">K56</text>\n<polyline fill=\"none\" stroke=\"black\" points=\"1143,-83.5 1143,-106.5 \"/>\n<text text-anchor=\"middle\" x=\"1163\" y=\"-91.3\" font-family=\"Times,serif\" font-size=\"14.00\">K58</text>\n<polyline fill=\"none\" stroke=\"black\" points=\"1183,-83.5 1183,-106.5 \"/>\n<text text-anchor=\"middle\" x=\"1203\" y=\"-91.3\" font-family=\"Times,serif\" font-size=\"14.00\">K59</text>\n</g>\n<!-- Internal50&#45;&gt;Leaf50 -->\n<g id=\"edge8\" class=\"edge\">\n<title>Internal50:f50-&gt;Leaf50</title>\n<path fill=\"none\" stroke=\"black\" d=\"M1003,-83C1003,-74.47 1003.32,-65.25 1003.76,-56.7\"/>\n<polygon fill=\"black\" stroke=\"black\" points=\"1007.25,-56.89 1004.32,-46.71 1000.26,-56.49 1007.25,-56.89\"/>\n</g>\n<!-- Internalroot -->\n<g id=\"node16\" class=\"node\">\n<title>Internalroot</title>\n<polygon fill=\"none\" stroke=\"black\" points=\"515,-166.5 515,-212.5 715,-212.5 715,-166.5 515,-166.5\"/>\n<text text-anchor=\"middle\" x=\"615\" y=\"-197.3\" font-family=\"Times,serif\" font-size=\"14.00\">Internal node</text>\n<polyline fill=\"none\" stroke=\"black\" points=\"515,-189.5 715,-189.5 \"/>\n<text text-anchor=\"middle\" x=\"535\" y=\"-174.3\" font-family=\"Times,serif\" font-size=\"14.00\">K10</text>\n<polyline fill=\"none\" stroke=\"black\" points=\"555,-166.5 555,-189.5 \"/>\n<text text-anchor=\"middle\" x=\"575\" y=\"-174.3\" font-family=\"Times,serif\" font-size=\"14.00\">K20</text>\n<polyline fill=\"none\" stroke=\"black\" points=\"595,-166.5 595,-189.5 \"/>\n<text text-anchor=\"middle\" x=\"615\" y=\"-174.3\" font-family=\"Times,serif\" font-size=\"14.00\">K30</text>\n<polyline fill=\"none\" stroke=\"black\" points=\"635,-166.5 635,-189.5 \"/>\n<text text-anchor=\"middle\" x=\"655\" y=\"-174.3\" font-family=\"Times,serif\" font-size=\"14.00\">K40</text>\n<polyline fill=\"none\" stroke=\"black\" points=\"675,-166.5 675,-189.5 \"/>\n<text text-anchor=\"middle\" x=\"695\" y=\"-174.3\" font-family=\"Times,serif\" font-size=\"14.00\">K50</text>\n</g>\n<!-- Internalroot&#45;&gt;Internal10 -->\n<g id=\"edge9\" class=\"edge\">\n<title>Internalroot:f10-&gt;Internal10</title>\n<path fill=\"none\" stroke=\"black\" d=\"M514,-177.5C414.52,-177.5 302.52,-152.38 228.7,-132.23\"/>\n<polygon fill=\"black\" stroke=\"black\" points=\"229.56,-128.84 218.99,-129.55 227.7,-135.59 229.56,-128.84\"/>\n</g>\n<!-- Internalroot&#45;&gt;Internal20 -->\n<g id=\"edge10\" class=\"edge\">\n<title>Internalroot:f20-&gt;Internal20</title>\n<path fill=\"none\" stroke=\"black\" d=\"M575,-166C575,-152.24 569.26,-141.65 560.08,-133.5\"/>\n<polygon fill=\"black\" stroke=\"black\" points=\"562.13,-130.67 552.02,-127.48 557.94,-136.27 562.13,-130.67\"/>\n</g>\n<!-- Internalroot&#45;&gt;Internal30 -->\n<g id=\"edge11\" class=\"edge\">\n<title>Internalroot:f30-&gt;Internal30</title>\n<path fill=\"none\" stroke=\"black\" d=\"M615,-166C615,-157.57 615,-148.46 615,-140\"/>\n<polygon fill=\"black\" stroke=\"black\" points=\"618.5,-139.72 615,-129.72 611.5,-139.72 618.5,-139.72\"/>\n</g>\n<!-- Internalroot&#45;&gt;Internal40 -->\n<g id=\"edge12\" class=\"edge\">\n<title>Internalroot:f40-&gt;Internal40</title>\n<path fill=\"none\" stroke=\"black\" d=\"M655,-166C655,-152.68 674.53,-141.57 700.07,-132.74\"/>\n<polygon fill=\"black\" stroke=\"black\" points=\"701.31,-136.02 709.73,-129.59 699.14,-129.36 701.31,-136.02\"/>\n</g>\n<!-- Internalroot&#45;&gt;Internal50 -->\n<g id=\"edge13\" class=\"edge\">\n<title>Internalroot:f50-&gt;Internal50</title>\n<path fill=\"none\" stroke=\"black\" d=\"M716,-177.5C722.23,-177.5 718.71,-169.28 724,-166 816.79,-108.47 859.14,-146.91 967,-130 968.95,-129.69 970.92,-129.38 972.9,-129.07\"/>\n<polygon fill=\"black\" stroke=\"black\" points=\"973.55,-132.51 982.88,-127.49 972.45,-125.6 973.55,-132.51\"/>\n</g>\n</g>\n</svg>"
          },
          "metadata": {}
        }
      ],
      "source": [
        "\n",
        "print(\"Dirty another page and then trigger a checkpoint\")\n",
        "tree.Checkpoint()\n",
        "DisplayGraph(tree.display_nodes)"
      ]
    }
  ],
  "metadata": {
    "kernelspec": {
      "display_name": "Python 3 (ipykernel)",
      "language": "python",
      "name": "python3"
    },
    "language_info": {
      "codemirror_mode": {
        "name": "ipython",
        "version": 3
      },
      "file_extension": ".py",
      "mimetype": "text/x-python",
      "name": "python",
      "nbconvert_exporter": "python",
      "pygments_lexer": "ipython3",
      "version": "3.9.6"
    },
    "colab": {
      "provenance": []
    },
    "widgets": {
      "application/vnd.jupyter.widget-state+json": {
        "283939953c3245dbb106c5efc0e2297c": {
          "model_module": "@jupyter-widgets/controls",
          "model_name": "VBoxModel",
          "model_module_version": "1.5.0",
          "state": {
            "_dom_classes": [
              "widget-interact"
            ],
            "_model_module": "@jupyter-widgets/controls",
            "_model_module_version": "1.5.0",
            "_model_name": "VBoxModel",
            "_view_count": null,
            "_view_module": "@jupyter-widgets/controls",
            "_view_module_version": "1.5.0",
            "_view_name": "VBoxView",
            "box_style": "",
            "children": [
              "IPY_MODEL_34b40caf943e4351b6a898da7203011e",
              "IPY_MODEL_9735d6d3f62f4987a76ec8172ca51bf9",
              "IPY_MODEL_96f061e95cca482db2605d436ac8931c",
              "IPY_MODEL_d44aa415d8ab40359f49ca126f15bee7",
              "IPY_MODEL_488e17c55f774818976655acc69d3812",
              "IPY_MODEL_472ec465366b4607995835f7e50db6c3"
            ],
            "layout": "IPY_MODEL_8f03a2036a684c0991c30b8bf83f552f"
          }
        },
        "34b40caf943e4351b6a898da7203011e": {
          "model_module": "@jupyter-widgets/controls",
          "model_name": "DropdownModel",
          "model_module_version": "1.5.0",
          "state": {
            "_dom_classes": [],
            "_model_module": "@jupyter-widgets/controls",
            "_model_module_version": "1.5.0",
            "_model_name": "DropdownModel",
            "_options_labels": [
              "gini",
              "entropy"
            ],
            "_view_count": null,
            "_view_module": "@jupyter-widgets/controls",
            "_view_module_version": "1.5.0",
            "_view_name": "DropdownView",
            "description": "crit",
            "description_tooltip": null,
            "disabled": false,
            "index": 0,
            "layout": "IPY_MODEL_cccce40640af490ca30593bbaa72341c",
            "style": "IPY_MODEL_b9742a35f74e448ba4059380a706b364"
          }
        },
        "9735d6d3f62f4987a76ec8172ca51bf9": {
          "model_module": "@jupyter-widgets/controls",
          "model_name": "DropdownModel",
          "model_module_version": "1.5.0",
          "state": {
            "_dom_classes": [],
            "_model_module": "@jupyter-widgets/controls",
            "_model_module_version": "1.5.0",
            "_model_name": "DropdownModel",
            "_options_labels": [
              "best",
              "random"
            ],
            "_view_count": null,
            "_view_module": "@jupyter-widgets/controls",
            "_view_module_version": "1.5.0",
            "_view_name": "DropdownView",
            "description": "split",
            "description_tooltip": null,
            "disabled": false,
            "index": 0,
            "layout": "IPY_MODEL_6694dc950762442eae6db77a99187229",
            "style": "IPY_MODEL_d03fe22ba33346159773b5c5c1f5b068"
          }
        },
        "96f061e95cca482db2605d436ac8931c": {
          "model_module": "@jupyter-widgets/controls",
          "model_name": "DropdownModel",
          "model_module_version": "1.5.0",
          "state": {
            "_dom_classes": [],
            "_model_module": "@jupyter-widgets/controls",
            "_model_module_version": "1.5.0",
            "_model_name": "DropdownModel",
            "_options_labels": [
              "1",
              "2",
              "3",
              "4"
            ],
            "_view_count": null,
            "_view_module": "@jupyter-widgets/controls",
            "_view_module_version": "1.5.0",
            "_view_name": "DropdownView",
            "description": "depth",
            "description_tooltip": null,
            "disabled": false,
            "index": 0,
            "layout": "IPY_MODEL_875ccd2410da4241baa6a6ed533e0aa7",
            "style": "IPY_MODEL_a4de5ba510244de5bf4bdf269736614e"
          }
        },
        "d44aa415d8ab40359f49ca126f15bee7": {
          "model_module": "@jupyter-widgets/controls",
          "model_name": "FloatSliderModel",
          "model_module_version": "1.5.0",
          "state": {
            "_dom_classes": [],
            "_model_module": "@jupyter-widgets/controls",
            "_model_module_version": "1.5.0",
            "_model_name": "FloatSliderModel",
            "_view_count": null,
            "_view_module": "@jupyter-widgets/controls",
            "_view_module_version": "1.5.0",
            "_view_name": "FloatSliderView",
            "continuous_update": true,
            "description": "min_split",
            "description_tooltip": null,
            "disabled": false,
            "layout": "IPY_MODEL_0b3da3ecbf0f487baa7313fc40ea3287",
            "max": 1,
            "min": 0.1,
            "orientation": "horizontal",
            "readout": true,
            "readout_format": ".2f",
            "step": 0.1,
            "style": "IPY_MODEL_293507bd184a478aa6468f43ddd7902f",
            "value": 0.55
          }
        },
        "488e17c55f774818976655acc69d3812": {
          "model_module": "@jupyter-widgets/controls",
          "model_name": "FloatSliderModel",
          "model_module_version": "1.5.0",
          "state": {
            "_dom_classes": [],
            "_model_module": "@jupyter-widgets/controls",
            "_model_module_version": "1.5.0",
            "_model_name": "FloatSliderModel",
            "_view_count": null,
            "_view_module": "@jupyter-widgets/controls",
            "_view_module_version": "1.5.0",
            "_view_name": "FloatSliderView",
            "continuous_update": true,
            "description": "min_leaf",
            "description_tooltip": null,
            "disabled": false,
            "layout": "IPY_MODEL_300f77963ac04b5297597f4ad326ce72",
            "max": 0.5,
            "min": 0.1,
            "orientation": "horizontal",
            "readout": true,
            "readout_format": ".2f",
            "step": 0.1,
            "style": "IPY_MODEL_7d266cb96a10422eb64053f56e201ee2",
            "value": 0.2
          }
        },
        "472ec465366b4607995835f7e50db6c3": {
          "model_module": "@jupyter-widgets/output",
          "model_name": "OutputModel",
          "model_module_version": "1.0.0",
          "state": {
            "_dom_classes": [],
            "_model_module": "@jupyter-widgets/output",
            "_model_module_version": "1.0.0",
            "_model_name": "OutputModel",
            "_view_count": null,
            "_view_module": "@jupyter-widgets/output",
            "_view_module_version": "1.0.0",
            "_view_name": "OutputView",
            "layout": "IPY_MODEL_5889e6637a2a406eae41f49819711544",
            "msg_id": "",
            "outputs": [
              {
                "output_type": "display_data",
                "data": {
                  "text/plain": "<IPython.core.display.SVG object>",
                  "image/svg+xml": "<svg xmlns=\"http://www.w3.org/2000/svg\" xmlns:xlink=\"http://www.w3.org/1999/xlink\" width=\"268pt\" height=\"195pt\" viewBox=\"0.00 0.00 268.00 195.00\">\n<g id=\"graph0\" class=\"graph\" transform=\"scale(1 1) rotate(0) translate(4 191)\">\n<title>Tree</title>\n<polygon fill=\"white\" stroke=\"transparent\" points=\"-4,4 -4,-191 264,-191 264,4 -4,4\"/>\n<!-- 0 -->\n<g id=\"node1\" class=\"node\">\n<title>0</title>\n<polygon fill=\"#ebfcf2\" stroke=\"black\" points=\"197.5,-187 65.5,-187 65.5,-104 197.5,-104 197.5,-187\"/>\n<text text-anchor=\"middle\" x=\"131.5\" y=\"-171.8\" font-family=\"Helvetica,sans-Serif\" font-size=\"14.00\">proline &lt;= 755.0</text>\n<text text-anchor=\"middle\" x=\"131.5\" y=\"-156.8\" font-family=\"Helvetica,sans-Serif\" font-size=\"14.00\">gini = 0.658</text>\n<text text-anchor=\"middle\" x=\"131.5\" y=\"-141.8\" font-family=\"Helvetica,sans-Serif\" font-size=\"14.00\">samples = 178</text>\n<text text-anchor=\"middle\" x=\"131.5\" y=\"-126.8\" font-family=\"Helvetica,sans-Serif\" font-size=\"14.00\">value = [59, 71, 48]</text>\n<text text-anchor=\"middle\" x=\"131.5\" y=\"-111.8\" font-family=\"Helvetica,sans-Serif\" font-size=\"14.00\">class = 1</text>\n</g>\n<!-- 1 -->\n<g id=\"node2\" class=\"node\">\n<title>1</title>\n<polygon fill=\"#b7f6d1\" stroke=\"black\" points=\"125,-68 0,-68 0,0 125,0 125,-68\"/>\n<text text-anchor=\"middle\" x=\"62.5\" y=\"-52.8\" font-family=\"Helvetica,sans-Serif\" font-size=\"14.00\">gini = 0.492</text>\n<text text-anchor=\"middle\" x=\"62.5\" y=\"-37.8\" font-family=\"Helvetica,sans-Serif\" font-size=\"14.00\">samples = 111</text>\n<text text-anchor=\"middle\" x=\"62.5\" y=\"-22.8\" font-family=\"Helvetica,sans-Serif\" font-size=\"14.00\">value = [2, 67, 42]</text>\n<text text-anchor=\"middle\" x=\"62.5\" y=\"-7.8\" font-family=\"Helvetica,sans-Serif\" font-size=\"14.00\">class = 1</text>\n</g>\n<!-- 0&#45;&gt;1 -->\n<g id=\"edge1\" class=\"edge\">\n<title>0-&gt;1</title>\n<path fill=\"none\" stroke=\"black\" d=\"M105.81,-103.73C100.29,-94.97 94.45,-85.7 88.91,-76.91\"/>\n<polygon fill=\"black\" stroke=\"black\" points=\"91.78,-74.89 83.48,-68.3 85.85,-78.63 91.78,-74.89\"/>\n<text text-anchor=\"middle\" x=\"77.95\" y=\"-88.98\" font-family=\"Helvetica,sans-Serif\" font-size=\"14.00\">True</text>\n</g>\n<!-- 2 -->\n<g id=\"node3\" class=\"node\">\n<title>2</title>\n<polygon fill=\"#e99659\" stroke=\"black\" points=\"260,-68 143,-68 143,0 260,0 260,-68\"/>\n<text text-anchor=\"middle\" x=\"201.5\" y=\"-52.8\" font-family=\"Helvetica,sans-Serif\" font-size=\"14.00\">gini = 0.265</text>\n<text text-anchor=\"middle\" x=\"201.5\" y=\"-37.8\" font-family=\"Helvetica,sans-Serif\" font-size=\"14.00\">samples = 67</text>\n<text text-anchor=\"middle\" x=\"201.5\" y=\"-22.8\" font-family=\"Helvetica,sans-Serif\" font-size=\"14.00\">value = [57, 4, 6]</text>\n<text text-anchor=\"middle\" x=\"201.5\" y=\"-7.8\" font-family=\"Helvetica,sans-Serif\" font-size=\"14.00\">class = 0</text>\n</g>\n<!-- 0&#45;&gt;2 -->\n<g id=\"edge2\" class=\"edge\">\n<title>0-&gt;2</title>\n<path fill=\"none\" stroke=\"black\" d=\"M157.57,-103.73C163.16,-94.97 169.09,-85.7 174.71,-76.91\"/>\n<polygon fill=\"black\" stroke=\"black\" points=\"177.78,-78.61 180.21,-68.3 171.88,-74.84 177.78,-78.61\"/>\n<text text-anchor=\"middle\" x=\"185.59\" y=\"-89.02\" font-family=\"Helvetica,sans-Serif\" font-size=\"14.00\">False</text>\n</g>\n</g>\n</svg>"
                },
                "metadata": {}
              }
            ]
          }
        },
        "8f03a2036a684c0991c30b8bf83f552f": {
          "model_module": "@jupyter-widgets/base",
          "model_name": "LayoutModel",
          "model_module_version": "1.2.0",
          "state": {
            "_model_module": "@jupyter-widgets/base",
            "_model_module_version": "1.2.0",
            "_model_name": "LayoutModel",
            "_view_count": null,
            "_view_module": "@jupyter-widgets/base",
            "_view_module_version": "1.2.0",
            "_view_name": "LayoutView",
            "align_content": null,
            "align_items": null,
            "align_self": null,
            "border": null,
            "bottom": null,
            "display": null,
            "flex": null,
            "flex_flow": null,
            "grid_area": null,
            "grid_auto_columns": null,
            "grid_auto_flow": null,
            "grid_auto_rows": null,
            "grid_column": null,
            "grid_gap": null,
            "grid_row": null,
            "grid_template_areas": null,
            "grid_template_columns": null,
            "grid_template_rows": null,
            "height": null,
            "justify_content": null,
            "justify_items": null,
            "left": null,
            "margin": null,
            "max_height": null,
            "max_width": null,
            "min_height": null,
            "min_width": null,
            "object_fit": null,
            "object_position": null,
            "order": null,
            "overflow": null,
            "overflow_x": null,
            "overflow_y": null,
            "padding": null,
            "right": null,
            "top": null,
            "visibility": null,
            "width": null
          }
        },
        "cccce40640af490ca30593bbaa72341c": {
          "model_module": "@jupyter-widgets/base",
          "model_name": "LayoutModel",
          "model_module_version": "1.2.0",
          "state": {
            "_model_module": "@jupyter-widgets/base",
            "_model_module_version": "1.2.0",
            "_model_name": "LayoutModel",
            "_view_count": null,
            "_view_module": "@jupyter-widgets/base",
            "_view_module_version": "1.2.0",
            "_view_name": "LayoutView",
            "align_content": null,
            "align_items": null,
            "align_self": null,
            "border": null,
            "bottom": null,
            "display": null,
            "flex": null,
            "flex_flow": null,
            "grid_area": null,
            "grid_auto_columns": null,
            "grid_auto_flow": null,
            "grid_auto_rows": null,
            "grid_column": null,
            "grid_gap": null,
            "grid_row": null,
            "grid_template_areas": null,
            "grid_template_columns": null,
            "grid_template_rows": null,
            "height": null,
            "justify_content": null,
            "justify_items": null,
            "left": null,
            "margin": null,
            "max_height": null,
            "max_width": null,
            "min_height": null,
            "min_width": null,
            "object_fit": null,
            "object_position": null,
            "order": null,
            "overflow": null,
            "overflow_x": null,
            "overflow_y": null,
            "padding": null,
            "right": null,
            "top": null,
            "visibility": null,
            "width": null
          }
        },
        "b9742a35f74e448ba4059380a706b364": {
          "model_module": "@jupyter-widgets/controls",
          "model_name": "DescriptionStyleModel",
          "model_module_version": "1.5.0",
          "state": {
            "_model_module": "@jupyter-widgets/controls",
            "_model_module_version": "1.5.0",
            "_model_name": "DescriptionStyleModel",
            "_view_count": null,
            "_view_module": "@jupyter-widgets/base",
            "_view_module_version": "1.2.0",
            "_view_name": "StyleView",
            "description_width": ""
          }
        },
        "6694dc950762442eae6db77a99187229": {
          "model_module": "@jupyter-widgets/base",
          "model_name": "LayoutModel",
          "model_module_version": "1.2.0",
          "state": {
            "_model_module": "@jupyter-widgets/base",
            "_model_module_version": "1.2.0",
            "_model_name": "LayoutModel",
            "_view_count": null,
            "_view_module": "@jupyter-widgets/base",
            "_view_module_version": "1.2.0",
            "_view_name": "LayoutView",
            "align_content": null,
            "align_items": null,
            "align_self": null,
            "border": null,
            "bottom": null,
            "display": null,
            "flex": null,
            "flex_flow": null,
            "grid_area": null,
            "grid_auto_columns": null,
            "grid_auto_flow": null,
            "grid_auto_rows": null,
            "grid_column": null,
            "grid_gap": null,
            "grid_row": null,
            "grid_template_areas": null,
            "grid_template_columns": null,
            "grid_template_rows": null,
            "height": null,
            "justify_content": null,
            "justify_items": null,
            "left": null,
            "margin": null,
            "max_height": null,
            "max_width": null,
            "min_height": null,
            "min_width": null,
            "object_fit": null,
            "object_position": null,
            "order": null,
            "overflow": null,
            "overflow_x": null,
            "overflow_y": null,
            "padding": null,
            "right": null,
            "top": null,
            "visibility": null,
            "width": null
          }
        },
        "d03fe22ba33346159773b5c5c1f5b068": {
          "model_module": "@jupyter-widgets/controls",
          "model_name": "DescriptionStyleModel",
          "model_module_version": "1.5.0",
          "state": {
            "_model_module": "@jupyter-widgets/controls",
            "_model_module_version": "1.5.0",
            "_model_name": "DescriptionStyleModel",
            "_view_count": null,
            "_view_module": "@jupyter-widgets/base",
            "_view_module_version": "1.2.0",
            "_view_name": "StyleView",
            "description_width": ""
          }
        },
        "875ccd2410da4241baa6a6ed533e0aa7": {
          "model_module": "@jupyter-widgets/base",
          "model_name": "LayoutModel",
          "model_module_version": "1.2.0",
          "state": {
            "_model_module": "@jupyter-widgets/base",
            "_model_module_version": "1.2.0",
            "_model_name": "LayoutModel",
            "_view_count": null,
            "_view_module": "@jupyter-widgets/base",
            "_view_module_version": "1.2.0",
            "_view_name": "LayoutView",
            "align_content": null,
            "align_items": null,
            "align_self": null,
            "border": null,
            "bottom": null,
            "display": null,
            "flex": null,
            "flex_flow": null,
            "grid_area": null,
            "grid_auto_columns": null,
            "grid_auto_flow": null,
            "grid_auto_rows": null,
            "grid_column": null,
            "grid_gap": null,
            "grid_row": null,
            "grid_template_areas": null,
            "grid_template_columns": null,
            "grid_template_rows": null,
            "height": null,
            "justify_content": null,
            "justify_items": null,
            "left": null,
            "margin": null,
            "max_height": null,
            "max_width": null,
            "min_height": null,
            "min_width": null,
            "object_fit": null,
            "object_position": null,
            "order": null,
            "overflow": null,
            "overflow_x": null,
            "overflow_y": null,
            "padding": null,
            "right": null,
            "top": null,
            "visibility": null,
            "width": null
          }
        },
        "a4de5ba510244de5bf4bdf269736614e": {
          "model_module": "@jupyter-widgets/controls",
          "model_name": "DescriptionStyleModel",
          "model_module_version": "1.5.0",
          "state": {
            "_model_module": "@jupyter-widgets/controls",
            "_model_module_version": "1.5.0",
            "_model_name": "DescriptionStyleModel",
            "_view_count": null,
            "_view_module": "@jupyter-widgets/base",
            "_view_module_version": "1.2.0",
            "_view_name": "StyleView",
            "description_width": ""
          }
        },
        "0b3da3ecbf0f487baa7313fc40ea3287": {
          "model_module": "@jupyter-widgets/base",
          "model_name": "LayoutModel",
          "model_module_version": "1.2.0",
          "state": {
            "_model_module": "@jupyter-widgets/base",
            "_model_module_version": "1.2.0",
            "_model_name": "LayoutModel",
            "_view_count": null,
            "_view_module": "@jupyter-widgets/base",
            "_view_module_version": "1.2.0",
            "_view_name": "LayoutView",
            "align_content": null,
            "align_items": null,
            "align_self": null,
            "border": null,
            "bottom": null,
            "display": null,
            "flex": null,
            "flex_flow": null,
            "grid_area": null,
            "grid_auto_columns": null,
            "grid_auto_flow": null,
            "grid_auto_rows": null,
            "grid_column": null,
            "grid_gap": null,
            "grid_row": null,
            "grid_template_areas": null,
            "grid_template_columns": null,
            "grid_template_rows": null,
            "height": null,
            "justify_content": null,
            "justify_items": null,
            "left": null,
            "margin": null,
            "max_height": null,
            "max_width": null,
            "min_height": null,
            "min_width": null,
            "object_fit": null,
            "object_position": null,
            "order": null,
            "overflow": null,
            "overflow_x": null,
            "overflow_y": null,
            "padding": null,
            "right": null,
            "top": null,
            "visibility": null,
            "width": null
          }
        },
        "293507bd184a478aa6468f43ddd7902f": {
          "model_module": "@jupyter-widgets/controls",
          "model_name": "SliderStyleModel",
          "model_module_version": "1.5.0",
          "state": {
            "_model_module": "@jupyter-widgets/controls",
            "_model_module_version": "1.5.0",
            "_model_name": "SliderStyleModel",
            "_view_count": null,
            "_view_module": "@jupyter-widgets/base",
            "_view_module_version": "1.2.0",
            "_view_name": "StyleView",
            "description_width": "",
            "handle_color": null
          }
        },
        "300f77963ac04b5297597f4ad326ce72": {
          "model_module": "@jupyter-widgets/base",
          "model_name": "LayoutModel",
          "model_module_version": "1.2.0",
          "state": {
            "_model_module": "@jupyter-widgets/base",
            "_model_module_version": "1.2.0",
            "_model_name": "LayoutModel",
            "_view_count": null,
            "_view_module": "@jupyter-widgets/base",
            "_view_module_version": "1.2.0",
            "_view_name": "LayoutView",
            "align_content": null,
            "align_items": null,
            "align_self": null,
            "border": null,
            "bottom": null,
            "display": null,
            "flex": null,
            "flex_flow": null,
            "grid_area": null,
            "grid_auto_columns": null,
            "grid_auto_flow": null,
            "grid_auto_rows": null,
            "grid_column": null,
            "grid_gap": null,
            "grid_row": null,
            "grid_template_areas": null,
            "grid_template_columns": null,
            "grid_template_rows": null,
            "height": null,
            "justify_content": null,
            "justify_items": null,
            "left": null,
            "margin": null,
            "max_height": null,
            "max_width": null,
            "min_height": null,
            "min_width": null,
            "object_fit": null,
            "object_position": null,
            "order": null,
            "overflow": null,
            "overflow_x": null,
            "overflow_y": null,
            "padding": null,
            "right": null,
            "top": null,
            "visibility": null,
            "width": null
          }
        },
        "7d266cb96a10422eb64053f56e201ee2": {
          "model_module": "@jupyter-widgets/controls",
          "model_name": "SliderStyleModel",
          "model_module_version": "1.5.0",
          "state": {
            "_model_module": "@jupyter-widgets/controls",
            "_model_module_version": "1.5.0",
            "_model_name": "SliderStyleModel",
            "_view_count": null,
            "_view_module": "@jupyter-widgets/base",
            "_view_module_version": "1.2.0",
            "_view_name": "StyleView",
            "description_width": "",
            "handle_color": null
          }
        },
        "5889e6637a2a406eae41f49819711544": {
          "model_module": "@jupyter-widgets/base",
          "model_name": "LayoutModel",
          "model_module_version": "1.2.0",
          "state": {
            "_model_module": "@jupyter-widgets/base",
            "_model_module_version": "1.2.0",
            "_model_name": "LayoutModel",
            "_view_count": null,
            "_view_module": "@jupyter-widgets/base",
            "_view_module_version": "1.2.0",
            "_view_name": "LayoutView",
            "align_content": null,
            "align_items": null,
            "align_self": null,
            "border": null,
            "bottom": null,
            "display": null,
            "flex": null,
            "flex_flow": null,
            "grid_area": null,
            "grid_auto_columns": null,
            "grid_auto_flow": null,
            "grid_auto_rows": null,
            "grid_column": null,
            "grid_gap": null,
            "grid_row": null,
            "grid_template_areas": null,
            "grid_template_columns": null,
            "grid_template_rows": null,
            "height": null,
            "justify_content": null,
            "justify_items": null,
            "left": null,
            "margin": null,
            "max_height": null,
            "max_width": null,
            "min_height": null,
            "min_width": null,
            "object_fit": null,
            "object_position": null,
            "order": null,
            "overflow": null,
            "overflow_x": null,
            "overflow_y": null,
            "padding": null,
            "right": null,
            "top": null,
            "visibility": null,
            "width": null
          }
        }
      }
    }
  },
  "nbformat": 4,
  "nbformat_minor": 5
}