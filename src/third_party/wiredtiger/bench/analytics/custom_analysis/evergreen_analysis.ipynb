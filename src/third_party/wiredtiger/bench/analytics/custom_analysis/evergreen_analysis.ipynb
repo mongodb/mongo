{
 "cells": [
  {
   "cell_type": "markdown",
   "id": "0dd5d316",
   "metadata": {},
   "source": [
    "## Evergreen data extraction and analysis\n",
    "This notebook demonstrates how to extract historical wiredtiger performance data from evergreen and produce a simple chart as an example of custom analysis."
   ]
  },
  {
   "cell_type": "markdown",
   "id": "intense-watson",
   "metadata": {},
   "source": [
    "First, we can use the public REST APIs provided by both Evergreen and Cedar to gather historical data. No authentication is required for this process and documentation for how to use these APIs can be found [here](https://github.com/evergreen-ci/evergreen/wiki/REST-V1-Usage) for Evergreen and [here](https://github.com/evergreen-ci/cedar/wiki/Rest-V1-Usage) for Cedar.\n",
    "\n",
    "**Note: This step may take a while to finish downloading data. Make sure you wait for this step to complete before moving onto the next one.**"
   ]
  },
  {
   "cell_type": "code",
   "execution_count": 1,
   "id": "personal-filename",
   "metadata": {},
   "outputs": [
    {
     "name": "stdout",
     "output_type": "stream",
     "text": [
      "Warning: can't find details for `wiredtiger_53c935945568b2acc00bd2b0047133790d15a32c`. Skipping these results\n",
      "Warning: can't find details for `wiredtiger_07cd767ca19bbc2aaef0a82469992e7b3dadfaed`. Skipping these results\n",
      "Warning: can't find details for `wiredtiger_7dead6ad871103c488722d2f589f4f09c37d6267`. Skipping these results\n",
      "Warning: can't find details for `wiredtiger_4df85221d3b2181935eddca520d17513a9c39ef5`. Skipping these results\n",
      "Warning: can't find details for `wiredtiger_ab8f444cf493a7133e85cbee1a5847c410770bcd`. Skipping these results\n"
     ]
    }
   ],
   "source": [
    "import requests\n",
    "\n",
    "# Get the last 100 builds from evergreen.\n",
    "r = requests.get(f\"https://evergreen.mongodb.com/rest/v1/projects/wiredtiger/versions?limit=100\")\n",
    "last_100_versions = [ v[\"version_id\"] for v in r.json()[\"versions\"] ]\n",
    "\n",
    "# Get the performance results from these builds from Cedar.\n",
    "last_100_versions_data = []\n",
    "for version in last_100_versions:\n",
    "    r = requests.get(f\"https://cedar.mongodb.com/rest/v1/perf/version/{version}\")\n",
    "\n",
    "    if not r:\n",
    "        # This will happen when perf data has not yet been collected for the build, or if the job failed.\n",
    "        print(f\"Warning: can't find details for `{version}`. Skipping these results\")\n",
    "        continue\n",
    "\n",
    "    last_100_versions_data.append(r.json())"
   ]
  },
  {
   "cell_type": "markdown",
   "id": "66119694",
   "metadata": {},
   "source": [
    "The data provided by Evergreen and Cedar is in `json` format, allowing for easy manipulation in Python.\n",
    "In the example below the `Load time` results for `perf-test-long-btree` test have been extracted"
   ]
  },
  {
   "cell_type": "code",
   "execution_count": 2,
   "id": "fbcb2f1e",
   "metadata": {},
   "outputs": [],
   "source": [
    "data = []\n",
    "for v in last_100_versions_data:\n",
    "    for test in v:\n",
    "        if test[\"info\"][\"task_name\"] == \"perf-test-long-btree\":\n",
    "            for stat in test[\"rollups\"][\"stats\"]:\n",
    "                if stat[\"name\"] == \"Load time\":\n",
    "                    data.append(stat[\"val\"])"
   ]
  },
  {
   "cell_type": "markdown",
   "id": "efc7613c",
   "metadata": {},
   "source": [
    "and a simple plot generated"
   ]
  },
  {
   "cell_type": "code",
   "execution_count": 3,
   "id": "1fd55331",
   "metadata": {},
   "outputs": [
    {
     "name": "stdout",
     "output_type": "stream",
     "text": [
      "99\n"
     ]
    },
    {
     "data": {
      "text/plain": [
       "[<matplotlib.lines.Line2D at 0x7f86c76e1400>]"
      ]
     },
     "execution_count": 3,
     "metadata": {},
     "output_type": "execute_result"
    },
    {
     "data": {
      "image/png": "[encoded data removed]",
      "text/plain": [
       "<Figure size 432x288 with 1 Axes>"
      ]
     },
     "metadata": {
      "needs_background": "light"
     },
     "output_type": "display_data"
    }
   ],
   "source": [
    "from matplotlib import pyplot as plt\n",
    "\n",
    "print(len(data))\n",
    "plt.plot(data)"
   ]
  }
 ],
 "metadata": {
  "kernelspec": {
   "display_name": "Python 3",
   "language": "python",
   "name": "python3"
  },
  "language_info": {
   "codemirror_mode": {
    "name": "ipython",
    "version": 3
   },
   "file_extension": ".py",
   "mimetype": "text/x-python",
   "name": "python",
   "nbconvert_exporter": "python",
   "pygments_lexer": "ipython3",
   "version": "3.6.9"
  }
 },
 "nbformat": 4,
 "nbformat_minor": 5
}
